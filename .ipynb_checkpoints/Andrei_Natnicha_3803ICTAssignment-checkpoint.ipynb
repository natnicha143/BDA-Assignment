{
 "cells": [
  {
   "cell_type": "markdown",
   "metadata": {},
   "source": [
    "# Part 1 - Data Preparation and Preprocessing [8 Points]\n"
   ]
  },
  {
   "cell_type": "code",
   "execution_count": 2,
   "metadata": {},
   "outputs": [],
   "source": [
    "# IMPORT MODULES\n",
    "import pandas as pd\n",
    "import re"
   ]
  },
  {
   "cell_type": "code",
   "execution_count": 3,
   "metadata": {
    "scrolled": true
   },
   "outputs": [
    {
     "name": "stderr",
     "output_type": "stream",
     "text": [
      "C:\\Users\\andre\\Anaconda3\\lib\\site-packages\\IPython\\core\\interactiveshell.py:3020: DtypeWarning: Columns (0,4,5,6,7) have mixed types. Specify dtype option on import or set low_memory=False.\n",
      "  interactivity=interactivity, compiler=compiler, result=result)\n"
     ]
    },
    {
     "data": {
      "text/html": [
       "<div>\n",
       "<style scoped>\n",
       "    .dataframe tbody tr th:only-of-type {\n",
       "        vertical-align: middle;\n",
       "    }\n",
       "\n",
       "    .dataframe tbody tr th {\n",
       "        vertical-align: top;\n",
       "    }\n",
       "\n",
       "    .dataframe thead th {\n",
       "        text-align: right;\n",
       "    }\n",
       "</style>\n",
       "<table border=\"1\" class=\"dataframe\">\n",
       "  <thead>\n",
       "    <tr style=\"text-align: right;\">\n",
       "      <th></th>\n",
       "      <th>Id</th>\n",
       "      <th>Title</th>\n",
       "      <th>Company</th>\n",
       "      <th>Date</th>\n",
       "      <th>Location</th>\n",
       "      <th>Area</th>\n",
       "      <th>Classification</th>\n",
       "      <th>SubClassification</th>\n",
       "      <th>Requirement</th>\n",
       "      <th>FullDescription</th>\n",
       "      <th>LowestSalary</th>\n",
       "      <th>HighestSalary</th>\n",
       "      <th>JobType</th>\n",
       "    </tr>\n",
       "  </thead>\n",
       "  <tbody>\n",
       "    <tr>\n",
       "      <th>0</th>\n",
       "      <td>37404348</td>\n",
       "      <td>Casual Stock Replenisher</td>\n",
       "      <td>Aldi Stores</td>\n",
       "      <td>2018-10-07T00:00:00.000Z</td>\n",
       "      <td>Sydney</td>\n",
       "      <td>North West &amp; Hills District</td>\n",
       "      <td>Retail &amp; Consumer Products</td>\n",
       "      <td>Retail Assistants</td>\n",
       "      <td>Our Casual Stock Replenishers pride themselves...</td>\n",
       "      <td>NaN</td>\n",
       "      <td>0</td>\n",
       "      <td>30</td>\n",
       "      <td>NaN</td>\n",
       "    </tr>\n",
       "    <tr>\n",
       "      <th>1</th>\n",
       "      <td>37404337</td>\n",
       "      <td>Casual Stock Replenisher</td>\n",
       "      <td>Aldi Stores</td>\n",
       "      <td>2018-10-07T00:00:00.000Z</td>\n",
       "      <td>Richmond &amp; Hawkesbury</td>\n",
       "      <td>NaN</td>\n",
       "      <td>Retail &amp; Consumer Products</td>\n",
       "      <td>Retail Assistants</td>\n",
       "      <td>Our Casual Stock Replenishers pride themselves...</td>\n",
       "      <td>NaN</td>\n",
       "      <td>0</td>\n",
       "      <td>30</td>\n",
       "      <td>NaN</td>\n",
       "    </tr>\n",
       "    <tr>\n",
       "      <th>2</th>\n",
       "      <td>37404356</td>\n",
       "      <td>RETAIL SALES SUPERSTARS and STYLISTS Wanted - ...</td>\n",
       "      <td>LB Creative Pty Ltd</td>\n",
       "      <td>2018-10-07T00:00:00.000Z</td>\n",
       "      <td>Brisbane</td>\n",
       "      <td>CBD &amp; Inner Suburbs</td>\n",
       "      <td>Retail &amp; Consumer Products</td>\n",
       "      <td>Retail Assistants</td>\n",
       "      <td>BRAND NEW FLAGSHIP STORE OPENING - SUNSHINE PLAZA</td>\n",
       "      <td>NaN</td>\n",
       "      <td>0</td>\n",
       "      <td>30</td>\n",
       "      <td>NaN</td>\n",
       "    </tr>\n",
       "    <tr>\n",
       "      <th>3</th>\n",
       "      <td>37404330</td>\n",
       "      <td>Team member - Belrose</td>\n",
       "      <td>Anaconda Group Pty Ltd</td>\n",
       "      <td>2018-10-07T00:00:00.000Z</td>\n",
       "      <td>Gosford &amp; Central Coast</td>\n",
       "      <td>NaN</td>\n",
       "      <td>Retail &amp; Consumer Products</td>\n",
       "      <td>Retail Assistants</td>\n",
       "      <td>Bring it on - do you love the great outdoors a...</td>\n",
       "      <td>NaN</td>\n",
       "      <td>0</td>\n",
       "      <td>30</td>\n",
       "      <td>NaN</td>\n",
       "    </tr>\n",
       "    <tr>\n",
       "      <th>4</th>\n",
       "      <td>37404308</td>\n",
       "      <td>Business Banking Contact Centre Specialist, Ni...</td>\n",
       "      <td>Commonwealth Bank - Business &amp; Private Banking</td>\n",
       "      <td>2018-10-07T00:00:00.000Z</td>\n",
       "      <td>Sydney</td>\n",
       "      <td>Ryde &amp; Macquarie Park</td>\n",
       "      <td>Call Centre &amp; Customer Service</td>\n",
       "      <td>Sales - Inbound</td>\n",
       "      <td>We are seeking highly articulate, enthusiastic...</td>\n",
       "      <td>NaN</td>\n",
       "      <td>0</td>\n",
       "      <td>30</td>\n",
       "      <td>NaN</td>\n",
       "    </tr>\n",
       "  </tbody>\n",
       "</table>\n",
       "</div>"
      ],
      "text/plain": [
       "         Id                                              Title  \\\n",
       "0  37404348                           Casual Stock Replenisher   \n",
       "1  37404337                           Casual Stock Replenisher   \n",
       "2  37404356  RETAIL SALES SUPERSTARS and STYLISTS Wanted - ...   \n",
       "3  37404330                              Team member - Belrose   \n",
       "4  37404308  Business Banking Contact Centre Specialist, Ni...   \n",
       "\n",
       "                                          Company                      Date  \\\n",
       "0                                     Aldi Stores  2018-10-07T00:00:00.000Z   \n",
       "1                                     Aldi Stores  2018-10-07T00:00:00.000Z   \n",
       "2                             LB Creative Pty Ltd  2018-10-07T00:00:00.000Z   \n",
       "3                          Anaconda Group Pty Ltd  2018-10-07T00:00:00.000Z   \n",
       "4  Commonwealth Bank - Business & Private Banking  2018-10-07T00:00:00.000Z   \n",
       "\n",
       "                  Location                         Area  \\\n",
       "0                   Sydney  North West & Hills District   \n",
       "1    Richmond & Hawkesbury                          NaN   \n",
       "2                 Brisbane          CBD & Inner Suburbs   \n",
       "3  Gosford & Central Coast                          NaN   \n",
       "4                   Sydney        Ryde & Macquarie Park   \n",
       "\n",
       "                   Classification  SubClassification  \\\n",
       "0      Retail & Consumer Products  Retail Assistants   \n",
       "1      Retail & Consumer Products  Retail Assistants   \n",
       "2      Retail & Consumer Products  Retail Assistants   \n",
       "3      Retail & Consumer Products  Retail Assistants   \n",
       "4  Call Centre & Customer Service    Sales - Inbound   \n",
       "\n",
       "                                         Requirement FullDescription  \\\n",
       "0  Our Casual Stock Replenishers pride themselves...             NaN   \n",
       "1  Our Casual Stock Replenishers pride themselves...             NaN   \n",
       "2  BRAND NEW FLAGSHIP STORE OPENING - SUNSHINE PLAZA             NaN   \n",
       "3  Bring it on - do you love the great outdoors a...             NaN   \n",
       "4  We are seeking highly articulate, enthusiastic...             NaN   \n",
       "\n",
       "   LowestSalary  HighestSalary JobType  \n",
       "0             0             30     NaN  \n",
       "1             0             30     NaN  \n",
       "2             0             30     NaN  \n",
       "3             0             30     NaN  \n",
       "4             0             30     NaN  "
      ]
     },
     "execution_count": 3,
     "metadata": {},
     "output_type": "execute_result"
    }
   ],
   "source": [
    "# Perform data preparation and processing\n",
    "## code\n",
    "orig_df = pd.read_csv(\"data.csv\")\n",
    "orig_df.head()"
   ]
  },
  {
   "cell_type": "code",
   "execution_count": 4,
   "metadata": {},
   "outputs": [],
   "source": [
    "# drop id, drop duplicates\n",
    "orig_df = orig_df.drop_duplicates()\n",
    "orig_df = orig_df.drop(columns='Id')\n",
    "orig_df.head()"
   ]
  },
  {
   "cell_type": "code",
   "execution_count": 9,
   "metadata": {},
   "outputs": [
    {
     "data": {
      "text/html": [
       "<div>\n",
       "<style scoped>\n",
       "    .dataframe tbody tr th:only-of-type {\n",
       "        vertical-align: middle;\n",
       "    }\n",
       "\n",
       "    .dataframe tbody tr th {\n",
       "        vertical-align: top;\n",
       "    }\n",
       "\n",
       "    .dataframe thead th {\n",
       "        text-align: right;\n",
       "    }\n",
       "</style>\n",
       "<table border=\"1\" class=\"dataframe\">\n",
       "  <thead>\n",
       "    <tr style=\"text-align: right;\">\n",
       "      <th></th>\n",
       "      <th>Title</th>\n",
       "      <th>JobType</th>\n",
       "    </tr>\n",
       "  </thead>\n",
       "  <tbody>\n",
       "    <tr>\n",
       "      <th>0</th>\n",
       "      <td>Stock Replenisher</td>\n",
       "      <td>Casual/Vacation</td>\n",
       "    </tr>\n",
       "    <tr>\n",
       "      <th>1</th>\n",
       "      <td>Stock Replenisher</td>\n",
       "      <td>Casual/Vacation</td>\n",
       "    </tr>\n",
       "    <tr>\n",
       "      <th>2</th>\n",
       "      <td>RETAIL SALES SUPERSTARS and STYLISTS Wanted - ...</td>\n",
       "      <td>NaN</td>\n",
       "    </tr>\n",
       "    <tr>\n",
       "      <th>3</th>\n",
       "      <td>Team member - Belrose</td>\n",
       "      <td>NaN</td>\n",
       "    </tr>\n",
       "    <tr>\n",
       "      <th>4</th>\n",
       "      <td>Business Banking Contact Centre Specialist, Ni...</td>\n",
       "      <td>NaN</td>\n",
       "    </tr>\n",
       "  </tbody>\n",
       "</table>\n",
       "</div>"
      ],
      "text/plain": [
       "                                               Title          JobType\n",
       "0                                  Stock Replenisher  Casual/Vacation\n",
       "1                                  Stock Replenisher  Casual/Vacation\n",
       "2  RETAIL SALES SUPERSTARS and STYLISTS Wanted - ...              NaN\n",
       "3                              Team member - Belrose              NaN\n",
       "4  Business Banking Contact Centre Specialist, Ni...              NaN"
      ]
     },
     "execution_count": 9,
     "metadata": {},
     "output_type": "execute_result"
    }
   ],
   "source": [
    "# take job type from title put in job type column where job type is NaN\n",
    "jTypes = ['Casual', 'Part Time', 'Full Time']\n",
    "edited = 0\n",
    "\n",
    "for index, row in orig_df.iterrows():\n",
    "    for job in jTypes:\n",
    "        match = re.match(job, row['Title'], re.IGNORECASE)\n",
    "        \n",
    "        if match is not None:\n",
    "            # Replace the job type from the title\n",
    "            orig_df.at[index, 'Title'] = row['Title'].replace(match.group(), '')\n",
    "            \n",
    "            # If the row has no job type add it in\n",
    "            if pd.isnull(row['JobType']):\n",
    "                if job == 'Casual':\n",
    "                    orig_df.at[index, 'JobType'] = 'Casual/Vacation'\n",
    "                else:\n",
    "                    orig_df.at[index, 'JobType'] = job\n",
    "            edited += 1\n",
    "orig_df[['Title', 'JobType']].head()"
   ]
  },
  {
   "cell_type": "code",
   "execution_count": 11,
   "metadata": {},
   "outputs": [
    {
     "data": {
      "text/html": [
       "<div>\n",
       "<style scoped>\n",
       "    .dataframe tbody tr th:only-of-type {\n",
       "        vertical-align: middle;\n",
       "    }\n",
       "\n",
       "    .dataframe tbody tr th {\n",
       "        vertical-align: top;\n",
       "    }\n",
       "\n",
       "    .dataframe thead th {\n",
       "        text-align: right;\n",
       "    }\n",
       "</style>\n",
       "<table border=\"1\" class=\"dataframe\">\n",
       "  <thead>\n",
       "    <tr style=\"text-align: right;\">\n",
       "      <th></th>\n",
       "      <th>SubClassification</th>\n",
       "      <th>JobType</th>\n",
       "    </tr>\n",
       "  </thead>\n",
       "  <tbody>\n",
       "    <tr>\n",
       "      <th>0</th>\n",
       "      <td>Retail Assistants</td>\n",
       "      <td>Casual/Vacation</td>\n",
       "    </tr>\n",
       "    <tr>\n",
       "      <th>1</th>\n",
       "      <td>Retail Assistants</td>\n",
       "      <td>Casual/Vacation</td>\n",
       "    </tr>\n",
       "    <tr>\n",
       "      <th>6</th>\n",
       "      <td>Waiting Staff</td>\n",
       "      <td>Casual/Vacation</td>\n",
       "    </tr>\n",
       "    <tr>\n",
       "      <th>7</th>\n",
       "      <td>Waiting Staff</td>\n",
       "      <td>Casual/Vacation</td>\n",
       "    </tr>\n",
       "    <tr>\n",
       "      <th>9</th>\n",
       "      <td>Kitchen &amp; Sandwich Hands</td>\n",
       "      <td>Casual/Vacation</td>\n",
       "    </tr>\n",
       "  </tbody>\n",
       "</table>\n",
       "</div>"
      ],
      "text/plain": [
       "          SubClassification          JobType\n",
       "0         Retail Assistants  Casual/Vacation\n",
       "1         Retail Assistants  Casual/Vacation\n",
       "6             Waiting Staff  Casual/Vacation\n",
       "7             Waiting Staff  Casual/Vacation\n",
       "9  Kitchen & Sandwich Hands  Casual/Vacation"
      ]
     },
     "execution_count": 11,
     "metadata": {},
     "output_type": "execute_result"
    }
   ],
   "source": [
    "# create separate data frames\n",
    "job_type_df = orig_df[['SubClassification', 'JobType']].copy()\n",
    "job_type_df = job_type_df.dropna(axis=0, subset=['JobType'])\n",
    "class_subclass_df = orig_df[['SubClassification', 'Classification', 'Location']].copy()\n",
    "class_subclass_df.dropna()\n",
    "# can talk about how actual salary and full description different\n",
    "salary_df = orig_df[['SubClassification', 'Classification', 'LowestSalary', 'HighestSalary']].copy()\n",
    "job_type_df.head()"
   ]
  },
  {
   "cell_type": "markdown",
   "metadata": {},
   "source": [
    "### 1) Describe the dataset\n"
   ]
  },
  {
   "cell_type": "markdown",
   "metadata": {},
   "source": [
    "#### 1.1) What are the categories/domains of the dataset?\n",
    "\n",
    "#### 1.2) What is dataset structure/format\n",
    "\n",
    "#### 1.3) What are attributes/features of the data are you going to use?\n",
    "\n",
    "#### 1.4) Which parts of the dataset will you use or all of them?\n"
   ]
  },
  {
   "cell_type": "markdown",
   "metadata": {},
   "source": [
    "### 2) Describe the steps you used for data preparation and preprocessing"
   ]
  },
  {
   "cell_type": "markdown",
   "metadata": {},
   "source": [
    "[2-3 Paragraphs] \n",
    "#### 2.1. How did we load the data?\n",
    "#### 2.2. How did we normalize the data?\n",
    "#### 2.3. How did we clean the data?\n",
    "- Can talk about initial insights about $ salary differences in data and job type inconsistences"
   ]
  },
  {
   "cell_type": "markdown",
   "metadata": {},
   "source": [
    "### 3) What is your hypothesis about the analysis outcome?"
   ]
  },
  {
   "cell_type": "markdown",
   "metadata": {},
   "source": [
    "[1-2 paragraphs] This our hypothesis"
   ]
  },
  {
   "cell_type": "markdown",
   "metadata": {},
   "source": [
    "# Part 2 - Data Analysis and Interpretation [17 points]"
   ]
  },
  {
   "cell_type": "markdown",
   "metadata": {},
   "source": [
    "- Perform exploratory data analysis\n",
    "- Perform statistical data analysis\n",
    "- Perform predictive data analysis"
   ]
  },
  {
   "cell_type": "code",
   "execution_count": 12,
   "metadata": {},
   "outputs": [],
   "source": [
    "## CODE\n",
    "## Perform predictive on where the job market will be in x years"
   ]
  },
  {
   "cell_type": "markdown",
   "metadata": {},
   "source": [
    "### 1) Study the job metadata. Extract the relevant information to describe the job's attributes."
   ]
  },
  {
   "cell_type": "markdown",
   "metadata": {},
   "source": [
    "#### 1.1 What is the sector, sub-sector of each job?\n",
    "\n",
    "#### 1.2 Where is the location of the job?\n",
    "// maybe CBD vs inner suburbs vs other\n",
    "#### 1.3 Which is the range of salaries for each job? \n",
    "\n",
    "[1-2 paragraphs]"
   ]
  },
  {
   "cell_type": "markdown",
   "metadata": {},
   "source": [
    "### 2) Study the job market by locations"
   ]
  },
  {
   "cell_type": "markdown",
   "metadata": {},
   "source": [
    "#### 2.1 What is the market size in each city? Which are the hottest job sectors in each city?\n",
    "\n"
   ]
  },
  {
   "cell_type": "markdown",
   "metadata": {},
   "source": [
    "#### 2.2 Which range of salary is common on each city? Where are the employees more well-paid?"
   ]
  },
  {
   "cell_type": "markdown",
   "metadata": {},
   "source": [
    "#### 2.3 Can you detect the pattern of posting: e.g. are more jobs posted at the beginning of the month?"
   ]
  },
  {
   "cell_type": "markdown",
   "metadata": {},
   "source": [
    "[1-2 paragraphs]"
   ]
  },
  {
   "cell_type": "markdown",
   "metadata": {},
   "source": [
    "### 3) Study the market by sectors "
   ]
  },
  {
   "cell_type": "markdown",
   "metadata": {},
   "source": [
    "#### 3.1 Which sectors keep the highest market share?"
   ]
  },
  {
   "cell_type": "markdown",
   "metadata": {},
   "source": [
    "#### 3.2 In each sector, which sub-sectors are the main spotlights?"
   ]
  },
  {
   "cell_type": "markdown",
   "metadata": {},
   "source": [
    "#### 3.3 What is the salary range for each sector/sub-sector? Can you compare salary range between sectors/subsectors?"
   ]
  },
  {
   "cell_type": "markdown",
   "metadata": {},
   "source": [
    "#### 3.4 What is the trending of market i.e. if a high school student asked you which subject should he/she learn in university (to guarantee a job in the future), what is your advice?"
   ]
  },
  {
   "cell_type": "markdown",
   "metadata": {},
   "source": [
    "#### 3.5 Can you detect which skills are required in each sector?"
   ]
  },
  {
   "cell_type": "markdown",
   "metadata": {},
   "source": [
    "### 4) Visualize the results on an interactive web page\n",
    "- Trend analysis: visualize number of jobs by locations, by sectors, etc\n",
    "- Compare between locations or sectors about the number of jobs, the salary, etc.\n",
    "- Present the necessary skills by sectors, by subsectors"
   ]
  },
  {
   "cell_type": "markdown",
   "metadata": {},
   "source": [
    "#### 5) Using PySpark for your data analysis [2 points]"
   ]
  },
  {
   "cell_type": "markdown",
   "metadata": {},
   "source": [
    "# Part 3 - Evaluation [5 Points]"
   ]
  },
  {
   "cell_type": "markdown",
   "metadata": {},
   "source": [
    "### Part 1) What are the findings of your data analytics?\n",
    "[2-3 paragraphs, 2 points]"
   ]
  },
  {
   "cell_type": "markdown",
   "metadata": {},
   "source": [
    "### Part 2) What actions for balancing the markets do you suggest based on your findings?\n",
    "[1-2 paragraphs, 1 point]"
   ]
  },
  {
   "cell_type": "markdown",
   "metadata": {},
   "source": [
    "### Part 3) How could you refine your data analytics? [1-2 paragraphs]"
   ]
  },
  {
   "cell_type": "markdown",
   "metadata": {},
   "source": [
    "#### 3.1 Could you use different data sources?\n",
    "\n",
    "#### 3.2 Could you choose different parameters?\n",
    "\n",
    "#### 3.3 Could you choose other techniques?\n",
    "\n",
    "#### 3.4 Can you think of ways to obtain more relevant data?"
   ]
  },
  {
   "cell_type": "markdown",
   "metadata": {},
   "source": [
    "### Part 4) Are there any implications for employers and employees based on the findings you obtained? Justify answer. [1-2 paragraphs]\n",
    "- Answer"
   ]
  },
  {
   "cell_type": "markdown",
   "metadata": {},
   "source": [
    "#### Part 5) Present and visualize your data story on an online Web Page [OPTIONAL - up to 5 bonus points]\n",
    "- Publish on Google Cloud or github.io"
   ]
  }
 ],
 "metadata": {
  "kernelspec": {
   "display_name": "Python 3",
   "language": "python",
   "name": "python3"
  },
  "language_info": {
   "codemirror_mode": {
    "name": "ipython",
    "version": 3
   },
   "file_extension": ".py",
   "mimetype": "text/x-python",
   "name": "python",
   "nbconvert_exporter": "python",
   "pygments_lexer": "ipython3",
   "version": "3.7.1"
  }
 },
 "nbformat": 4,
 "nbformat_minor": 2
}
