{
 "cells": [
  {
   "cell_type": "markdown",
   "metadata": {},
   "source": [
    "# Part 1 - Data Preparation and Preprocessing [8 Points]\n"
   ]
  },
  {
   "cell_type": "code",
   "execution_count": 227,
   "metadata": {},
   "outputs": [],
   "source": [
    "# IMPORT MODULES\n",
    "import pandas as pd\n",
    "import numpy as np\n",
    "import re\n",
    "import matplotlib.pyplot as plt\n",
    "import seaborn as sns\n",
    "# returns the first number in the range so it can be sorted by that value\n",
    "def RangeCompare(x):\n",
    "    return int(x.split()[0])\n",
    "\n",
    "# Custom sort function for the salary ranges\n",
    "def RangeSort(df_indexes):\n",
    "    return sorted(df_indexes, key = RangeCompare)"
   ]
  },
  {
   "cell_type": "code",
   "execution_count": 228,
   "metadata": {
    "scrolled": true
   },
   "outputs": [],
   "source": [
    "# Perform data preparation and processing\n",
    "## code\n",
    "orig_df = pd.read_csv(\"data.csv\")"
   ]
  },
  {
   "cell_type": "code",
   "execution_count": 229,
   "metadata": {},
   "outputs": [],
   "source": [
    "# drop id, drop duplicates\n",
    "orig_df = orig_df.drop_duplicates()\n",
    "orig_df = orig_df.drop(columns='Id')"
   ]
  },
  {
   "cell_type": "code",
   "execution_count": 230,
   "metadata": {},
   "outputs": [
    {
     "name": "stdout",
     "output_type": "stream",
     "text": [
      "Number of Job Types Edited:  13670\n"
     ]
    },
    {
     "data": {
      "text/html": [
       "<div>\n",
       "<style scoped>\n",
       "    .dataframe tbody tr th:only-of-type {\n",
       "        vertical-align: middle;\n",
       "    }\n",
       "\n",
       "    .dataframe tbody tr th {\n",
       "        vertical-align: top;\n",
       "    }\n",
       "\n",
       "    .dataframe thead th {\n",
       "        text-align: right;\n",
       "    }\n",
       "</style>\n",
       "<table border=\"1\" class=\"dataframe\">\n",
       "  <thead>\n",
       "    <tr style=\"text-align: right;\">\n",
       "      <th></th>\n",
       "      <th>Title</th>\n",
       "      <th>JobType</th>\n",
       "    </tr>\n",
       "  </thead>\n",
       "  <tbody>\n",
       "    <tr>\n",
       "      <th>0</th>\n",
       "      <td>Stock Replenisher</td>\n",
       "      <td>Casual/Vacation</td>\n",
       "    </tr>\n",
       "    <tr>\n",
       "      <th>1</th>\n",
       "      <td>Stock Replenisher</td>\n",
       "      <td>Casual/Vacation</td>\n",
       "    </tr>\n",
       "    <tr>\n",
       "      <th>2</th>\n",
       "      <td>RETAIL SALES SUPERSTARS and STYLISTS Wanted - ...</td>\n",
       "      <td>NaN</td>\n",
       "    </tr>\n",
       "    <tr>\n",
       "      <th>3</th>\n",
       "      <td>Team member - Belrose</td>\n",
       "      <td>NaN</td>\n",
       "    </tr>\n",
       "    <tr>\n",
       "      <th>4</th>\n",
       "      <td>Business Banking Contact Centre Specialist, Ni...</td>\n",
       "      <td>NaN</td>\n",
       "    </tr>\n",
       "  </tbody>\n",
       "</table>\n",
       "</div>"
      ],
      "text/plain": [
       "                                               Title          JobType\n",
       "0                                  Stock Replenisher  Casual/Vacation\n",
       "1                                  Stock Replenisher  Casual/Vacation\n",
       "2  RETAIL SALES SUPERSTARS and STYLISTS Wanted - ...              NaN\n",
       "3                              Team member - Belrose              NaN\n",
       "4  Business Banking Contact Centre Specialist, Ni...              NaN"
      ]
     },
     "execution_count": 230,
     "metadata": {},
     "output_type": "execute_result"
    }
   ],
   "source": [
    "# take job type from title put in job type column where job type is NaN\n",
    "jTypes = ['Casual', 'Part Time', 'Full Time']\n",
    "edited = 0\n",
    "\n",
    "for index, row in orig_df.iterrows():\n",
    "    for job in jTypes:\n",
    "        match = re.match(job, row['Title'], re.IGNORECASE)\n",
    "        \n",
    "        if match is not None:\n",
    "            # Replace the job type from the title\n",
    "            orig_df.at[index, 'Title'] = row['Title'].replace(match.group(), '')\n",
    "            \n",
    "            # If the row has no job type add it in\n",
    "            if pd.isnull(row['JobType']):\n",
    "                if job == 'Casual':\n",
    "                    orig_df.at[index, 'JobType'] = 'Casual/Vacation'\n",
    "                else:\n",
    "                    orig_df.at[index, 'JobType'] = job\n",
    "            edited += 1\n",
    "print('Number of Job Types Edited: ', edited)\n",
    "orig_df[['Title', 'JobType']].head()"
   ]
  },
  {
   "cell_type": "code",
   "execution_count": 231,
   "metadata": {},
   "outputs": [],
   "source": [
    "# create separate data frames\n",
    "job_type_df = orig_df[['SubClassification', 'JobType']].copy()\n",
    "job_type_df = job_type_df.dropna(axis=0, subset=['JobType'])\n",
    "class_subclass_df = orig_df[['Location', 'Classification', 'SubClassification']].copy()\n",
    "class_subclass_df.dropna()\n",
    "# can talk about how actual salary and full description different\n",
    "salary_df = orig_df[['Location','SubClassification', 'Classification', 'LowestSalary', 'HighestSalary']].copy()\n",
    "loc_most_paid_df = salary_df.copy().drop(columns=['Classification','SubClassification'])"
   ]
  },
  {
   "cell_type": "markdown",
   "metadata": {},
   "source": [
    "### 1) Describe the dataset\n"
   ]
  },
  {
   "cell_type": "markdown",
   "metadata": {},
   "source": [
    "Most of the data is either categorical or textual data (title, company, location, area, classification, subclassification, requirements, full description and job type) with the only real numerical data being the date of posting and the lowest / highest salaries. From looking at the data it is clear that except for id, title, date and lowest / highest salary all other columns have some number of missing data entries. Therefore, when analysing particular columns, we will drop the relevant missing data rows.\n",
    "\n",
    "The main attributes of the marketing data set that is going to be used is the dates, location, classification and subclassification, lowest / highest salary and job type. For some of the job postings the job type is present in the title but not in the ‘JobType’ column therefore some cleaning will need to be done. It should also be noted that for some jobs the salary range and their ‘FullDescription’ job salary differs. Due to the fact that it is quite difficult to parse the full descriptions of each posting to obtain the appropriate range (e.g. salary being stated in different ways 90K, $400 000, thirty thousand a  year etc. & superannuation sometimes being included) and the fact that it does not occur too often it will be omitted from cleaning."
   ]
  },
  {
   "cell_type": "markdown",
   "metadata": {},
   "source": [
    "### 2) Describe the steps you used for data preparation and preprocessing"
   ]
  },
  {
   "cell_type": "markdown",
   "metadata": {},
   "source": [
    "[2-3 Paragraphs] \n",
    "#### 2.1. How did we load the data?\n",
    "#### 2.2. How did we normalize the data?\n",
    "#### 2.3. How did we clean the data?\n",
    "- Can talk about initial insights about $ salary differences in data and job type inconsistences"
   ]
  },
  {
   "cell_type": "markdown",
   "metadata": {},
   "source": [
    "### 3) What is your hypothesis about the analysis outcome?"
   ]
  },
  {
   "cell_type": "markdown",
   "metadata": {},
   "source": [
    "[1-2 paragraphs] This our hypothesis"
   ]
  },
  {
   "cell_type": "markdown",
   "metadata": {},
   "source": [
    "# Part 2 - Data Analysis and Interpretation [17 points]"
   ]
  },
  {
   "cell_type": "markdown",
   "metadata": {},
   "source": [
    "- Perform exploratory data analysis\n",
    "- Perform statistical data analysis\n",
    "- Perform predictive data analysis"
   ]
  },
  {
   "cell_type": "code",
   "execution_count": 232,
   "metadata": {},
   "outputs": [],
   "source": [
    "## CODE\n",
    "## Perform predictive on where the job market will be in x years"
   ]
  },
  {
   "cell_type": "markdown",
   "metadata": {},
   "source": [
    "### 1) Study the job metadata. Extract the relevant information to describe the job's attributes."
   ]
  },
  {
   "cell_type": "markdown",
   "metadata": {},
   "source": [
    "#### 1.1 What are the ranges of salaries for sub classification? "
   ]
  },
  {
   "cell_type": "code",
   "execution_count": 233,
   "metadata": {},
   "outputs": [
    {
     "data": {
      "text/html": [
       "<div>\n",
       "<style scoped>\n",
       "    .dataframe tbody tr th:only-of-type {\n",
       "        vertical-align: middle;\n",
       "    }\n",
       "\n",
       "    .dataframe tbody tr th {\n",
       "        vertical-align: top;\n",
       "    }\n",
       "\n",
       "    .dataframe thead th {\n",
       "        text-align: right;\n",
       "    }\n",
       "</style>\n",
       "<table border=\"1\" class=\"dataframe\">\n",
       "  <thead>\n",
       "    <tr style=\"text-align: right;\">\n",
       "      <th></th>\n",
       "      <th>SubClassification</th>\n",
       "      <th>Classification</th>\n",
       "      <th>SalaryRange</th>\n",
       "    </tr>\n",
       "  </thead>\n",
       "  <tbody>\n",
       "    <tr>\n",
       "      <th>0</th>\n",
       "      <td>Retail Assistants</td>\n",
       "      <td>Retail &amp; Consumer Products</td>\n",
       "      <td>0 - 30</td>\n",
       "    </tr>\n",
       "    <tr>\n",
       "      <th>1</th>\n",
       "      <td>Retail Assistants</td>\n",
       "      <td>Retail &amp; Consumer Products</td>\n",
       "      <td>0 - 30</td>\n",
       "    </tr>\n",
       "    <tr>\n",
       "      <th>2</th>\n",
       "      <td>Retail Assistants</td>\n",
       "      <td>Retail &amp; Consumer Products</td>\n",
       "      <td>0 - 30</td>\n",
       "    </tr>\n",
       "    <tr>\n",
       "      <th>3</th>\n",
       "      <td>Retail Assistants</td>\n",
       "      <td>Retail &amp; Consumer Products</td>\n",
       "      <td>0 - 30</td>\n",
       "    </tr>\n",
       "    <tr>\n",
       "      <th>4</th>\n",
       "      <td>Sales - Inbound</td>\n",
       "      <td>Call Centre &amp; Customer Service</td>\n",
       "      <td>0 - 30</td>\n",
       "    </tr>\n",
       "  </tbody>\n",
       "</table>\n",
       "</div>"
      ],
      "text/plain": [
       "   SubClassification                  Classification SalaryRange\n",
       "0  Retail Assistants      Retail & Consumer Products      0 - 30\n",
       "1  Retail Assistants      Retail & Consumer Products      0 - 30\n",
       "2  Retail Assistants      Retail & Consumer Products      0 - 30\n",
       "3  Retail Assistants      Retail & Consumer Products      0 - 30\n",
       "4    Sales - Inbound  Call Centre & Customer Service      0 - 30"
      ]
     },
     "execution_count": 233,
     "metadata": {},
     "output_type": "execute_result"
    }
   ],
   "source": [
    "salary_df['SalaryRange'] = '0' \n",
    "for index, row in salary_df.iterrows():\n",
    "    salary_df.at[index, 'SalaryRange'] = str(row['LowestSalary']) + \\\n",
    "                                            ' - ' + str(row['HighestSalary'])\n",
    "    \n",
    "salary_df = salary_df.drop(columns=['LowestSalary', 'HighestSalary'])\n",
    "salary_df.head()\n",
    "salary_location_df = salary_df.copy()\n",
    "salary_df = salary_df.drop(columns=['Location'])"
   ]
  },
  {
   "cell_type": "code",
   "execution_count": 234,
   "metadata": {},
   "outputs": [
    {
     "data": {
      "text/html": [
       "<div>\n",
       "<style scoped>\n",
       "    .dataframe tbody tr th:only-of-type {\n",
       "        vertical-align: middle;\n",
       "    }\n",
       "\n",
       "    .dataframe tbody tr th {\n",
       "        vertical-align: top;\n",
       "    }\n",
       "\n",
       "    .dataframe thead th {\n",
       "        text-align: right;\n",
       "    }\n",
       "</style>\n",
       "<table border=\"1\" class=\"dataframe\">\n",
       "  <thead>\n",
       "    <tr style=\"text-align: right;\">\n",
       "      <th></th>\n",
       "      <th></th>\n",
       "      <th>Number of Jobs</th>\n",
       "    </tr>\n",
       "    <tr>\n",
       "      <th>SubClassification</th>\n",
       "      <th>SalaryRange</th>\n",
       "      <th></th>\n",
       "    </tr>\n",
       "  </thead>\n",
       "  <tbody>\n",
       "    <tr>\n",
       "      <th rowspan=\"5\" valign=\"top\">Account &amp; Relationship Management</th>\n",
       "      <th>0 - 30</th>\n",
       "      <td>409</td>\n",
       "    </tr>\n",
       "    <tr>\n",
       "      <th>100 - 120</th>\n",
       "      <td>241</td>\n",
       "    </tr>\n",
       "    <tr>\n",
       "      <th>70 - 80</th>\n",
       "      <td>230</td>\n",
       "    </tr>\n",
       "    <tr>\n",
       "      <th>80 - 100</th>\n",
       "      <td>227</td>\n",
       "    </tr>\n",
       "    <tr>\n",
       "      <th>60 - 70</th>\n",
       "      <td>215</td>\n",
       "    </tr>\n",
       "  </tbody>\n",
       "</table>\n",
       "</div>"
      ],
      "text/plain": [
       "                                               Number of Jobs\n",
       "SubClassification                 SalaryRange                \n",
       "Account & Relationship Management 0 - 30                  409\n",
       "                                  100 - 120               241\n",
       "                                  70 - 80                 230\n",
       "                                  80 - 100                227\n",
       "                                  60 - 70                 215"
      ]
     },
     "execution_count": 234,
     "metadata": {},
     "output_type": "execute_result"
    }
   ],
   "source": [
    "# Grouping the salary data frame by subclass and salary range to produce the table\n",
    "salary_count_df = salary_df.groupby(['SubClassification', 'SalaryRange']).count(\n",
    "                    ).rename(columns = {'Classification' : 'Number of Jobs'})\n",
    "\n",
    "salary_count_df.sort_values(by=['SubClassification', 'Number of Jobs'], \n",
    "                            ascending=[True, False],  inplace=True)\n",
    "\n",
    "salary_count_df.head()"
   ]
  },
  {
   "cell_type": "code",
   "execution_count": 235,
   "metadata": {},
   "outputs": [
    {
     "name": "stdout",
     "output_type": "stream",
     "text": [
      "Sub Classification: CEO \n",
      "\n",
      "             Number of Jobs\n",
      "SalaryRange                \n",
      "200 - 999                64\n",
      "150 - 200                52\n",
      "0 - 30                   18\n",
      "120 - 150                10\n",
      "100 - 120                 7\n",
      "80 - 100                  5\n",
      "70 - 80                   3\n",
      "30 - 40                   2\n",
      "60 - 70                   2\n"
     ]
    }
   ],
   "source": [
    "# Access a particular sub classes range information. If n given, top n ranges returned based on counts\n",
    "def SalaryData(sc_df, subclass, n = 0):\n",
    "    if n == 0:\n",
    "        return sc_df.loc[subclass, :]\n",
    "    else:\n",
    "        return sc_df.loc[subclass, :].nlargest(n, 'Number of Jobs')\n",
    "\n",
    "print('Sub Classification: CEO \\n')\n",
    "print(SalaryData(salary_count_df, 'CEO'))"
   ]
  },
  {
   "cell_type": "code",
   "execution_count": 236,
   "metadata": {},
   "outputs": [
    {
     "data": {
      "text/plain": [
       "<matplotlib.axes._subplots.AxesSubplot at 0x2774ffd3c18>"
      ]
     },
     "execution_count": 236,
     "metadata": {},
     "output_type": "execute_result"
    },
    {
     "data": {
      "image/png": "[encoded data removed]",
      "text/plain": [
       "<Figure size 432x288 with 1 Axes>"
      ]
     },
     "metadata": {
      "needs_background": "light"
     },
     "output_type": "display_data"
    }
   ],
   "source": [
    "# Plot Developers/Programmers Data by calling the SalaryData function\n",
    "temp_df = SalaryData(salary_count_df, 'Developers/Programmers').sort_values(by=['SalaryRange'])\n",
    "temp_df = temp_df.reindex(index=RangeSort(temp_df.index))\n",
    "\n",
    "ax = temp_df.plot.bar(title='Developers/Programmers Salary Comparison', legend=False)\n",
    "ax.set_ylabel('Number of Jobs')\n",
    "ax"
   ]
  },
  {
   "cell_type": "markdown",
   "metadata": {},
   "source": [
    "#### 1.1.1 Discussion\n",
    "From looking at the raw data, there are examples of jobs that have conflicting salaries. Their full descriptions and the lowest and highest salaries differ and with the fact that all jobs have a lowest and highest salary it is clear that the range 0 - 30 is a default value that some job postings haven't changed. This can be clearly seen by looking at the data for the 'CEO' sub classification (Table TBA), it isn't realistic for so many jobs to be in the 0 - 30 range for such a demanding job. \n",
    "\n",
    "The ‘salary_count_df’ Data Frame allows us to generate histograms like the one for Developers/Programmers (Graph TBA) showing the distribution of job postings by salary range. A function (called ‘SalaryData’) was created to obtain easy access to the salary range data for every sub classification that exists. The function takes ‘salary_count_df’, a sub class name and number of ranges to be returned in order of posting numbers. If the function is passed nothing it returns all the ranges to the function. \n"
   ]
  },
  {
   "cell_type": "markdown",
   "metadata": {},
   "source": [
    "#### 1.2 Where is the location of the sub class?"
   ]
  },
  {
   "cell_type": "code",
   "execution_count": 237,
   "metadata": {},
   "outputs": [
    {
     "data": {
      "text/html": [
       "<div>\n",
       "<style scoped>\n",
       "    .dataframe tbody tr th:only-of-type {\n",
       "        vertical-align: middle;\n",
       "    }\n",
       "\n",
       "    .dataframe tbody tr th {\n",
       "        vertical-align: top;\n",
       "    }\n",
       "\n",
       "    .dataframe thead th {\n",
       "        text-align: right;\n",
       "    }\n",
       "</style>\n",
       "<table border=\"1\" class=\"dataframe\">\n",
       "  <thead>\n",
       "    <tr style=\"text-align: right;\">\n",
       "      <th></th>\n",
       "      <th></th>\n",
       "      <th>Number of Jobs</th>\n",
       "    </tr>\n",
       "    <tr>\n",
       "      <th>Location</th>\n",
       "      <th>Classification</th>\n",
       "      <th></th>\n",
       "    </tr>\n",
       "  </thead>\n",
       "  <tbody>\n",
       "    <tr>\n",
       "      <th rowspan=\"5\" valign=\"top\">ACT</th>\n",
       "      <th>Accounting</th>\n",
       "      <td>180</td>\n",
       "    </tr>\n",
       "    <tr>\n",
       "      <th>Administration &amp; Office Support</th>\n",
       "      <td>319</td>\n",
       "    </tr>\n",
       "    <tr>\n",
       "      <th>Advertising, Arts &amp; Media</th>\n",
       "      <td>22</td>\n",
       "    </tr>\n",
       "    <tr>\n",
       "      <th>Banking &amp; Financial Services</th>\n",
       "      <td>47</td>\n",
       "    </tr>\n",
       "    <tr>\n",
       "      <th>CEO &amp; General Management</th>\n",
       "      <td>22</td>\n",
       "    </tr>\n",
       "  </tbody>\n",
       "</table>\n",
       "</div>"
      ],
      "text/plain": [
       "                                          Number of Jobs\n",
       "Location Classification                                 \n",
       "ACT      Accounting                                  180\n",
       "         Administration & Office Support             319\n",
       "         Advertising, Arts & Media                    22\n",
       "         Banking & Financial Services                 47\n",
       "         CEO & General Management                     22"
      ]
     },
     "execution_count": 237,
     "metadata": {},
     "output_type": "execute_result"
    }
   ],
   "source": [
    "# Create DF containing counts of the jobs in each city grouped by their classification\n",
    "loc_class_count_df = class_subclass_df.groupby(['Location', 'Classification']).count(\n",
    "                        ).rename(columns = {'SubClassification' : 'Number of Jobs'})\n",
    "\n",
    "loc_class_count_df.head()"
   ]
  },
  {
   "cell_type": "code",
   "execution_count": 238,
   "metadata": {},
   "outputs": [
    {
     "name": "stdout",
     "output_type": "stream",
     "text": [
      "City: Melbourne \n",
      "\n",
      "                                        Number of Jobs\n",
      "Classification                                        \n",
      "Information & Communication Technology            5889\n",
      "Hospitality & Tourism                             4060\n",
      "Trades & Services                                 3831\n",
      "Manufacturing, Transport & Logistics              3556\n",
      "Healthcare & Medical                              3493\n"
     ]
    }
   ],
   "source": [
    "# Access a particular cities job information, if n given top n jobs returned based on counts\n",
    "def CityData(lc_df, city, n = 0):\n",
    "    if n == 0:\n",
    "        return lc_df.loc[city, :]\n",
    "    else:\n",
    "        return lc_df.loc[city, :].nlargest(n, 'Number of Jobs')\n",
    "\n",
    "\n",
    "lc_df = CityData(loc_class_count_df, 'Melbourne', 5)\n",
    "\n",
    "print('City: Melbourne \\n')\n",
    "print(lc_df.head())"
   ]
  },
  {
   "cell_type": "code",
   "execution_count": 239,
   "metadata": {},
   "outputs": [
    {
     "data": {
      "image/png": "[encoded data removed]",
      "text/plain": [
       "<Figure size 432x288 with 2 Axes>"
      ]
     },
     "metadata": {},
     "output_type": "display_data"
    }
   ],
   "source": [
    "# Graphing a comparison between the top 5 sectors for Gold Coast and Brisbane \n",
    "fig1, ax = plt.subplots(1, 2)\n",
    "\n",
    "lc_df = CityData(loc_class_count_df, 'Brisbane', 5)\n",
    "ax[0].pie(lc_df['Number of Jobs'], labels=lc_df.index, autopct='%1.1f%%')\n",
    "ax[0].set_title('Top 5 Sectors in Brisbane')\n",
    "\n",
    "lc_df2 = CityData(loc_class_count_df, 'Gold Coast', 5)\n",
    "ax[1].pie(lc_df2['Number of Jobs'], labels=lc_df2.index, autopct='%1.1f%%')\n",
    "ax[1].set_title('Top 5 Sectors in Gold Coast')\n",
    "\n",
    "box = ax[1].get_position()\n",
    "box.x0 = box.x0 + 0.4\n",
    "box.x1 = box.x1 + 0.4\n",
    "ax[1].set_position(box)\n",
    "\n",
    "\n",
    "plt.show()"
   ]
  },
  {
   "cell_type": "markdown",
   "metadata": {},
   "source": [
    "#### 1.2.1 Discussion\n",
    "The ‘loc_class_count_df’ is a data frame grouped by the location and classification, for each classification is shows the number of job postings at that location. The function ‘CityData()’ can access an individual cities classification posting information. It takes the ‘loc_class_count_df’, city name and number of classifications to return ordered by job postings as parameters. As hypothesised the most common jobs in the Gold Coast were in the Hospitality & tourism sector and in the same vein Brisbane has a lot of Information & Communication Technology job postings (Graph TBA). The data also revealed that Melbourne (Table TBA), Brisbane and the Gold Coast had four sectors in common (Trades & Services, Hospitality & Tourism, Manufacturing, Transport & Logistics, and Healthcare & Medical).\n"
   ]
  },
  {
   "cell_type": "markdown",
   "metadata": {},
   "source": [
    "### 2) Study the job market by locations"
   ]
  },
  {
   "cell_type": "markdown",
   "metadata": {},
   "source": [
    "#### 2.1 What is the market size in each city? Which are the hottest job sectors in each city?\n",
    "\n"
   ]
  },
  {
   "cell_type": "code",
   "execution_count": 240,
   "metadata": {},
   "outputs": [
    {
     "data": {
      "image/png": "[encoded data removed]",
      "text/plain": [
       "<Figure size 1080x432 with 1 Axes>"
      ]
     },
     "metadata": {
      "needs_background": "light"
     },
     "output_type": "display_data"
    }
   ],
   "source": [
    "market_size = pd.DataFrame()\n",
    "market_size['Number of Jobs'] = class_subclass_df.groupby('Location')['Classification'].count()\n",
    "market_size.head()\n",
    "f, ax = plt.subplots(figsize=(15, 6))\n",
    "market_size['Number of Jobs'].sort_values(ascending=False).head(15).plot(kind='bar')\n",
    "f.autofmt_xdate()\n",
    "plt.show()"
   ]
  },
  {
   "cell_type": "code",
   "execution_count": 241,
   "metadata": {},
   "outputs": [
    {
     "data": {
      "text/html": [
       "<div>\n",
       "<style scoped>\n",
       "    .dataframe tbody tr th:only-of-type {\n",
       "        vertical-align: middle;\n",
       "    }\n",
       "\n",
       "    .dataframe tbody tr th {\n",
       "        vertical-align: top;\n",
       "    }\n",
       "\n",
       "    .dataframe thead th {\n",
       "        text-align: right;\n",
       "    }\n",
       "</style>\n",
       "<table border=\"1\" class=\"dataframe\">\n",
       "  <thead>\n",
       "    <tr style=\"text-align: right;\">\n",
       "      <th></th>\n",
       "      <th>Location</th>\n",
       "      <th>Classification</th>\n",
       "      <th>#</th>\n",
       "    </tr>\n",
       "  </thead>\n",
       "  <tbody>\n",
       "    <tr>\n",
       "      <th>0</th>\n",
       "      <td>ACT</td>\n",
       "      <td>Information &amp; Communication Technology</td>\n",
       "      <td>2057</td>\n",
       "    </tr>\n",
       "    <tr>\n",
       "      <th>1</th>\n",
       "      <td>Adelaide</td>\n",
       "      <td>Trades &amp; Services</td>\n",
       "      <td>819</td>\n",
       "    </tr>\n",
       "    <tr>\n",
       "      <th>2</th>\n",
       "      <td>Adelaide Hills &amp; Barossa</td>\n",
       "      <td>Hospitality &amp; Tourism</td>\n",
       "      <td>33</td>\n",
       "    </tr>\n",
       "    <tr>\n",
       "      <th>3</th>\n",
       "      <td>Albany &amp; Great Southern</td>\n",
       "      <td>Healthcare &amp; Medical</td>\n",
       "      <td>24</td>\n",
       "    </tr>\n",
       "    <tr>\n",
       "      <th>4</th>\n",
       "      <td>Albury Area</td>\n",
       "      <td>Healthcare &amp; Medical</td>\n",
       "      <td>89</td>\n",
       "    </tr>\n",
       "    <tr>\n",
       "      <th>5</th>\n",
       "      <td>Alice Springs &amp; Central Australia</td>\n",
       "      <td>Healthcare &amp; Medical</td>\n",
       "      <td>59</td>\n",
       "    </tr>\n",
       "    <tr>\n",
       "      <th>6</th>\n",
       "      <td>Bairnsdale &amp; Gippsland</td>\n",
       "      <td>Education &amp; Training</td>\n",
       "      <td>71</td>\n",
       "    </tr>\n",
       "    <tr>\n",
       "      <th>7</th>\n",
       "      <td>Ballarat &amp; Central Highlands</td>\n",
       "      <td>Healthcare &amp; Medical</td>\n",
       "      <td>111</td>\n",
       "    </tr>\n",
       "    <tr>\n",
       "      <th>8</th>\n",
       "      <td>Bendigo, Goldfields &amp; Macedon Ranges</td>\n",
       "      <td>Healthcare &amp; Medical</td>\n",
       "      <td>146</td>\n",
       "    </tr>\n",
       "    <tr>\n",
       "      <th>9</th>\n",
       "      <td>Brisbane</td>\n",
       "      <td>Information &amp; Communication Technology</td>\n",
       "      <td>2768</td>\n",
       "    </tr>\n",
       "  </tbody>\n",
       "</table>\n",
       "</div>"
      ],
      "text/plain": [
       "                               Location  \\\n",
       "0                                   ACT   \n",
       "1                              Adelaide   \n",
       "2              Adelaide Hills & Barossa   \n",
       "3               Albany & Great Southern   \n",
       "4                           Albury Area   \n",
       "5     Alice Springs & Central Australia   \n",
       "6                Bairnsdale & Gippsland   \n",
       "7          Ballarat & Central Highlands   \n",
       "8  Bendigo, Goldfields & Macedon Ranges   \n",
       "9                              Brisbane   \n",
       "\n",
       "                           Classification     #  \n",
       "0  Information & Communication Technology  2057  \n",
       "1                       Trades & Services   819  \n",
       "2                   Hospitality & Tourism    33  \n",
       "3                    Healthcare & Medical    24  \n",
       "4                    Healthcare & Medical    89  \n",
       "5                    Healthcare & Medical    59  \n",
       "6                    Education & Training    71  \n",
       "7                    Healthcare & Medical   111  \n",
       "8                    Healthcare & Medical   146  \n",
       "9  Information & Communication Technology  2768  "
      ]
     },
     "execution_count": 241,
     "metadata": {},
     "output_type": "execute_result"
    }
   ],
   "source": [
    "pd.get_option(\"display.max_rows\")\n",
    "hottest_job_sec = pd.DataFrame()\n",
    "lowest_job_sec = pd.DataFrame()\n",
    "lowest_job_sec['Classification'] = class_subclass_df.groupby('Location')['Classification'].min()\n",
    "lowest_job_sec['SubClassification'] = class_subclass_df.groupby('Location')['SubClassification'].min()\n",
    "hottest_job_sec['# of Jobs'] = class_subclass_df.groupby(['Location', 'Classification'])['Location'].count()\n",
    "new_df = pd.DataFrame()\n",
    "max_val = 0\n",
    "index = 0\n",
    "cities = []\n",
    "classifications = []\n",
    "max_sector = []\n",
    "for i in hottest_job_sec.index:\n",
    "    num = hottest_job_sec['# of Jobs'][i]\n",
    "    if num > max_val:\n",
    "        max_val = num\n",
    "        city = i[0]\n",
    "        class_type = i[1]\n",
    "    if i[0] != city:\n",
    "        cities.insert(index, city)\n",
    "        classifications.insert(index, class_type)\n",
    "        max_sector.insert(index, max_val)\n",
    "        index += 1\n",
    "        max_val = 0\n",
    "        \n",
    "new_df.head()\n",
    "new_df['Location']  = cities\n",
    "new_df['Classification'] = classifications\n",
    "new_df['#'] = max_sector\n",
    "new_df.head(10)"
   ]
  },
  {
   "cell_type": "markdown",
   "metadata": {},
   "source": [
    "#### 2.2 Which range of salary is common on each city? Where are the employees more well-paid?"
   ]
  },
  {
   "cell_type": "code",
   "execution_count": 242,
   "metadata": {},
   "outputs": [],
   "source": [
    "salary_location_df = salary_location_df.drop(columns=['SubClassification', 'Classification'])"
   ]
  },
  {
   "cell_type": "code",
   "execution_count": 243,
   "metadata": {},
   "outputs": [
    {
     "data": {
      "text/html": [
       "<div>\n",
       "<style scoped>\n",
       "    .dataframe tbody tr th:only-of-type {\n",
       "        vertical-align: middle;\n",
       "    }\n",
       "\n",
       "    .dataframe tbody tr th {\n",
       "        vertical-align: top;\n",
       "    }\n",
       "\n",
       "    .dataframe thead th {\n",
       "        text-align: right;\n",
       "    }\n",
       "</style>\n",
       "<table border=\"1\" class=\"dataframe\">\n",
       "  <thead>\n",
       "    <tr style=\"text-align: right;\">\n",
       "      <th></th>\n",
       "      <th>Location</th>\n",
       "      <th>SalaryRange</th>\n",
       "    </tr>\n",
       "  </thead>\n",
       "  <tbody>\n",
       "    <tr>\n",
       "      <th>0</th>\n",
       "      <td>Adelaide</td>\n",
       "      <td>0 - 30</td>\n",
       "    </tr>\n",
       "    <tr>\n",
       "      <th>1</th>\n",
       "      <td>Adelaide Hills &amp; Barossa</td>\n",
       "      <td>40 - 50</td>\n",
       "    </tr>\n",
       "    <tr>\n",
       "      <th>2</th>\n",
       "      <td>Albury Area</td>\n",
       "      <td>0 - 30</td>\n",
       "    </tr>\n",
       "    <tr>\n",
       "      <th>3</th>\n",
       "      <td>Brisbane</td>\n",
       "      <td>0 - 30</td>\n",
       "    </tr>\n",
       "    <tr>\n",
       "      <th>4</th>\n",
       "      <td>Bunbury &amp; South West</td>\n",
       "      <td>0 - 30</td>\n",
       "    </tr>\n",
       "    <tr>\n",
       "      <th>5</th>\n",
       "      <td>Cairns &amp; Far North</td>\n",
       "      <td>0 - 30</td>\n",
       "    </tr>\n",
       "    <tr>\n",
       "      <th>6</th>\n",
       "      <td>Coffs Harbour &amp; North Coast</td>\n",
       "      <td>0 - 30</td>\n",
       "    </tr>\n",
       "    <tr>\n",
       "      <th>7</th>\n",
       "      <td>Darwin</td>\n",
       "      <td>0 - 30</td>\n",
       "    </tr>\n",
       "    <tr>\n",
       "      <th>8</th>\n",
       "      <td>Dubbo &amp; Central NSW</td>\n",
       "      <td>0 - 30</td>\n",
       "    </tr>\n",
       "    <tr>\n",
       "      <th>9</th>\n",
       "      <td>Far West &amp; North Central NSW</td>\n",
       "      <td>100 - 120</td>\n",
       "    </tr>\n",
       "    <tr>\n",
       "      <th>10</th>\n",
       "      <td>Gold Coast</td>\n",
       "      <td>40 - 50</td>\n",
       "    </tr>\n",
       "    <tr>\n",
       "      <th>11</th>\n",
       "      <td>Gosford &amp; Central Coast</td>\n",
       "      <td>30 - 40</td>\n",
       "    </tr>\n",
       "    <tr>\n",
       "      <th>12</th>\n",
       "      <td>Hobart</td>\n",
       "      <td>0 - 30</td>\n",
       "    </tr>\n",
       "    <tr>\n",
       "      <th>13</th>\n",
       "      <td>Kalgoorlie, Goldfields &amp; Esperance</td>\n",
       "      <td>0 - 30</td>\n",
       "    </tr>\n",
       "    <tr>\n",
       "      <th>14</th>\n",
       "      <td>Mackay &amp; Coalfields</td>\n",
       "      <td>0 - 30</td>\n",
       "    </tr>\n",
       "    <tr>\n",
       "      <th>15</th>\n",
       "      <td>Melbourne</td>\n",
       "      <td>0 - 30</td>\n",
       "    </tr>\n",
       "    <tr>\n",
       "      <th>16</th>\n",
       "      <td>Mornington Peninsula &amp; Bass Coast</td>\n",
       "      <td>30 - 40</td>\n",
       "    </tr>\n",
       "    <tr>\n",
       "      <th>17</th>\n",
       "      <td>Newcastle, Maitland &amp; Hunter</td>\n",
       "      <td>0 - 30</td>\n",
       "    </tr>\n",
       "    <tr>\n",
       "      <th>18</th>\n",
       "      <td>Perth</td>\n",
       "      <td>0 - 30</td>\n",
       "    </tr>\n",
       "    <tr>\n",
       "      <th>19</th>\n",
       "      <td>Port Hedland, Karratha &amp; Pilbara</td>\n",
       "      <td>100 - 120</td>\n",
       "    </tr>\n",
       "  </tbody>\n",
       "</table>\n",
       "</div>"
      ],
      "text/plain": [
       "                              Location SalaryRange\n",
       "0                             Adelaide      0 - 30\n",
       "1             Adelaide Hills & Barossa     40 - 50\n",
       "2                          Albury Area      0 - 30\n",
       "3                             Brisbane      0 - 30\n",
       "4                 Bunbury & South West      0 - 30\n",
       "5                   Cairns & Far North      0 - 30\n",
       "6          Coffs Harbour & North Coast      0 - 30\n",
       "7                               Darwin      0 - 30\n",
       "8                  Dubbo & Central NSW      0 - 30\n",
       "9         Far West & North Central NSW   100 - 120\n",
       "10                          Gold Coast     40 - 50\n",
       "11             Gosford & Central Coast     30 - 40\n",
       "12                              Hobart      0 - 30\n",
       "13  Kalgoorlie, Goldfields & Esperance      0 - 30\n",
       "14                 Mackay & Coalfields      0 - 30\n",
       "15                           Melbourne      0 - 30\n",
       "16   Mornington Peninsula & Bass Coast     30 - 40\n",
       "17        Newcastle, Maitland & Hunter      0 - 30\n",
       "18                               Perth      0 - 30\n",
       "19    Port Hedland, Karratha & Pilbara   100 - 120"
      ]
     },
     "execution_count": 243,
     "metadata": {},
     "output_type": "execute_result"
    }
   ],
   "source": [
    "salary_range_count = pd.DataFrame()\n",
    "salary_range_count['#'] = salary_location_df.groupby(['Location', 'SalaryRange'])['SalaryRange'].count()\n",
    "salary_loc_count = pd.DataFrame()\n",
    "salary_range = []\n",
    "common_range = []\n",
    "locations = []\n",
    "def get_most_common(df, df_col, ls1, ls2, ls3):\n",
    "    max_val = 0\n",
    "    index = 0\n",
    "    for i in df.index:\n",
    "        num = df[df_col][i]\n",
    "        if num > max_val:\n",
    "            max_val = num\n",
    "            city = i[0]\n",
    "            sal_range = i[1]\n",
    "        if i[0] != city:\n",
    "            ls1.insert(index, sal_range)\n",
    "            ls2.insert(index, max_val)\n",
    "            ls3.insert(index, city)\n",
    "            index += 1\n",
    "            max_val = 0\n",
    "get_most_common(salary_range_count, '#', salary_range, common_range, locations)        \n",
    "salary_loc_count['Location'] = locations\n",
    "salary_loc_count['SalaryRange'] = salary_range\n",
    "salary_loc_count.head(20)"
   ]
  },
  {
   "cell_type": "code",
   "execution_count": 244,
   "metadata": {},
   "outputs": [
    {
     "data": {
      "text/plain": [
       "Location  LowestSalary  HighestSalary\n",
       "ACT       0             30               1071\n",
       "          30            40                406\n",
       "          40            50                453\n",
       "          50            60                315\n",
       "          60            70                379\n",
       "          70            80                502\n",
       "          80            100               391\n",
       "          100           120               537\n",
       "          120           150               509\n",
       "          150           200               976\n",
       "          200           999               711\n",
       "Adelaide  0             30               1256\n",
       "          30            40                619\n",
       "          40            50               1007\n",
       "          50            60                718\n",
       "          60            70                734\n",
       "          70            80                563\n",
       "          80            100               445\n",
       "          100           120               476\n",
       "          120           150               321\n",
       "Name: HighestSalary, dtype: int64"
      ]
     },
     "execution_count": 244,
     "metadata": {},
     "output_type": "execute_result"
    }
   ],
   "source": [
    "sorted_df = loc_most_paid_df.groupby(['Location', 'LowestSalary', 'HighestSalary'])['HighestSalary'].count()\n",
    "sorted_df.head(20)"
   ]
  },
  {
   "cell_type": "markdown",
   "metadata": {},
   "source": [
    "#### 2.3 Can you detect the pattern of posting: e.g. are more jobs posted at the beginning of the month?"
   ]
  },
  {
   "cell_type": "code",
   "execution_count": 245,
   "metadata": {},
   "outputs": [
    {
     "name": "stdout",
     "output_type": "stream",
     "text": [
      "    Day of Month  Postings\n",
      "0              1     24512\n",
      "2              3     21804\n",
      "1              2     18585\n",
      "10            12     17503\n",
      "3              4     16728\n",
      "16            18     16151\n",
      "8              9     15822\n",
      "15            17     15539\n",
      "9             11     15448\n",
      "4              5     15028\n",
      "11            13     14793\n",
      "12            14     14656\n",
      "18            21     13684\n",
      "6              7     11309\n",
      "19            22     10950\n",
      "27            31     10652\n",
      "13            15     10132\n",
      "7              8      9276\n",
      "17            19      8720\n",
      "14            16      8332\n",
      "5              6      6984\n",
      "26            29      5946\n",
      "24            27      3557\n",
      "25            28      3225\n",
      "23            26      2820\n",
      "21            24      2542\n",
      "22            25      2015\n",
      "20            23      1764\n"
     ]
    }
   ],
   "source": [
    "postings_df = orig_df[['Date']].copy()\n",
    "postings_df['Date'] = postings_df['Date'].apply(lambda x: x.strip('T00:00:00.000Z'))\n",
    "pd.to_datetime(postings_df['Date'],format='%Y-%m-%d')\n",
    "avg_postings_df = postings_df.copy()\n",
    "postings_df['Day of Month'] = pd.DatetimeIndex(postings_df['Date']).day\n",
    "postings_df = postings_df.drop(columns=['Date'])\n",
    "postings_df = postings_df.groupby(['Day of Month'])['Day of Month'].count().reset_index(name='Postings').sort_values(['Postings'], ascending=False)\n",
    "print(postings_df)"
   ]
  },
  {
   "cell_type": "code",
   "execution_count": 246,
   "metadata": {},
   "outputs": [
    {
     "data": {
      "image/png": "[encoded data removed]",
      "text/plain": [
       "<Figure size 720x360 with 1 Axes>"
      ]
     },
     "metadata": {
      "needs_background": "light"
     },
     "output_type": "display_data"
    }
   ],
   "source": [
    "f, ax = plt.subplots(figsize=(10, 5))\n",
    "sns.pointplot(x='Day of Month', y='Postings', data=postings_df, color='r').set_title('Pattern of Postings over 6 Months')\n",
    "plt.show()"
   ]
  },
  {
   "cell_type": "code",
   "execution_count": 247,
   "metadata": {},
   "outputs": [
    {
     "data": {
      "text/html": [
       "<div>\n",
       "<style scoped>\n",
       "    .dataframe tbody tr th:only-of-type {\n",
       "        vertical-align: middle;\n",
       "    }\n",
       "\n",
       "    .dataframe tbody tr th {\n",
       "        vertical-align: top;\n",
       "    }\n",
       "\n",
       "    .dataframe thead th {\n",
       "        text-align: right;\n",
       "    }\n",
       "</style>\n",
       "<table border=\"1\" class=\"dataframe\">\n",
       "  <thead>\n",
       "    <tr style=\"text-align: right;\">\n",
       "      <th></th>\n",
       "      <th>Day</th>\n",
       "      <th>Average Postings</th>\n",
       "    </tr>\n",
       "  </thead>\n",
       "  <tbody>\n",
       "    <tr>\n",
       "      <th>0</th>\n",
       "      <td>1</td>\n",
       "      <td>4085.333333</td>\n",
       "    </tr>\n",
       "    <tr>\n",
       "      <th>1</th>\n",
       "      <td>2</td>\n",
       "      <td>3717.000000</td>\n",
       "    </tr>\n",
       "    <tr>\n",
       "      <th>2</th>\n",
       "      <td>3</td>\n",
       "      <td>3634.000000</td>\n",
       "    </tr>\n",
       "    <tr>\n",
       "      <th>27</th>\n",
       "      <td>31</td>\n",
       "      <td>3550.666667</td>\n",
       "    </tr>\n",
       "    <tr>\n",
       "      <th>16</th>\n",
       "      <td>18</td>\n",
       "      <td>3230.200000</td>\n",
       "    </tr>\n",
       "  </tbody>\n",
       "</table>\n",
       "</div>"
      ],
      "text/plain": [
       "    Day  Average Postings\n",
       "0     1       4085.333333\n",
       "1     2       3717.000000\n",
       "2     3       3634.000000\n",
       "27   31       3550.666667\n",
       "16   18       3230.200000"
      ]
     },
     "execution_count": 247,
     "metadata": {},
     "output_type": "execute_result"
    }
   ],
   "source": [
    "avg_postings_df['Month'] = pd.DatetimeIndex(avg_postings_df['Date']).month\n",
    "avg_postings_df['Day'] = pd.DatetimeIndex(avg_postings_df['Date']).day\n",
    "avg_postings_df = avg_postings_df.groupby(['Month', 'Day'])['Month'].count().groupby(['Day']).mean().reset_index(name='Average Postings').sort_values(['Average Postings'], ascending=False)\n",
    "avg_postings_df.head()"
   ]
  },
  {
   "cell_type": "code",
   "execution_count": 248,
   "metadata": {},
   "outputs": [
    {
     "data": {
      "text/plain": [
       "[<matplotlib.lines.Line2D at 0x27688ba7860>]"
      ]
     },
     "execution_count": 248,
     "metadata": {},
     "output_type": "execute_result"
    },
    {
     "data": {
      "image/png": "[encoded data removed]",
      "text/plain": [
       "<Figure size 432x288 with 1 Axes>"
      ]
     },
     "metadata": {
      "needs_background": "light"
     },
     "output_type": "display_data"
    }
   ],
   "source": [
    "from sklearn.linear_model import LinearRegression\n",
    "from sklearn.model_selection import cross_val_score \n",
    "# Apply linear regression with the 'postings' feature to predict posting trend\n",
    "model = LinearRegression()\n",
    "y = avg_postings_df['Average Postings'].values\n",
    "X = avg_postings_df[['Day']]\n",
    "\n",
    "model.fit(X, y)\n",
    "y_pred = model.predict(X)\n",
    "posting_score = model.score(X, y)\n",
    "plt.xlabel('Day of Month')\n",
    "plt.ylabel('Average Postings')\n",
    "plt.scatter(X, y, color='b')\n",
    "plt.title('Average Postings Per Day')\n",
    "plt.plot(X, y_pred, color='black')"
   ]
  },
  {
   "cell_type": "markdown",
   "metadata": {},
   "source": [
    "[1-2 paragraphs]\n",
    "- There are no postings on the 10th, 20th and 30th day of the month\n",
    "- First three days of the month are the most popular, with the first day being the most frequent"
   ]
  },
  {
   "cell_type": "markdown",
   "metadata": {},
   "source": [
    "### 3) Study the market by sectors "
   ]
  },
  {
   "cell_type": "markdown",
   "metadata": {},
   "source": [
    "#### 3.1 Which sectors keep the highest market share?"
   ]
  },
  {
   "cell_type": "markdown",
   "metadata": {},
   "source": [
    "#### 3.2 In each sector, which sub-sectors are the main spotlights?"
   ]
  },
  {
   "cell_type": "code",
   "execution_count": 249,
   "metadata": {},
   "outputs": [
    {
     "data": {
      "text/html": [
       "<div>\n",
       "<style scoped>\n",
       "    .dataframe tbody tr th:only-of-type {\n",
       "        vertical-align: middle;\n",
       "    }\n",
       "\n",
       "    .dataframe tbody tr th {\n",
       "        vertical-align: top;\n",
       "    }\n",
       "\n",
       "    .dataframe thead th {\n",
       "        text-align: right;\n",
       "    }\n",
       "</style>\n",
       "<table border=\"1\" class=\"dataframe\">\n",
       "  <thead>\n",
       "    <tr style=\"text-align: right;\">\n",
       "      <th></th>\n",
       "      <th></th>\n",
       "      <th>Count</th>\n",
       "    </tr>\n",
       "    <tr>\n",
       "      <th>Classification</th>\n",
       "      <th>SubClassification</th>\n",
       "      <th></th>\n",
       "    </tr>\n",
       "  </thead>\n",
       "  <tbody>\n",
       "    <tr>\n",
       "      <th>Hospitality &amp; Tourism</th>\n",
       "      <th>Chefs/Cooks</th>\n",
       "      <td>4600</td>\n",
       "    </tr>\n",
       "    <tr>\n",
       "      <th>Administration &amp; Office Support</th>\n",
       "      <th>Administrative Assistants</th>\n",
       "      <td>4572</td>\n",
       "    </tr>\n",
       "    <tr>\n",
       "      <th>Information &amp; Communication Technology</th>\n",
       "      <th>Developers/Programmers</th>\n",
       "      <td>4211</td>\n",
       "    </tr>\n",
       "    <tr>\n",
       "      <th>Retail &amp; Consumer Products</th>\n",
       "      <th>Retail Assistants</th>\n",
       "      <td>3902</td>\n",
       "    </tr>\n",
       "    <tr>\n",
       "      <th>Government &amp; Defence</th>\n",
       "      <th>Government - State</th>\n",
       "      <td>3701</td>\n",
       "    </tr>\n",
       "    <tr>\n",
       "      <th>Manufacturing, Transport &amp; Logistics</th>\n",
       "      <th>Warehousing, Storage &amp; Distribution</th>\n",
       "      <td>3636</td>\n",
       "    </tr>\n",
       "    <tr>\n",
       "      <th>Sales</th>\n",
       "      <th>Sales Representatives/Consultants</th>\n",
       "      <td>3370</td>\n",
       "    </tr>\n",
       "    <tr>\n",
       "      <th>Trades &amp; Services</th>\n",
       "      <th>Automotive Trades</th>\n",
       "      <td>3262</td>\n",
       "    </tr>\n",
       "    <tr>\n",
       "      <th>Information &amp; Communication Technology</th>\n",
       "      <th>Business/Systems Analysts</th>\n",
       "      <td>2986</td>\n",
       "    </tr>\n",
       "    <tr>\n",
       "      <th>Hospitality &amp; Tourism</th>\n",
       "      <th>Waiting Staff</th>\n",
       "      <td>2864</td>\n",
       "    </tr>\n",
       "  </tbody>\n",
       "</table>\n",
       "</div>"
      ],
      "text/plain": [
       "                                                                            Count\n",
       "Classification                         SubClassification                         \n",
       "Hospitality & Tourism                  Chefs/Cooks                           4600\n",
       "Administration & Office Support        Administrative Assistants             4572\n",
       "Information & Communication Technology Developers/Programmers                4211\n",
       "Retail & Consumer Products             Retail Assistants                     3902\n",
       "Government & Defence                   Government - State                    3701\n",
       "Manufacturing, Transport & Logistics   Warehousing, Storage & Distribution   3636\n",
       "Sales                                  Sales Representatives/Consultants     3370\n",
       "Trades & Services                      Automotive Trades                     3262\n",
       "Information & Communication Technology Business/Systems Analysts             2986\n",
       "Hospitality & Tourism                  Waiting Staff                         2864"
      ]
     },
     "execution_count": 249,
     "metadata": {},
     "output_type": "execute_result"
    }
   ],
   "source": [
    "salary_class_df = salary_df.groupby(['Classification', 'SubClassification']).count(\n",
    "                    ).rename(columns = {'SalaryRange' : 'Count'}).sort_values(['Count'], ascending=False)\n",
    "salary_class_df.head(10)"
   ]
  },
  {
   "cell_type": "code",
   "execution_count": 250,
   "metadata": {},
   "outputs": [
    {
     "data": {
      "text/html": [
       "<div>\n",
       "<style scoped>\n",
       "    .dataframe tbody tr th:only-of-type {\n",
       "        vertical-align: middle;\n",
       "    }\n",
       "\n",
       "    .dataframe tbody tr th {\n",
       "        vertical-align: top;\n",
       "    }\n",
       "\n",
       "    .dataframe thead th {\n",
       "        text-align: right;\n",
       "    }\n",
       "</style>\n",
       "<table border=\"1\" class=\"dataframe\">\n",
       "  <thead>\n",
       "    <tr style=\"text-align: right;\">\n",
       "      <th></th>\n",
       "      <th>Classification</th>\n",
       "      <th>Spotlight</th>\n",
       "    </tr>\n",
       "  </thead>\n",
       "  <tbody>\n",
       "    <tr>\n",
       "      <th>15</th>\n",
       "      <td>Accounting</td>\n",
       "      <td>Financial Accounting &amp; Reporting</td>\n",
       "    </tr>\n",
       "    <tr>\n",
       "      <th>1</th>\n",
       "      <td>Administration &amp; Office Support</td>\n",
       "      <td>Administrative Assistants</td>\n",
       "    </tr>\n",
       "    <tr>\n",
       "      <th>28</th>\n",
       "      <td>Advertising, Arts &amp; Media</td>\n",
       "      <td>Agency Account Management</td>\n",
       "    </tr>\n",
       "    <tr>\n",
       "      <th>20</th>\n",
       "      <td>Banking &amp; Financial Services</td>\n",
       "      <td>Compliance &amp; Risk</td>\n",
       "    </tr>\n",
       "    <tr>\n",
       "      <th>22</th>\n",
       "      <td>CEO &amp; General Management</td>\n",
       "      <td>General/Business Unit Manager</td>\n",
       "    </tr>\n",
       "    <tr>\n",
       "      <th>11</th>\n",
       "      <td>Call Centre &amp; Customer Service</td>\n",
       "      <td>Customer Service - Call Centre</td>\n",
       "    </tr>\n",
       "    <tr>\n",
       "      <th>12</th>\n",
       "      <td>Community Services &amp; Development</td>\n",
       "      <td>Aged &amp; Disability Support</td>\n",
       "    </tr>\n",
       "    <tr>\n",
       "      <th>13</th>\n",
       "      <td>Construction</td>\n",
       "      <td>Project Management</td>\n",
       "    </tr>\n",
       "    <tr>\n",
       "      <th>25</th>\n",
       "      <td>Consulting &amp; Strategy</td>\n",
       "      <td>Management &amp; Change Consulting</td>\n",
       "    </tr>\n",
       "    <tr>\n",
       "      <th>23</th>\n",
       "      <td>Design &amp; Architecture</td>\n",
       "      <td>Architecture</td>\n",
       "    </tr>\n",
       "    <tr>\n",
       "      <th>8</th>\n",
       "      <td>Education &amp; Training</td>\n",
       "      <td>Childcare &amp; Outside School Hours Care</td>\n",
       "    </tr>\n",
       "    <tr>\n",
       "      <th>14</th>\n",
       "      <td>Engineering</td>\n",
       "      <td>Civil/Structural Engineering</td>\n",
       "    </tr>\n",
       "    <tr>\n",
       "      <th>27</th>\n",
       "      <td>Farming, Animals &amp; Conservation</td>\n",
       "      <td>Horticulture</td>\n",
       "    </tr>\n",
       "    <tr>\n",
       "      <th>4</th>\n",
       "      <td>Government &amp; Defence</td>\n",
       "      <td>Government - State</td>\n",
       "    </tr>\n",
       "    <tr>\n",
       "      <th>10</th>\n",
       "      <td>Healthcare &amp; Medical</td>\n",
       "      <td>Nursing - Aged Care</td>\n",
       "    </tr>\n",
       "    <tr>\n",
       "      <th>0</th>\n",
       "      <td>Hospitality &amp; Tourism</td>\n",
       "      <td>Chefs/Cooks</td>\n",
       "    </tr>\n",
       "    <tr>\n",
       "      <th>17</th>\n",
       "      <td>Human Resources &amp; Recruitment</td>\n",
       "      <td>Consulting &amp; Generalist HR</td>\n",
       "    </tr>\n",
       "    <tr>\n",
       "      <th>2</th>\n",
       "      <td>Information &amp; Communication Technology</td>\n",
       "      <td>Developers/Programmers</td>\n",
       "    </tr>\n",
       "    <tr>\n",
       "      <th>21</th>\n",
       "      <td>Insurance &amp; Superannuation</td>\n",
       "      <td>Claims</td>\n",
       "    </tr>\n",
       "    <tr>\n",
       "      <th>19</th>\n",
       "      <td>Legal</td>\n",
       "      <td>Legal Secretaries</td>\n",
       "    </tr>\n",
       "    <tr>\n",
       "      <th>5</th>\n",
       "      <td>Manufacturing, Transport &amp; Logistics</td>\n",
       "      <td>Warehousing, Storage &amp; Distribution</td>\n",
       "    </tr>\n",
       "    <tr>\n",
       "      <th>18</th>\n",
       "      <td>Marketing &amp; Communications</td>\n",
       "      <td>Marketing Communications</td>\n",
       "    </tr>\n",
       "    <tr>\n",
       "      <th>9</th>\n",
       "      <td>Mining, Resources &amp; Energy</td>\n",
       "      <td>Mining - Engineering &amp; Maintenance</td>\n",
       "    </tr>\n",
       "    <tr>\n",
       "      <th>16</th>\n",
       "      <td>Real Estate &amp; Property</td>\n",
       "      <td>Residential Leasing &amp; Property Management</td>\n",
       "    </tr>\n",
       "    <tr>\n",
       "      <th>3</th>\n",
       "      <td>Retail &amp; Consumer Products</td>\n",
       "      <td>Retail Assistants</td>\n",
       "    </tr>\n",
       "    <tr>\n",
       "      <th>6</th>\n",
       "      <td>Sales</td>\n",
       "      <td>Sales Representatives/Consultants</td>\n",
       "    </tr>\n",
       "    <tr>\n",
       "      <th>26</th>\n",
       "      <td>Science &amp; Technology</td>\n",
       "      <td>Environmental, Earth &amp; Geosciences</td>\n",
       "    </tr>\n",
       "    <tr>\n",
       "      <th>29</th>\n",
       "      <td>Self Employment</td>\n",
       "      <td>Self Employment</td>\n",
       "    </tr>\n",
       "    <tr>\n",
       "      <th>24</th>\n",
       "      <td>Sport &amp; Recreation</td>\n",
       "      <td>Fitness &amp; Personal Training</td>\n",
       "    </tr>\n",
       "    <tr>\n",
       "      <th>7</th>\n",
       "      <td>Trades &amp; Services</td>\n",
       "      <td>Automotive Trades</td>\n",
       "    </tr>\n",
       "  </tbody>\n",
       "</table>\n",
       "</div>"
      ],
      "text/plain": [
       "                            Classification  \\\n",
       "15                              Accounting   \n",
       "1          Administration & Office Support   \n",
       "28               Advertising, Arts & Media   \n",
       "20            Banking & Financial Services   \n",
       "22                CEO & General Management   \n",
       "11          Call Centre & Customer Service   \n",
       "12        Community Services & Development   \n",
       "13                            Construction   \n",
       "25                   Consulting & Strategy   \n",
       "23                   Design & Architecture   \n",
       "8                     Education & Training   \n",
       "14                             Engineering   \n",
       "27         Farming, Animals & Conservation   \n",
       "4                     Government & Defence   \n",
       "10                    Healthcare & Medical   \n",
       "0                    Hospitality & Tourism   \n",
       "17           Human Resources & Recruitment   \n",
       "2   Information & Communication Technology   \n",
       "21              Insurance & Superannuation   \n",
       "19                                   Legal   \n",
       "5     Manufacturing, Transport & Logistics   \n",
       "18              Marketing & Communications   \n",
       "9               Mining, Resources & Energy   \n",
       "16                  Real Estate & Property   \n",
       "3               Retail & Consumer Products   \n",
       "6                                    Sales   \n",
       "26                    Science & Technology   \n",
       "29                         Self Employment   \n",
       "24                      Sport & Recreation   \n",
       "7                        Trades & Services   \n",
       "\n",
       "                                    Spotlight  \n",
       "15           Financial Accounting & Reporting  \n",
       "1                   Administrative Assistants  \n",
       "28                  Agency Account Management  \n",
       "20                          Compliance & Risk  \n",
       "22              General/Business Unit Manager  \n",
       "11             Customer Service - Call Centre  \n",
       "12                  Aged & Disability Support  \n",
       "13                         Project Management  \n",
       "25             Management & Change Consulting  \n",
       "23                               Architecture  \n",
       "8       Childcare & Outside School Hours Care  \n",
       "14               Civil/Structural Engineering  \n",
       "27                               Horticulture  \n",
       "4                          Government - State  \n",
       "10                        Nursing - Aged Care  \n",
       "0                                 Chefs/Cooks  \n",
       "17                 Consulting & Generalist HR  \n",
       "2                      Developers/Programmers  \n",
       "21                                     Claims  \n",
       "19                          Legal Secretaries  \n",
       "5         Warehousing, Storage & Distribution  \n",
       "18                   Marketing Communications  \n",
       "9          Mining - Engineering & Maintenance  \n",
       "16  Residential Leasing & Property Management  \n",
       "3                           Retail Assistants  \n",
       "6           Sales Representatives/Consultants  \n",
       "26         Environmental, Earth & Geosciences  \n",
       "29                            Self Employment  \n",
       "24                Fitness & Personal Training  \n",
       "7                           Automotive Trades  "
      ]
     },
     "execution_count": 250,
     "metadata": {},
     "output_type": "execute_result"
    }
   ],
   "source": [
    "seen_class = set()\n",
    "spotlight_df = pd.DataFrame(columns=['Classification', 'Spotlight'])\n",
    "\n",
    "# Loop through the salary_class_df and find the highest sub class for each class\n",
    "for row in salary_class_df.iterrows():\n",
    "    classification = row[0][0]\n",
    "    subclass = row[0][1]\n",
    "    count = row[1]['Count']\n",
    "    \n",
    "    if classification not in seen_class:\n",
    "        seen_class.add(classification)\n",
    "        spotlight_df = spotlight_df.append({'Classification': classification, \n",
    "                            'Spotlight' : subclass}, ignore_index=True)\n",
    "\n",
    "spotlight_df.sort_values('Classification')    "
   ]
  },
  {
   "cell_type": "markdown",
   "metadata": {},
   "source": [
    "#### 3.2.1 Discussion\n",
    "The data frame ‘salary_class_df’ was created to show the number of job postings for every sub classification along with their respective classification. This makes it easier to find the spotlights for every classification (the sub classifications that have the most job postings). ‘spotlight_df’ contains all the spotlights mentioned in a data frame, it can be used to easily search for the most popular sub classifications. "
   ]
  },
  {
   "cell_type": "markdown",
   "metadata": {},
   "source": [
    "#### 3.3 What is the salary range for each sector/sub-sector? Can you compare salary range between sectors/subsectors?"
   ]
  },
  {
   "cell_type": "code",
   "execution_count": 251,
   "metadata": {},
   "outputs": [
    {
     "data": {
      "text/html": [
       "<div>\n",
       "<style scoped>\n",
       "    .dataframe tbody tr th:only-of-type {\n",
       "        vertical-align: middle;\n",
       "    }\n",
       "\n",
       "    .dataframe tbody tr th {\n",
       "        vertical-align: top;\n",
       "    }\n",
       "\n",
       "    .dataframe thead th {\n",
       "        text-align: right;\n",
       "    }\n",
       "</style>\n",
       "<table border=\"1\" class=\"dataframe\">\n",
       "  <thead>\n",
       "    <tr style=\"text-align: right;\">\n",
       "      <th></th>\n",
       "      <th></th>\n",
       "      <th>Number of Jobs</th>\n",
       "    </tr>\n",
       "    <tr>\n",
       "      <th>SubClassification</th>\n",
       "      <th>SalaryRange</th>\n",
       "      <th></th>\n",
       "    </tr>\n",
       "  </thead>\n",
       "  <tbody>\n",
       "    <tr>\n",
       "      <th rowspan=\"5\" valign=\"top\">Account &amp; Relationship Management</th>\n",
       "      <th>0 - 30</th>\n",
       "      <td>409</td>\n",
       "    </tr>\n",
       "    <tr>\n",
       "      <th>100 - 120</th>\n",
       "      <td>241</td>\n",
       "    </tr>\n",
       "    <tr>\n",
       "      <th>70 - 80</th>\n",
       "      <td>230</td>\n",
       "    </tr>\n",
       "    <tr>\n",
       "      <th>80 - 100</th>\n",
       "      <td>227</td>\n",
       "    </tr>\n",
       "    <tr>\n",
       "      <th>60 - 70</th>\n",
       "      <td>215</td>\n",
       "    </tr>\n",
       "  </tbody>\n",
       "</table>\n",
       "</div>"
      ],
      "text/plain": [
       "                                               Number of Jobs\n",
       "SubClassification                 SalaryRange                \n",
       "Account & Relationship Management 0 - 30                  409\n",
       "                                  100 - 120               241\n",
       "                                  70 - 80                 230\n",
       "                                  80 - 100                227\n",
       "                                  60 - 70                 215"
      ]
     },
     "execution_count": 251,
     "metadata": {},
     "output_type": "execute_result"
    }
   ],
   "source": [
    "salary_count_df.head()"
   ]
  },
  {
   "cell_type": "code",
   "execution_count": 252,
   "metadata": {},
   "outputs": [
    {
     "data": {
      "text/html": [
       "<div>\n",
       "<style scoped>\n",
       "    .dataframe tbody tr th:only-of-type {\n",
       "        vertical-align: middle;\n",
       "    }\n",
       "\n",
       "    .dataframe tbody tr th {\n",
       "        vertical-align: top;\n",
       "    }\n",
       "\n",
       "    .dataframe thead th {\n",
       "        text-align: right;\n",
       "    }\n",
       "</style>\n",
       "<table border=\"1\" class=\"dataframe\">\n",
       "  <thead>\n",
       "    <tr style=\"text-align: right;\">\n",
       "      <th></th>\n",
       "      <th>Classification</th>\n",
       "      <th>SubClassification</th>\n",
       "      <th>Avg Salary</th>\n",
       "    </tr>\n",
       "  </thead>\n",
       "  <tbody>\n",
       "    <tr>\n",
       "      <th>132</th>\n",
       "      <td>Healthcare &amp; Medical</td>\n",
       "      <td>General Practitioners</td>\n",
       "      <td>412.234759</td>\n",
       "    </tr>\n",
       "    <tr>\n",
       "      <th>197</th>\n",
       "      <td>Healthcare &amp; Medical</td>\n",
       "      <td>Medical Specialists</td>\n",
       "      <td>367.311497</td>\n",
       "    </tr>\n",
       "    <tr>\n",
       "      <th>50</th>\n",
       "      <td>CEO &amp; General Management</td>\n",
       "      <td>COO &amp; MD</td>\n",
       "      <td>343.392157</td>\n",
       "    </tr>\n",
       "    <tr>\n",
       "      <th>49</th>\n",
       "      <td>CEO &amp; General Management</td>\n",
       "      <td>CEO</td>\n",
       "      <td>311.245399</td>\n",
       "    </tr>\n",
       "    <tr>\n",
       "      <th>17</th>\n",
       "      <td>Information &amp; Communication Technology</td>\n",
       "      <td>Architects</td>\n",
       "      <td>282.348191</td>\n",
       "    </tr>\n",
       "    <tr>\n",
       "      <th>257</th>\n",
       "      <td>Information &amp; Communication Technology</td>\n",
       "      <td>Programme &amp; Project Management</td>\n",
       "      <td>252.101741</td>\n",
       "    </tr>\n",
       "    <tr>\n",
       "      <th>133</th>\n",
       "      <td>CEO &amp; General Management</td>\n",
       "      <td>General/Business Unit Manager</td>\n",
       "      <td>248.575000</td>\n",
       "    </tr>\n",
       "    <tr>\n",
       "      <th>249</th>\n",
       "      <td>Government &amp; Defence</td>\n",
       "      <td>Police &amp; Corrections</td>\n",
       "      <td>243.220339</td>\n",
       "    </tr>\n",
       "    <tr>\n",
       "      <th>68</th>\n",
       "      <td>Accounting</td>\n",
       "      <td>Company Secretaries</td>\n",
       "      <td>225.684211</td>\n",
       "    </tr>\n",
       "    <tr>\n",
       "      <th>79</th>\n",
       "      <td>Banking &amp; Financial Services</td>\n",
       "      <td>Corporate Finance &amp; Investment Banking</td>\n",
       "      <td>210.496894</td>\n",
       "    </tr>\n",
       "  </tbody>\n",
       "</table>\n",
       "</div>"
      ],
      "text/plain": [
       "                             Classification  \\\n",
       "132                    Healthcare & Medical   \n",
       "197                    Healthcare & Medical   \n",
       "50                 CEO & General Management   \n",
       "49                 CEO & General Management   \n",
       "17   Information & Communication Technology   \n",
       "257  Information & Communication Technology   \n",
       "133                CEO & General Management   \n",
       "249                    Government & Defence   \n",
       "68                               Accounting   \n",
       "79             Banking & Financial Services   \n",
       "\n",
       "                          SubClassification  Avg Salary  \n",
       "132                   General Practitioners  412.234759  \n",
       "197                     Medical Specialists  367.311497  \n",
       "50                                 COO & MD  343.392157  \n",
       "49                                      CEO  311.245399  \n",
       "17                               Architects  282.348191  \n",
       "257          Programme & Project Management  252.101741  \n",
       "133           General/Business Unit Manager  248.575000  \n",
       "249                    Police & Corrections  243.220339  \n",
       "68                      Company Secretaries  225.684211  \n",
       "79   Corporate Finance & Investment Banking  210.496894  "
      ]
     },
     "execution_count": 252,
     "metadata": {},
     "output_type": "execute_result"
    }
   ],
   "source": [
    "avg_salary_df = pd.DataFrame(columns=['Classification', 'SubClassification', 'Avg Salary'])\n",
    "\n",
    "# Function that returns the classification for a particular sub classification\n",
    "def GetClass(df, subclass):\n",
    "    return df[df['SubClassification'] == subclass].Classification.values[0]\n",
    "\n",
    "range_avg = { '0 - 30' : 15, '30 - 40' : 35, '40 - 50' : 45, '50 - 60' : 55,  '60 - 70' : 65,\n",
    "    '70 - 80' : 75, '80 - 100' : 90, '100 - 120' : 110, '120 - 150' : 135, '150 - 200' : 175,\n",
    "    '200 - 999' : 599.5}\n",
    "\n",
    "\n",
    "current = salary_count_df.index[0][0]\n",
    "sums = 0\n",
    "total_jobs = 0\n",
    "\n",
    "# Loop to create a average salary data frame  \n",
    "for row in salary_count_df.iterrows():\n",
    "    subclass = row[0][0]\n",
    "    # If we have reached a new subclass to sum up calculate the average and append to the data frame\n",
    "    if subclass != current:\n",
    "        sums = sums / total_jobs\n",
    "        avg_salary_df = avg_salary_df.append({'Classification': GetClass(salary_df, current),\n",
    "                                              'SubClassification': current,\n",
    "                                             'Avg Salary': sums}, ignore_index=True)\n",
    "        current = subclass\n",
    "        sums = 0\n",
    "        total_jobs = 0\n",
    "        \n",
    "    \n",
    "    rng = row[0][1]\n",
    "    count = row[1]['Number of Jobs']\n",
    "    sums += range_avg[rng] * count\n",
    "    total_jobs += count\n",
    "    \n",
    "avg_salary_df.sort_values(by='Avg Salary', ascending=False).head(10)"
   ]
  },
  {
   "cell_type": "code",
   "execution_count": 253,
   "metadata": {},
   "outputs": [
    {
     "data": {
      "text/plain": [
       "<matplotlib.axes._subplots.AxesSubplot at 0x27701debc18>"
      ]
     },
     "execution_count": 253,
     "metadata": {},
     "output_type": "execute_result"
    },
    {
     "data": {
      "image/png": "[encoded data removed]",
      "text/plain": [
       "<Figure size 864x720 with 1 Axes>"
      ]
     },
     "metadata": {
      "needs_background": "light"
     },
     "output_type": "display_data"
    }
   ],
   "source": [
    "plt.figure(figsize=(12, 10))\n",
    "ax = sns.swarmplot(x=\"Avg Salary\", y=\"Classification\", data=avg_salary_df)\n",
    "ax.set_title(\"Sub Class Average Salaries grouped by Classification\")\n",
    "ax"
   ]
  },
  {
   "cell_type": "markdown",
   "metadata": {},
   "source": [
    "#### 3.3.1 Discussion\n",
    "The method of calculating the average salary for each sub classification involves first averaging the salary ranges themselves and then multiplying them by the number of jobs within that particular range. From Table TBA the 0 – 30k range would be averaged to 15k and multiplied by 409 for the ‘Accounting & Relationship Management’ sub class. A dictionary all ‘range_avg’ was created to make access to the average of ranges easier. All the range averages are summed up and then divided by the total number of jobs to give the sub class average salary.\n",
    "\n",
    "Using the average salary data Graph TBA was created to represent the distribution of salaries for each of the classifications as a swarm plot. The graph allows us to see where the mode salaries lie for every classification. For example, ‘Information and Communication Technology’ jobs hover between the 150k and 200k salary range, there are also some outliers past 250k. It should be noted that the salary range of 200k – 999k skews the data at the high end of the salary averages. Because it has such a big distance between the salary low and high (799k) the average salaries above 200k are not very accurate. For example, the GP average salary isn’t going to be 412k a year (closer to 200k – 300k) but because the average of the range is 599.5k it brings it up.\n"
   ]
  },
  {
   "cell_type": "markdown",
   "metadata": {},
   "source": [
    "#### 3.4 What is the trending of market i.e. if a high school student asked you which subject should he/she learn in university (to guarantee a job in the future), what is your advice?"
   ]
  },
  {
   "cell_type": "code",
   "execution_count": 254,
   "metadata": {},
   "outputs": [
    {
     "name": "stdout",
     "output_type": "stream",
     "text": [
      "SubClassification\n",
      "Other                        11349\n",
      "Management                    6236\n",
      "Chefs/Cooks                   4600\n",
      "Administrative Assistants     4572\n",
      "Developers/Programmers        4211\n",
      "Retail Assistants             3902\n",
      "Name: SubClassification, dtype: int64\n"
     ]
    }
   ],
   "source": [
    "subclass_df = orig_df[['Date','SubClassification']].copy()\n",
    "top5 = subclass_df.groupby(['SubClassification'])['SubClassification'].count().sort_values(ascending=False).head(6)\n",
    "subclass_df['Month'] = subclass_df['Date'].apply(lambda x: x.strip('T00:00:00.000Z'))\n",
    "pd.to_datetime(subclass_df['Month'], format='%Y-%m-%d')\n",
    "subclass_df['Month'] = pd.DatetimeIndex(subclass_df['Month']).month\n",
    "#subclass_df = subclass_df.drop(columns=['Date'])\n",
    "subclass_df = subclass_df.groupby(['SubClassification', 'Month'])['SubClassification'].count().reset_index(name='Postings').sort_values(['Postings'], ascending=False)\n",
    "print(top5)"
   ]
  },
  {
   "cell_type": "code",
   "execution_count": 255,
   "metadata": {},
   "outputs": [],
   "source": [
    "#subclass_df = subclass_df[subclass_df.Month != 3]\n",
    "ls = ['Management', 'Chefs/Cooks', 'Administrative Assistants',\n",
    "                                                     'Developers/Programmers', 'Retail Assistants']\n",
    "subclass_df[subclass_df['SubClassification'].isin(ls)]\n",
    "management_df = subclass_df[subclass_df['SubClassification'] == 'Management']"
   ]
  },
  {
   "cell_type": "code",
   "execution_count": 256,
   "metadata": {},
   "outputs": [
    {
     "name": "stdout",
     "output_type": "stream",
     "text": [
      "[3708, 1329, 1199, 1488.8999999999999]\n"
     ]
    },
    {
     "data": {
      "image/png": "[encoded data removed]",
      "text/plain": [
       "<Figure size 432x288 with 1 Axes>"
      ]
     },
     "metadata": {
      "needs_background": "light"
     },
     "output_type": "display_data"
    }
   ],
   "source": [
    "# Using moving average\n",
    "def movingAvg(data, n):\n",
    "    pred = data[:]\n",
    "    for i in range(0, n):\n",
    "        x_1 = pred[-1] * 0.6\n",
    "        x_2 = pred[-2] * 0.3\n",
    "        x_3 = pred[-3] * 0.1\n",
    "        avg = (x_1 + x_2 + x_3)\n",
    "        pred.append(avg)\n",
    "    return pred\n",
    "\n",
    "f, ax = plt.subplots(1, 1)\n",
    "mv_avg_df = movingAvg(list(management_df['Postings'].values), 1)\n",
    "print(mv_avg_df)\n",
    "#ma_df = moving_average(subclass_df, 4, 6)\n",
    "#sns.pointplot(x='Month', y='Postings', data=subclass_df, color='b')\n",
    "#sns.pointplot(x='Month', y='Postings', data=ma_df, color='g')\n",
    "#ax.legend(handles=ax.lines[::len(subclass_df)+1], labels=[\"Actual\", \"3-MA\"])\n",
    "#plt.show()"
   ]
  },
  {
   "cell_type": "markdown",
   "metadata": {},
   "source": [
    "#### 3.5 Can you detect which skills are required in each sector?"
   ]
  },
  {
   "cell_type": "markdown",
   "metadata": {},
   "source": [
    "### 4) Visualize the results on an interactive web page\n",
    "- Trend analysis: visualize number of jobs by locations, by sectors, etc\n",
    "- Compare between locations or sectors about the number of jobs, the salary, etc.\n",
    "- Present the necessary skills by sectors, by subsectors"
   ]
  },
  {
   "cell_type": "markdown",
   "metadata": {},
   "source": [
    "#### 5) Using PySpark for your data analysis [2 points]"
   ]
  },
  {
   "cell_type": "markdown",
   "metadata": {},
   "source": [
    "# Part 3 - Evaluation [5 Points]"
   ]
  },
  {
   "cell_type": "markdown",
   "metadata": {},
   "source": [
    "### Part 1) What are the findings of your data analytics?\n",
    "[2-3 paragraphs, 2 points]"
   ]
  },
  {
   "cell_type": "markdown",
   "metadata": {},
   "source": [
    "### Part 2) What actions for balancing the markets do you suggest based on your findings?\n",
    "[1-2 paragraphs, 1 point]"
   ]
  },
  {
   "cell_type": "markdown",
   "metadata": {},
   "source": [
    "### Part 3) How could you refine your data analytics? [1-2 paragraphs]"
   ]
  },
  {
   "cell_type": "markdown",
   "metadata": {},
   "source": [
    "#### 3.1 Could you use different data sources?\n",
    "\n",
    "#### 3.2 Could you choose different parameters?\n",
    "\n",
    "#### 3.3 Could you choose other techniques?\n",
    "\n",
    "#### 3.4 Can you think of ways to obtain more relevant data?"
   ]
  },
  {
   "cell_type": "markdown",
   "metadata": {},
   "source": [
    "### Part 4) Are there any implications for employers and employees based on the findings you obtained? Justify answer. [1-2 paragraphs]\n",
    "- Answer"
   ]
  },
  {
   "cell_type": "markdown",
   "metadata": {},
   "source": [
    "#### Part 5) Present and visualize your data story on an online Web Page [OPTIONAL - up to 5 bonus points]\n",
    "- Publish on Google Cloud or github.io"
   ]
  }
 ],
 "metadata": {
  "kernelspec": {
   "display_name": "Python 3",
   "language": "python",
   "name": "python3"
  },
  "language_info": {
   "codemirror_mode": {
    "name": "ipython",
    "version": 3
   },
   "file_extension": ".py",
   "mimetype": "text/x-python",
   "name": "python",
   "nbconvert_exporter": "python",
   "pygments_lexer": "ipython3",
   "version": "3.7.1"
  }
 },
 "nbformat": 4,
 "nbformat_minor": 2
}
