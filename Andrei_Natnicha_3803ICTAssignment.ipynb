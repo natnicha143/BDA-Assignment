{
 "cells": [
  {
   "cell_type": "markdown",
   "metadata": {},
   "source": [
    "# Part 1 - Data Preparation and Preprocessing \n"
   ]
  },
  {
   "cell_type": "code",
   "execution_count": 22,
   "metadata": {},
   "outputs": [],
   "source": [
    "# IMPORT MODULES\n",
    "import pandas as pd\n",
    "import numpy as np\n",
    "import re\n",
    "import matplotlib.pyplot as plt\n",
    "import seaborn as sns\n",
    "\n",
    "from sklearn.model_selection import train_test_split\n",
    "from sklearn import preprocessing, cluster, metrics\n",
    "\n",
    "# returns the first number in the range so it can be sorted by that value\n",
    "def RangeCompare(x):\n",
    "    return int(x.split()[0])\n",
    "\n",
    "# Custom sort function for the salary ranges\n",
    "def RangeSort(df_indexes):\n",
    "    return sorted(df_indexes, key = RangeCompare)"
   ]
  },
  {
   "cell_type": "code",
   "execution_count": 23,
   "metadata": {
    "scrolled": true
   },
   "outputs": [
    {
     "data": {
      "text/html": [
       "<div>\n",
       "<style scoped>\n",
       "    .dataframe tbody tr th:only-of-type {\n",
       "        vertical-align: middle;\n",
       "    }\n",
       "\n",
       "    .dataframe tbody tr th {\n",
       "        vertical-align: top;\n",
       "    }\n",
       "\n",
       "    .dataframe thead th {\n",
       "        text-align: right;\n",
       "    }\n",
       "</style>\n",
       "<table border=\"1\" class=\"dataframe\">\n",
       "  <thead>\n",
       "    <tr style=\"text-align: right;\">\n",
       "      <th></th>\n",
       "      <th>Id</th>\n",
       "      <th>Title</th>\n",
       "      <th>Company</th>\n",
       "      <th>Date</th>\n",
       "      <th>Location</th>\n",
       "      <th>Area</th>\n",
       "      <th>Classification</th>\n",
       "      <th>SubClassification</th>\n",
       "      <th>Requirement</th>\n",
       "      <th>FullDescription</th>\n",
       "      <th>LowestSalary</th>\n",
       "      <th>HighestSalary</th>\n",
       "      <th>JobType</th>\n",
       "    </tr>\n",
       "  </thead>\n",
       "  <tbody>\n",
       "    <tr>\n",
       "      <th>0</th>\n",
       "      <td>37404348</td>\n",
       "      <td>Casual Stock Replenisher</td>\n",
       "      <td>Aldi Stores</td>\n",
       "      <td>2018-10-07T00:00:00.000Z</td>\n",
       "      <td>Sydney</td>\n",
       "      <td>North West &amp; Hills District</td>\n",
       "      <td>Retail &amp; Consumer Products</td>\n",
       "      <td>Retail Assistants</td>\n",
       "      <td>Our Casual Stock Replenishers pride themselves...</td>\n",
       "      <td>NaN</td>\n",
       "      <td>0</td>\n",
       "      <td>30</td>\n",
       "      <td>NaN</td>\n",
       "    </tr>\n",
       "    <tr>\n",
       "      <th>1</th>\n",
       "      <td>37404337</td>\n",
       "      <td>Casual Stock Replenisher</td>\n",
       "      <td>Aldi Stores</td>\n",
       "      <td>2018-10-07T00:00:00.000Z</td>\n",
       "      <td>Richmond &amp; Hawkesbury</td>\n",
       "      <td>NaN</td>\n",
       "      <td>Retail &amp; Consumer Products</td>\n",
       "      <td>Retail Assistants</td>\n",
       "      <td>Our Casual Stock Replenishers pride themselves...</td>\n",
       "      <td>NaN</td>\n",
       "      <td>0</td>\n",
       "      <td>30</td>\n",
       "      <td>NaN</td>\n",
       "    </tr>\n",
       "    <tr>\n",
       "      <th>2</th>\n",
       "      <td>37404356</td>\n",
       "      <td>RETAIL SALES SUPERSTARS and STYLISTS Wanted - ...</td>\n",
       "      <td>LB Creative Pty Ltd</td>\n",
       "      <td>2018-10-07T00:00:00.000Z</td>\n",
       "      <td>Brisbane</td>\n",
       "      <td>CBD &amp; Inner Suburbs</td>\n",
       "      <td>Retail &amp; Consumer Products</td>\n",
       "      <td>Retail Assistants</td>\n",
       "      <td>BRAND NEW FLAGSHIP STORE OPENING - SUNSHINE PLAZA</td>\n",
       "      <td>NaN</td>\n",
       "      <td>0</td>\n",
       "      <td>30</td>\n",
       "      <td>NaN</td>\n",
       "    </tr>\n",
       "    <tr>\n",
       "      <th>3</th>\n",
       "      <td>37404330</td>\n",
       "      <td>Team member - Belrose</td>\n",
       "      <td>Anaconda Group Pty Ltd</td>\n",
       "      <td>2018-10-07T00:00:00.000Z</td>\n",
       "      <td>Gosford &amp; Central Coast</td>\n",
       "      <td>NaN</td>\n",
       "      <td>Retail &amp; Consumer Products</td>\n",
       "      <td>Retail Assistants</td>\n",
       "      <td>Bring it on - do you love the great outdoors a...</td>\n",
       "      <td>NaN</td>\n",
       "      <td>0</td>\n",
       "      <td>30</td>\n",
       "      <td>NaN</td>\n",
       "    </tr>\n",
       "    <tr>\n",
       "      <th>4</th>\n",
       "      <td>37404308</td>\n",
       "      <td>Business Banking Contact Centre Specialist, Ni...</td>\n",
       "      <td>Commonwealth Bank - Business &amp; Private Banking</td>\n",
       "      <td>2018-10-07T00:00:00.000Z</td>\n",
       "      <td>Sydney</td>\n",
       "      <td>Ryde &amp; Macquarie Park</td>\n",
       "      <td>Call Centre &amp; Customer Service</td>\n",
       "      <td>Sales - Inbound</td>\n",
       "      <td>We are seeking highly articulate, enthusiastic...</td>\n",
       "      <td>NaN</td>\n",
       "      <td>0</td>\n",
       "      <td>30</td>\n",
       "      <td>NaN</td>\n",
       "    </tr>\n",
       "  </tbody>\n",
       "</table>\n",
       "</div>"
      ],
      "text/plain": [
       "         Id                                              Title  \\\n",
       "0  37404348                           Casual Stock Replenisher   \n",
       "1  37404337                           Casual Stock Replenisher   \n",
       "2  37404356  RETAIL SALES SUPERSTARS and STYLISTS Wanted - ...   \n",
       "3  37404330                              Team member - Belrose   \n",
       "4  37404308  Business Banking Contact Centre Specialist, Ni...   \n",
       "\n",
       "                                          Company                      Date  \\\n",
       "0                                     Aldi Stores  2018-10-07T00:00:00.000Z   \n",
       "1                                     Aldi Stores  2018-10-07T00:00:00.000Z   \n",
       "2                             LB Creative Pty Ltd  2018-10-07T00:00:00.000Z   \n",
       "3                          Anaconda Group Pty Ltd  2018-10-07T00:00:00.000Z   \n",
       "4  Commonwealth Bank - Business & Private Banking  2018-10-07T00:00:00.000Z   \n",
       "\n",
       "                  Location                         Area  \\\n",
       "0                   Sydney  North West & Hills District   \n",
       "1    Richmond & Hawkesbury                          NaN   \n",
       "2                 Brisbane          CBD & Inner Suburbs   \n",
       "3  Gosford & Central Coast                          NaN   \n",
       "4                   Sydney        Ryde & Macquarie Park   \n",
       "\n",
       "                   Classification  SubClassification  \\\n",
       "0      Retail & Consumer Products  Retail Assistants   \n",
       "1      Retail & Consumer Products  Retail Assistants   \n",
       "2      Retail & Consumer Products  Retail Assistants   \n",
       "3      Retail & Consumer Products  Retail Assistants   \n",
       "4  Call Centre & Customer Service    Sales - Inbound   \n",
       "\n",
       "                                         Requirement FullDescription  \\\n",
       "0  Our Casual Stock Replenishers pride themselves...             NaN   \n",
       "1  Our Casual Stock Replenishers pride themselves...             NaN   \n",
       "2  BRAND NEW FLAGSHIP STORE OPENING - SUNSHINE PLAZA             NaN   \n",
       "3  Bring it on - do you love the great outdoors a...             NaN   \n",
       "4  We are seeking highly articulate, enthusiastic...             NaN   \n",
       "\n",
       "   LowestSalary  HighestSalary JobType  \n",
       "0             0             30     NaN  \n",
       "1             0             30     NaN  \n",
       "2             0             30     NaN  \n",
       "3             0             30     NaN  \n",
       "4             0             30     NaN  "
      ]
     },
     "execution_count": 23,
     "metadata": {},
     "output_type": "execute_result"
    }
   ],
   "source": [
    "# Perform data preparation and processing\n",
    "## code\n",
    "orig_df = pd.read_csv(\"data.csv\")\n",
    "orig_df.head(5)"
   ]
  },
  {
   "cell_type": "code",
   "execution_count": 24,
   "metadata": {},
   "outputs": [
    {
     "name": "stdout",
     "output_type": "stream",
     "text": [
      "Number of Job Types Edited:  13670\n"
     ]
    },
    {
     "data": {
      "text/html": [
       "<div>\n",
       "<style scoped>\n",
       "    .dataframe tbody tr th:only-of-type {\n",
       "        vertical-align: middle;\n",
       "    }\n",
       "\n",
       "    .dataframe tbody tr th {\n",
       "        vertical-align: top;\n",
       "    }\n",
       "\n",
       "    .dataframe thead th {\n",
       "        text-align: right;\n",
       "    }\n",
       "</style>\n",
       "<table border=\"1\" class=\"dataframe\">\n",
       "  <thead>\n",
       "    <tr style=\"text-align: right;\">\n",
       "      <th></th>\n",
       "      <th>Title</th>\n",
       "      <th>JobType</th>\n",
       "    </tr>\n",
       "  </thead>\n",
       "  <tbody>\n",
       "    <tr>\n",
       "      <th>0</th>\n",
       "      <td>Stock Replenisher</td>\n",
       "      <td>Casual/Vacation</td>\n",
       "    </tr>\n",
       "    <tr>\n",
       "      <th>1</th>\n",
       "      <td>Stock Replenisher</td>\n",
       "      <td>Casual/Vacation</td>\n",
       "    </tr>\n",
       "    <tr>\n",
       "      <th>2</th>\n",
       "      <td>RETAIL SALES SUPERSTARS and STYLISTS Wanted - ...</td>\n",
       "      <td>NaN</td>\n",
       "    </tr>\n",
       "    <tr>\n",
       "      <th>3</th>\n",
       "      <td>Team member - Belrose</td>\n",
       "      <td>NaN</td>\n",
       "    </tr>\n",
       "    <tr>\n",
       "      <th>4</th>\n",
       "      <td>Business Banking Contact Centre Specialist, Ni...</td>\n",
       "      <td>NaN</td>\n",
       "    </tr>\n",
       "  </tbody>\n",
       "</table>\n",
       "</div>"
      ],
      "text/plain": [
       "                                               Title          JobType\n",
       "0                                  Stock Replenisher  Casual/Vacation\n",
       "1                                  Stock Replenisher  Casual/Vacation\n",
       "2  RETAIL SALES SUPERSTARS and STYLISTS Wanted - ...              NaN\n",
       "3                              Team member - Belrose              NaN\n",
       "4  Business Banking Contact Centre Specialist, Ni...              NaN"
      ]
     },
     "execution_count": 24,
     "metadata": {},
     "output_type": "execute_result"
    }
   ],
   "source": [
    "# take job type from title put in job type column where job type is NaN\n",
    "jTypes = ['Casual', 'Part Time', 'Full Time']\n",
    "edited = 0\n",
    "\n",
    "for index, row in orig_df.iterrows():\n",
    "    for job in jTypes:\n",
    "        match = re.match(job, row['Title'], re.IGNORECASE)\n",
    "        \n",
    "        if match is not None:\n",
    "            # Replace the job type from the title\n",
    "            orig_df.at[index, 'Title'] = row['Title'].replace(match.group(), '')\n",
    "            \n",
    "            # If the row has no job type add it in\n",
    "            if pd.isnull(row['JobType']):\n",
    "                if job == 'Casual':\n",
    "                    orig_df.at[index, 'JobType'] = 'Casual/Vacation'\n",
    "                else:\n",
    "                    orig_df.at[index, 'JobType'] = job\n",
    "            edited += 1\n",
    "print('Number of Job Types Edited: ', edited)\n",
    "orig_df[['Title', 'JobType']].head()"
   ]
  },
  {
   "cell_type": "code",
   "execution_count": 25,
   "metadata": {},
   "outputs": [
    {
     "name": "stdout",
     "output_type": "stream",
     "text": [
      "Date                 datetime64[ns]\n",
      "Location                     object\n",
      "Classification               object\n",
      "SubClassification            object\n",
      "LowestSalary                  int64\n",
      "HighestSalary                 int64\n",
      "JobType                      object\n",
      "dtype: object\n"
     ]
    }
   ],
   "source": [
    "# drop id, drop duplicates\n",
    "orig_df = orig_df.drop_duplicates()\n",
    "orig_df['Date'] = orig_df['Date'].apply(lambda x: x.strip('T00:00:00.000Z'))\n",
    "orig_df['Date'] = pd.to_datetime(orig_df['Date'], format='%Y-%m-%d')\n",
    "orig_df = orig_df.drop(columns=['Id', 'FullDescription', 'Title', 'Company', 'Requirement','Area'])\n",
    "print (orig_df.dtypes)"
   ]
  },
  {
   "cell_type": "code",
   "execution_count": 26,
   "metadata": {},
   "outputs": [
    {
     "data": {
      "text/html": [
       "<div>\n",
       "<style scoped>\n",
       "    .dataframe tbody tr th:only-of-type {\n",
       "        vertical-align: middle;\n",
       "    }\n",
       "\n",
       "    .dataframe tbody tr th {\n",
       "        vertical-align: top;\n",
       "    }\n",
       "\n",
       "    .dataframe thead th {\n",
       "        text-align: right;\n",
       "    }\n",
       "</style>\n",
       "<table border=\"1\" class=\"dataframe\">\n",
       "  <thead>\n",
       "    <tr style=\"text-align: right;\">\n",
       "      <th></th>\n",
       "      <th>Date</th>\n",
       "      <th>Location</th>\n",
       "      <th>Classification</th>\n",
       "      <th>SubClassification</th>\n",
       "      <th>LowestSalary</th>\n",
       "      <th>HighestSalary</th>\n",
       "      <th>JobType</th>\n",
       "    </tr>\n",
       "  </thead>\n",
       "  <tbody>\n",
       "    <tr>\n",
       "      <th>0</th>\n",
       "      <td>2018-10-07</td>\n",
       "      <td>Sydney</td>\n",
       "      <td>Retail &amp; Consumer Products</td>\n",
       "      <td>Retail Assistants</td>\n",
       "      <td>0</td>\n",
       "      <td>30</td>\n",
       "      <td>Casual/Vacation</td>\n",
       "    </tr>\n",
       "    <tr>\n",
       "      <th>1</th>\n",
       "      <td>2018-10-07</td>\n",
       "      <td>Richmond &amp; Hawkesbury</td>\n",
       "      <td>Retail &amp; Consumer Products</td>\n",
       "      <td>Retail Assistants</td>\n",
       "      <td>0</td>\n",
       "      <td>30</td>\n",
       "      <td>Casual/Vacation</td>\n",
       "    </tr>\n",
       "    <tr>\n",
       "      <th>2</th>\n",
       "      <td>2018-10-07</td>\n",
       "      <td>Brisbane</td>\n",
       "      <td>Retail &amp; Consumer Products</td>\n",
       "      <td>Retail Assistants</td>\n",
       "      <td>0</td>\n",
       "      <td>30</td>\n",
       "      <td>NaN</td>\n",
       "    </tr>\n",
       "    <tr>\n",
       "      <th>3</th>\n",
       "      <td>2018-10-07</td>\n",
       "      <td>Gosford &amp; Central Coast</td>\n",
       "      <td>Retail &amp; Consumer Products</td>\n",
       "      <td>Retail Assistants</td>\n",
       "      <td>0</td>\n",
       "      <td>30</td>\n",
       "      <td>NaN</td>\n",
       "    </tr>\n",
       "    <tr>\n",
       "      <th>4</th>\n",
       "      <td>2018-10-07</td>\n",
       "      <td>Sydney</td>\n",
       "      <td>Call Centre &amp; Customer Service</td>\n",
       "      <td>Sales - Inbound</td>\n",
       "      <td>0</td>\n",
       "      <td>30</td>\n",
       "      <td>NaN</td>\n",
       "    </tr>\n",
       "  </tbody>\n",
       "</table>\n",
       "</div>"
      ],
      "text/plain": [
       "        Date                 Location                  Classification  \\\n",
       "0 2018-10-07                   Sydney      Retail & Consumer Products   \n",
       "1 2018-10-07    Richmond & Hawkesbury      Retail & Consumer Products   \n",
       "2 2018-10-07                 Brisbane      Retail & Consumer Products   \n",
       "3 2018-10-07  Gosford & Central Coast      Retail & Consumer Products   \n",
       "4 2018-10-07                   Sydney  Call Centre & Customer Service   \n",
       "\n",
       "   SubClassification  LowestSalary  HighestSalary          JobType  \n",
       "0  Retail Assistants             0             30  Casual/Vacation  \n",
       "1  Retail Assistants             0             30  Casual/Vacation  \n",
       "2  Retail Assistants             0             30              NaN  \n",
       "3  Retail Assistants             0             30              NaN  \n",
       "4    Sales - Inbound             0             30              NaN  "
      ]
     },
     "execution_count": 26,
     "metadata": {},
     "output_type": "execute_result"
    }
   ],
   "source": [
    "# create separate data frames\n",
    "job_type_df = orig_df[['SubClassification', 'JobType']].copy()\n",
    "job_type_df = job_type_df.dropna(axis=0, subset=['JobType'])\n",
    "class_subclass_df = orig_df[['Location', 'Classification', 'SubClassification']].copy()\n",
    "class_subclass_df.dropna()\n",
    "# can talk about how actual salary and full description different\n",
    "salary_df = orig_df[['Location','SubClassification', 'Classification', 'LowestSalary', 'HighestSalary']].copy()\n",
    "orig_df.head(5)"
   ]
  },
  {
   "cell_type": "markdown",
   "metadata": {},
   "source": [
    "### 1) Describe the dataset"
   ]
  },
  {
   "cell_type": "markdown",
   "metadata": {},
   "source": [
    "The dataset is a delimited file of SEEK data with each row of data associated with a single job posting and each column with the attributes consistent to all postings. Most of the data is either categorical or textual data (title, company, location, area, classification, subclassification, requirements, full description and job type) with the only real numerical data being the date of posting and the lowest / highest salaries. From looking at the data it is clear that except for the columns: id, title, date and lowest / highest salary all other columns have missing data entries. Therefore, when analysing particular columns, we will drop the relevant missing data rows."
   ]
  },
  {
   "cell_type": "markdown",
   "metadata": {},
   "source": [
    "The main attributes of the marketing data set that is going to be used is the dates, location, classification and subclassification, lowest / highest salary and job type. For some of the job postings the job type is present in the title but not in the ‘JobType’ column therefore some cleaning and reassignment will need to be done. It should also be noted that for some jobs the salary range and their ‘FullDescription’ job salary differs. Due to the fact that it is quite difficult to parse the full descriptions of each posting to obtain the appropriate range (e.g. salary being stated in different ways 90K, $400 000, thirty thousand a  year etc. & superannuation sometimes being included) and the fact that it does not occur too often it will be omitted from cleaning. "
   ]
  },
  {
   "cell_type": "markdown",
   "metadata": {},
   "source": [
    "### 2) Describe the steps you used for data preparation and preprocessing"
   ]
  },
  {
   "cell_type": "markdown",
   "metadata": {},
   "source": [
    "The comma delimited file was loaded in using Python's Pandas library. Pandas is important in this analysis as it stores our data in a way we can easily manipulate or query it. The read_csv() method was used to create a DataFrame (Python object  with rows and columns) containing all the data from \"data.csv\". This method takes in any delimited file where the user may supply a parameter \"sep=','\" for a delimiter other than a comma (which is the default).\n",
    "\n",
    "There was no normalization of scaled data as HighestSalary and LowestSalary were both represented in the 100,000's or in K and the date column was uniformally represented as %Y-%m-%dT00:00:00.000Z. Any duplicates within the dataframe were dropped using the drop_duplicates() method. The date attribute was in the form '%Y-%m-%dT00:00:00.000Z', to represent it in a format that could be easily manipulated, the time was stripped from the object and converted to a datetime type so that the day, month or year could be extracted by calling day/month/year on the dataframe column. In the JobType attribute there appeared to be a lot of missing data, and having noticed that employers advertised the job type in the Title attribute we queried the two columns to replace any NaN values within JobType with any findings of 'Casual', 'Casual/Vaction', 'Part Time' or 'Full Time'.\n",
    "\n",
    "It was necessary to drop irrelevant data within the original dataframe such as columns: Id, Company, Requirement and Full Description as they were never used and it not affect the results of our analysis if included. Any inconsistent data was also omitted such as the Title attribute, due to the nature of the data (freely defined input data) there was no way to categorize this data properly as every employer had their own interpretation of the job title and were not restricted to picking a pre-defined title set my SEEK. \n",
    "\n",
    "Any missing data was dealt with below in each separate subset dataframe, using Panda's dropna() function. Depending on which subset of data we are using, we would only drop NaN values when analysing a particular set of columns and not the whole dataframe. This was done due to the fact that if we dropped every row that had a missing column value we would be omitting a proper analysis of each column or subset of columns."
   ]
  },
  {
   "cell_type": "markdown",
   "metadata": {},
   "source": [
    "### 3) What is your hypothesis about the analysis outcome? \n",
    "### Job Metadata\n",
    "- Software developer jobs would have a majority of salaries over $70 000.\n",
    "- The major cities in Australia would have either Information & Communication Technology or Hospitality & Tourism jobs.\n",
    "- The classifier for job type will have an accuracy score of above 60%.\n",
    "### Job Market Locations\n",
    "#### Market size\n",
    "- Melbourne, Sydney, Brisbane and then ACT are predicted to have the highest market size within Australia\n",
    "#### Most popular sectors:\n",
    "- For Melbourne - ICT or Trades & Services\n",
    "- For Gold Coast - Hospitality or Trades & Services \n",
    "- Brisbane - ICT or Transport Services \n",
    "- Sydney - ICT or Real Estate  \n",
    "#### Highest paying cities\n",
    "- The city with the highest average salary is Sydney\n",
    "#### Pattern of posting\n",
    "- Logically, posting job advertisements at the start of the month would be most common\n",
    "### Job Market Sectors\n",
    "#### Sub-sector spotlight\n",
    "- The highlight of Hospitality & Tourism would be waitstaff, plumbing for Trades & Services and Software Development for Information & Communication Technology. \n",
    "#### Salary range for sector/sub-sector\n",
    "- CEO & General Management should have the average highest salary out of all job classifications\n",
    "#### Popular jobs in the future\n",
    "- Marketing or Advertising\n",
    "- Programming \n",
    "- Architecture \n",
    "- Business/System Analyst"
   ]
  },
  {
   "cell_type": "markdown",
   "metadata": {},
   "source": [
    "# Part 2 - Data Analysis and Interpretation"
   ]
  },
  {
   "cell_type": "markdown",
   "metadata": {},
   "source": [
    "- Perform exploratory data analysis\n",
    "- Perform statistical data analysis\n",
    "- Perform predictive data analysis"
   ]
  },
  {
   "cell_type": "markdown",
   "metadata": {},
   "source": [
    "### 1) Study the job metadata. Extract the relevant information to describe the job's attributes."
   ]
  },
  {
   "cell_type": "markdown",
   "metadata": {},
   "source": [
    "#### 1.1 What are the ranges of salaries for sub classification? "
   ]
  },
  {
   "cell_type": "code",
   "execution_count": 27,
   "metadata": {},
   "outputs": [],
   "source": [
    "salary_df['SalaryRange'] = '0' \n",
    "for index, row in salary_df.iterrows():\n",
    "    salary_df.at[index, 'SalaryRange'] = str(row['LowestSalary']) + \\\n",
    "                                            ' - ' + str(row['HighestSalary'])\n",
    "    \n",
    "salary_df = salary_df.drop(columns=['LowestSalary', 'HighestSalary'])\n",
    "salary_df.head()\n",
    "salary_location_df = salary_df.copy()\n",
    "salary_df = salary_df.drop(columns=['Location'])"
   ]
  },
  {
   "cell_type": "code",
   "execution_count": 28,
   "metadata": {},
   "outputs": [
    {
     "data": {
      "text/html": [
       "<div>\n",
       "<style scoped>\n",
       "    .dataframe tbody tr th:only-of-type {\n",
       "        vertical-align: middle;\n",
       "    }\n",
       "\n",
       "    .dataframe tbody tr th {\n",
       "        vertical-align: top;\n",
       "    }\n",
       "\n",
       "    .dataframe thead th {\n",
       "        text-align: right;\n",
       "    }\n",
       "</style>\n",
       "<table border=\"1\" class=\"dataframe\">\n",
       "  <thead>\n",
       "    <tr style=\"text-align: right;\">\n",
       "      <th></th>\n",
       "      <th></th>\n",
       "      <th>Number of Jobs</th>\n",
       "    </tr>\n",
       "    <tr>\n",
       "      <th>SubClassification</th>\n",
       "      <th>SalaryRange</th>\n",
       "      <th></th>\n",
       "    </tr>\n",
       "  </thead>\n",
       "  <tbody>\n",
       "    <tr>\n",
       "      <th rowspan=\"5\" valign=\"top\">Account &amp; Relationship Management</th>\n",
       "      <th>0 - 30</th>\n",
       "      <td>409</td>\n",
       "    </tr>\n",
       "    <tr>\n",
       "      <th>100 - 120</th>\n",
       "      <td>241</td>\n",
       "    </tr>\n",
       "    <tr>\n",
       "      <th>70 - 80</th>\n",
       "      <td>230</td>\n",
       "    </tr>\n",
       "    <tr>\n",
       "      <th>80 - 100</th>\n",
       "      <td>227</td>\n",
       "    </tr>\n",
       "    <tr>\n",
       "      <th>60 - 70</th>\n",
       "      <td>215</td>\n",
       "    </tr>\n",
       "  </tbody>\n",
       "</table>\n",
       "</div>"
      ],
      "text/plain": [
       "                                               Number of Jobs\n",
       "SubClassification                 SalaryRange                \n",
       "Account & Relationship Management 0 - 30                  409\n",
       "                                  100 - 120               241\n",
       "                                  70 - 80                 230\n",
       "                                  80 - 100                227\n",
       "                                  60 - 70                 215"
      ]
     },
     "execution_count": 28,
     "metadata": {},
     "output_type": "execute_result"
    }
   ],
   "source": [
    "# Grouping the salary data frame by subclass and salary range to produce the table\n",
    "salary_count_df = salary_df.groupby(['SubClassification', 'SalaryRange']).count(\n",
    "                    ).rename(columns = {'Classification' : 'Number of Jobs'})\n",
    "\n",
    "salary_count_df.sort_values(by=['SubClassification', 'Number of Jobs'], \n",
    "                            ascending=[True, False],  inplace=True)\n",
    "\n",
    "salary_count_df.head()"
   ]
  },
  {
   "cell_type": "code",
   "execution_count": 29,
   "metadata": {},
   "outputs": [
    {
     "name": "stdout",
     "output_type": "stream",
     "text": [
      "Figure 1 - Sub Classification: CEO \n",
      "\n",
      "             Number of Jobs\n",
      "SalaryRange                \n",
      "200 - 999                64\n",
      "150 - 200                52\n",
      "0 - 30                   18\n",
      "120 - 150                10\n",
      "100 - 120                 7\n",
      "80 - 100                  5\n",
      "70 - 80                   3\n",
      "30 - 40                   2\n",
      "60 - 70                   2\n"
     ]
    }
   ],
   "source": [
    "# Access a particular sub classes range information. If n given, top n ranges returned based on counts\n",
    "def SalaryData(sc_df, subclass, n = 0):\n",
    "    if n == 0:\n",
    "        return sc_df.loc[subclass, :]\n",
    "    else:\n",
    "        return sc_df.loc[subclass, :].nlargest(n, 'Number of Jobs')\n",
    "\n",
    "print('Figure 1 - Sub Classification: CEO \\n')\n",
    "print(SalaryData(salary_count_df, 'CEO'))"
   ]
  },
  {
   "cell_type": "code",
   "execution_count": 30,
   "metadata": {},
   "outputs": [
    {
     "data": {
      "text/plain": [
       "<matplotlib.axes._subplots.AxesSubplot at 0x258a834b160>"
      ]
     },
     "execution_count": 30,
     "metadata": {},
     "output_type": "execute_result"
    },
    {
     "data": {
      "image/png": "[encoded data removed]",
      "text/plain": [
       "<Figure size 432x288 with 1 Axes>"
      ]
     },
     "metadata": {
      "needs_background": "light"
     },
     "output_type": "display_data"
    }
   ],
   "source": [
    "# Plot Developers/Programmers Data by calling the SalaryData function\n",
    "temp_df = SalaryData(salary_count_df, 'Developers/Programmers').sort_values(by=['SalaryRange'])\n",
    "temp_df = temp_df.reindex(index=RangeSort(temp_df.index))\n",
    "\n",
    "ax = temp_df.plot.bar(title='Figure 2 - Developers/Programmers Salary Comparison', legend=False)\n",
    "ax.set_ylabel('Number of Jobs')\n",
    "ax"
   ]
  },
  {
   "cell_type": "markdown",
   "metadata": {},
   "source": [
    "#### 1.1 Discussion\n",
    "From looking at the raw data, there are examples of jobs that have conflicting salaries. Their full descriptions and the lowest and highest salaries differ and with the fact that all jobs have a lowest and highest salary it is clear that the range 0 - 30 is a default value that some job postings haven't changed. This can be clearly seen by looking at the data for the 'CEO' sub classification (Figure 1), it isn't realistic for so many jobs to be in the 0 - 30 range for such a demanding job. \n",
    "\n",
    "The ‘salary_count_df’ Data Frame allows us to generate histograms like the one for Developers/Programmers (Figure 2) showing the distribution of job postings by salary range. A function (called ‘SalaryData’) was created to obtain easy access to the salary range data for every sub classification that exists. The function takes ‘salary_count_df’, a sub class name and number of ranges to be returned in order of posting numbers. If the function is passed nothing it returns all the ranges to the function. \n"
   ]
  },
  {
   "cell_type": "markdown",
   "metadata": {},
   "source": [
    "#### 1.2 Where is the location of the sub class?"
   ]
  },
  {
   "cell_type": "code",
   "execution_count": 31,
   "metadata": {},
   "outputs": [
    {
     "data": {
      "text/html": [
       "<div>\n",
       "<style scoped>\n",
       "    .dataframe tbody tr th:only-of-type {\n",
       "        vertical-align: middle;\n",
       "    }\n",
       "\n",
       "    .dataframe tbody tr th {\n",
       "        vertical-align: top;\n",
       "    }\n",
       "\n",
       "    .dataframe thead th {\n",
       "        text-align: right;\n",
       "    }\n",
       "</style>\n",
       "<table border=\"1\" class=\"dataframe\">\n",
       "  <thead>\n",
       "    <tr style=\"text-align: right;\">\n",
       "      <th></th>\n",
       "      <th></th>\n",
       "      <th>Number of Jobs</th>\n",
       "    </tr>\n",
       "    <tr>\n",
       "      <th>Location</th>\n",
       "      <th>Classification</th>\n",
       "      <th></th>\n",
       "    </tr>\n",
       "  </thead>\n",
       "  <tbody>\n",
       "    <tr>\n",
       "      <th rowspan=\"5\" valign=\"top\">ACT</th>\n",
       "      <th>Accounting</th>\n",
       "      <td>180</td>\n",
       "    </tr>\n",
       "    <tr>\n",
       "      <th>Administration &amp; Office Support</th>\n",
       "      <td>319</td>\n",
       "    </tr>\n",
       "    <tr>\n",
       "      <th>Advertising, Arts &amp; Media</th>\n",
       "      <td>22</td>\n",
       "    </tr>\n",
       "    <tr>\n",
       "      <th>Banking &amp; Financial Services</th>\n",
       "      <td>47</td>\n",
       "    </tr>\n",
       "    <tr>\n",
       "      <th>CEO &amp; General Management</th>\n",
       "      <td>22</td>\n",
       "    </tr>\n",
       "  </tbody>\n",
       "</table>\n",
       "</div>"
      ],
      "text/plain": [
       "                                          Number of Jobs\n",
       "Location Classification                                 \n",
       "ACT      Accounting                                  180\n",
       "         Administration & Office Support             319\n",
       "         Advertising, Arts & Media                    22\n",
       "         Banking & Financial Services                 47\n",
       "         CEO & General Management                     22"
      ]
     },
     "execution_count": 31,
     "metadata": {},
     "output_type": "execute_result"
    }
   ],
   "source": [
    "# Create DF containing counts of the jobs in each city grouped by their classification\n",
    "loc_class_count_df = class_subclass_df.groupby(['Location', 'Classification']).count(\n",
    "                        ).rename(columns = {'SubClassification' : 'Number of Jobs'})\n",
    "\n",
    "loc_class_count_df.head()"
   ]
  },
  {
   "cell_type": "code",
   "execution_count": 32,
   "metadata": {},
   "outputs": [
    {
     "name": "stdout",
     "output_type": "stream",
     "text": [
      "Figure 3 - City: Melbourne \n",
      "\n",
      "                                        Number of Jobs\n",
      "Classification                                        \n",
      "Information & Communication Technology            5889\n",
      "Hospitality & Tourism                             4060\n",
      "Trades & Services                                 3831\n",
      "Manufacturing, Transport & Logistics              3556\n",
      "Healthcare & Medical                              3493\n"
     ]
    }
   ],
   "source": [
    "# Access a particular cities job information, if n given top n jobs returned based on counts\n",
    "def CityData(lc_df, city, n = 0):\n",
    "    if n == 0:\n",
    "        return lc_df.loc[city, :]\n",
    "    else:\n",
    "        return lc_df.loc[city, :].nlargest(n, 'Number of Jobs')\n",
    "\n",
    "\n",
    "lc_df = CityData(loc_class_count_df, 'Melbourne', 5)\n",
    "\n",
    "print('Figure 3 - City: Melbourne \\n')\n",
    "print(lc_df.head())"
   ]
  },
  {
   "cell_type": "code",
   "execution_count": 33,
   "metadata": {},
   "outputs": [
    {
     "data": {
      "image/png": "[encoded data removed]",
      "text/plain": [
       "<Figure size 432x288 with 2 Axes>"
      ]
     },
     "metadata": {},
     "output_type": "display_data"
    }
   ],
   "source": [
    "# Graphing a comparison between the top 5 sectors for Gold Coast and Brisbane \n",
    "fig1, ax = plt.subplots(1, 2)\n",
    "\n",
    "lc_df = CityData(loc_class_count_df, 'Brisbane', 5)\n",
    "ax[0].pie(lc_df['Number of Jobs'], labels=lc_df.index, autopct='%1.1f%%')\n",
    "ax[0].set_title('Figure 4.a - Top 5 Sectors in Brisbane')\n",
    "\n",
    "lc_df2 = CityData(loc_class_count_df, 'Gold Coast', 5)\n",
    "ax[1].pie(lc_df2['Number of Jobs'], labels=lc_df2.index, autopct='%1.1f%%')\n",
    "ax[1].set_title('Figure 4.b - Top 5 Sectors in Gold Coast')\n",
    "\n",
    "box = ax[1].get_position()\n",
    "box.x0 = box.x0 + 0.4\n",
    "box.x1 = box.x1 + 0.4\n",
    "ax[1].set_position(box)\n",
    "\n",
    "\n",
    "plt.show()"
   ]
  },
  {
   "cell_type": "markdown",
   "metadata": {},
   "source": [
    "#### 1.2 Discussion\n",
    "The ‘loc_class_count_df’ is a data frame grouped by the location and classification, for each classification is shows the number of job postings at that location. The function ‘CityData()’ can access an individual cities classification posting information. It takes the ‘loc_class_count_df’, city name and number of classifications to return ordered by job postings as parameters. As hypothesised the most common jobs in the Gold Coast were in the Hospitality & tourism sector and in the same vein Brisbane has a lot of Information & Communication Technology job postings (Figure 4). The data also revealed that Melbourne (Figure 3), Brisbane and the Gold Coast had four sectors in common (Trades & Services, Hospitality & Tourism, Manufacturing, Transport & Logistics, and Healthcare & Medical).\n"
   ]
  },
  {
   "cell_type": "markdown",
   "metadata": {},
   "source": [
    "#### 1.3 Classifying the Job Type using Categorical Data"
   ]
  },
  {
   "cell_type": "code",
   "execution_count": 34,
   "metadata": {},
   "outputs": [],
   "source": [
    "job_type_df = orig_df[['Classification', 'SubClassification', 'LowestSalary', 'HighestSalary', 'JobType']].copy()\n",
    "job_type_df = job_type_df.dropna()\n",
    "job_type_df = job_type_df.reset_index()\n",
    "job_type_df = job_type_df.drop(columns=['index'])"
   ]
  },
  {
   "cell_type": "code",
   "execution_count": 35,
   "metadata": {},
   "outputs": [],
   "source": [
    "# Replace the text for classification with a categorical number\n",
    "class_unique = np.sort(job_type_df['Classification'].unique())\n",
    "class_dict = {}\n",
    "for i in range(len(class_unique)):\n",
    "    class_dict[class_unique[i]] = i\n",
    "\n",
    "# Replace the text for sub classification with a categorical number\n",
    "subclass_unique = np.sort(job_type_df['SubClassification'].unique())\n",
    "subclass_dict = {}\n",
    "for i in range(len(subclass_unique)):\n",
    "    subclass_dict[subclass_unique[i]] = i\n",
    "    \n",
    "# Replace job type with a categorical number\n",
    "job_unique = np.sort(job_type_df['JobType'].unique())\n",
    "job_dict = {}\n",
    "for i in range(len(job_unique)):\n",
    "    job_dict[job_unique[i]] = i\n",
    "\n",
    "for index, row in job_type_df.iterrows():\n",
    "    job_type_df.at[index, 'Classification'] = class_dict[job_type_df.at[index, 'Classification']]\n",
    "    job_type_df.at[index, 'SubClassification'] = subclass_dict[job_type_df.at[index, 'SubClassification']]\n",
    "    job_type_df.at[index, 'JobType'] = job_dict[job_type_df.at[index, 'JobType']]"
   ]
  },
  {
   "cell_type": "code",
   "execution_count": 36,
   "metadata": {},
   "outputs": [
    {
     "data": {
      "text/html": [
       "<div>\n",
       "<style scoped>\n",
       "    .dataframe tbody tr th:only-of-type {\n",
       "        vertical-align: middle;\n",
       "    }\n",
       "\n",
       "    .dataframe tbody tr th {\n",
       "        vertical-align: top;\n",
       "    }\n",
       "\n",
       "    .dataframe thead th {\n",
       "        text-align: right;\n",
       "    }\n",
       "</style>\n",
       "<table border=\"1\" class=\"dataframe\">\n",
       "  <thead>\n",
       "    <tr style=\"text-align: right;\">\n",
       "      <th></th>\n",
       "      <th>Classification</th>\n",
       "      <th>SubClassification</th>\n",
       "      <th>LowestSalary</th>\n",
       "      <th>HighestSalary</th>\n",
       "    </tr>\n",
       "  </thead>\n",
       "  <tbody>\n",
       "    <tr>\n",
       "      <th>0</th>\n",
       "      <td>24</td>\n",
       "      <td>280</td>\n",
       "      <td>0</td>\n",
       "      <td>30</td>\n",
       "    </tr>\n",
       "    <tr>\n",
       "      <th>1</th>\n",
       "      <td>24</td>\n",
       "      <td>280</td>\n",
       "      <td>0</td>\n",
       "      <td>30</td>\n",
       "    </tr>\n",
       "    <tr>\n",
       "      <th>2</th>\n",
       "      <td>15</td>\n",
       "      <td>329</td>\n",
       "      <td>0</td>\n",
       "      <td>30</td>\n",
       "    </tr>\n",
       "    <tr>\n",
       "      <th>3</th>\n",
       "      <td>15</td>\n",
       "      <td>329</td>\n",
       "      <td>0</td>\n",
       "      <td>30</td>\n",
       "    </tr>\n",
       "    <tr>\n",
       "      <th>4</th>\n",
       "      <td>15</td>\n",
       "      <td>161</td>\n",
       "      <td>0</td>\n",
       "      <td>30</td>\n",
       "    </tr>\n",
       "  </tbody>\n",
       "</table>\n",
       "</div>"
      ],
      "text/plain": [
       "  Classification SubClassification  LowestSalary  HighestSalary\n",
       "0             24               280             0             30\n",
       "1             24               280             0             30\n",
       "2             15               329             0             30\n",
       "3             15               329             0             30\n",
       "4             15               161             0             30"
      ]
     },
     "execution_count": 36,
     "metadata": {},
     "output_type": "execute_result"
    }
   ],
   "source": [
    "lbl = job_type_df['JobType']\n",
    "job_type_df = job_type_df.drop(columns='JobType')\n",
    "job_type_df.head()\n"
   ]
  },
  {
   "cell_type": "code",
   "execution_count": 37,
   "metadata": {},
   "outputs": [
    {
     "name": "stderr",
     "output_type": "stream",
     "text": [
      "C:\\Users\\andre\\Anaconda3\\lib\\site-packages\\sklearn\\preprocessing\\data.py:625: DataConversionWarning: Data with input dtype int64, object were all converted to float64 by StandardScaler.\n",
      "  return self.partial_fit(X, y)\n",
      "C:\\Users\\andre\\Anaconda3\\lib\\site-packages\\ipykernel_launcher.py:3: DataConversionWarning: Data with input dtype int64, object were all converted to float64 by StandardScaler.\n",
      "  This is separate from the ipykernel package so we can avoid doing imports until\n"
     ]
    },
    {
     "data": {
      "text/html": [
       "<div>\n",
       "<style scoped>\n",
       "    .dataframe tbody tr th:only-of-type {\n",
       "        vertical-align: middle;\n",
       "    }\n",
       "\n",
       "    .dataframe tbody tr th {\n",
       "        vertical-align: top;\n",
       "    }\n",
       "\n",
       "    .dataframe thead th {\n",
       "        text-align: right;\n",
       "    }\n",
       "</style>\n",
       "<table border=\"1\" class=\"dataframe\">\n",
       "  <thead>\n",
       "    <tr style=\"text-align: right;\">\n",
       "      <th></th>\n",
       "      <th>Classification</th>\n",
       "      <th>SubClassification</th>\n",
       "      <th>LowestSalary</th>\n",
       "      <th>HighestSalary</th>\n",
       "    </tr>\n",
       "  </thead>\n",
       "  <tbody>\n",
       "    <tr>\n",
       "      <th>0</th>\n",
       "      <td>1.078173</td>\n",
       "      <td>1.171153</td>\n",
       "      <td>-1.302576</td>\n",
       "      <td>-0.472545</td>\n",
       "    </tr>\n",
       "    <tr>\n",
       "      <th>1</th>\n",
       "      <td>1.078173</td>\n",
       "      <td>1.171153</td>\n",
       "      <td>-1.302576</td>\n",
       "      <td>-0.472545</td>\n",
       "    </tr>\n",
       "    <tr>\n",
       "      <th>2</th>\n",
       "      <td>-0.022921</td>\n",
       "      <td>1.665834</td>\n",
       "      <td>-1.302576</td>\n",
       "      <td>-0.472545</td>\n",
       "    </tr>\n",
       "    <tr>\n",
       "      <th>3</th>\n",
       "      <td>-0.022921</td>\n",
       "      <td>1.665834</td>\n",
       "      <td>-1.302576</td>\n",
       "      <td>-0.472545</td>\n",
       "    </tr>\n",
       "    <tr>\n",
       "      <th>4</th>\n",
       "      <td>-0.022921</td>\n",
       "      <td>-0.030217</td>\n",
       "      <td>-1.302576</td>\n",
       "      <td>-0.472545</td>\n",
       "    </tr>\n",
       "  </tbody>\n",
       "</table>\n",
       "</div>"
      ],
      "text/plain": [
       "   Classification  SubClassification  LowestSalary  HighestSalary\n",
       "0        1.078173           1.171153     -1.302576      -0.472545\n",
       "1        1.078173           1.171153     -1.302576      -0.472545\n",
       "2       -0.022921           1.665834     -1.302576      -0.472545\n",
       "3       -0.022921           1.665834     -1.302576      -0.472545\n",
       "4       -0.022921          -0.030217     -1.302576      -0.472545"
      ]
     },
     "execution_count": 37,
     "metadata": {},
     "output_type": "execute_result"
    }
   ],
   "source": [
    "standardScaler = preprocessing.StandardScaler()\n",
    "standardScaler.fit(job_type_df)\n",
    "scaled = standardScaler.transform(job_type_df)\n",
    "norm_df = pd.DataFrame(scaled, columns = job_type_df.columns)\n",
    "norm_df.head()"
   ]
  },
  {
   "cell_type": "code",
   "execution_count": 38,
   "metadata": {},
   "outputs": [],
   "source": [
    "lbl = np.array(lbl).reshape(-1, 1)"
   ]
  },
  {
   "cell_type": "code",
   "execution_count": 39,
   "metadata": {},
   "outputs": [
    {
     "data": {
      "text/plain": [
       "<matplotlib.axes._subplots.AxesSubplot at 0x258ac8e9b38>"
      ]
     },
     "execution_count": 39,
     "metadata": {},
     "output_type": "execute_result"
    },
    {
     "data": {
      "image/png": "[encoded data removed]",
      "text/plain": [
       "<Figure size 432x288 with 2 Axes>"
      ]
     },
     "metadata": {
      "needs_background": "light"
     },
     "output_type": "display_data"
    }
   ],
   "source": [
    "x_train, x_test, y_train, y_test = train_test_split(norm_df.values, lbl, test_size = 0.2,\n",
    "                                                    random_state=4)\n",
    "\n",
    "norm_kMCluster = cluster.KMeans(n_clusters = 4, random_state=0)\n",
    "norm_kMCluster.fit(x_train, y_train)\n",
    "norm_pred = norm_kMCluster.predict(x_test)\n",
    "y_test = list(y_test.ravel())\n",
    "\n",
    "\n",
    "con_matrix = metrics.confusion_matrix(y_test, norm_pred)\n",
    "ax = sns.heatmap(con_matrix, annot=True, fmt=\"d\")\n",
    "ax.set(ylabel=' True Label', xlabel='Predicted Label')\n",
    "ax.set_xticklabels(list(job_dict.keys()), rotation=30)\n",
    "ax.set_yticklabels(list(job_dict.keys()), rotation=30)\n",
    "ax"
   ]
  },
  {
   "cell_type": "code",
   "execution_count": 40,
   "metadata": {},
   "outputs": [
    {
     "name": "stdout",
     "output_type": "stream",
     "text": [
      "                 precision    recall  f1-score   support\n",
      "\n",
      "Casual/Vacation       0.02      0.08      0.04      3360\n",
      "  Contract/Temp       0.16      0.26      0.20      6805\n",
      "      Full Time       0.52      0.03      0.06     24519\n",
      "      Part Time       0.09      0.47      0.15      2658\n",
      "\n",
      "      micro avg       0.11      0.11      0.11     37342\n",
      "      macro avg       0.20      0.21      0.11     37342\n",
      "   weighted avg       0.38      0.11      0.09     37342\n",
      "\n"
     ]
    }
   ],
   "source": [
    "print(metrics.classification_report(y_test, norm_pred, target_names = list(job_dict.keys())))"
   ]
  },
  {
   "cell_type": "markdown",
   "metadata": {},
   "source": [
    "#### 1.3 Discussion\n",
    "To be able to cluster and classify the job types of every posting first we need to convert the categorical columns (classification, subclassification and job type) into numerical values. Next the numerical values need to be normalised to make the K Means clustering more accurate. Overall the weighted average score for the K Means predictor is 38%, there are a few reasons as to why such a low accuracy score is the case. The first, as mentioned above in 1.1, some job postings have incorrect lowest / highest Salary ranges, this would make it harder for K Means to extract useful information from those two columns. The second issue involves the amount of data we have for each job type, for the testing set 65% of the data is Full Time. This means that the different job types are not represented equally and thus skews the model.   \n"
   ]
  },
  {
   "cell_type": "markdown",
   "metadata": {},
   "source": [
    "### 2) Study the job market by locations"
   ]
  },
  {
   "cell_type": "markdown",
   "metadata": {},
   "source": [
    "#### 2.1 What is the market size in each city? Which are the hottest job sectors in each city?\n",
    "\n"
   ]
  },
  {
   "cell_type": "code",
   "execution_count": 41,
   "metadata": {},
   "outputs": [
    {
     "data": {
      "image/png": "[encoded data removed]",
      "text/plain": [
       "<Figure size 1080x432 with 1 Axes>"
      ]
     },
     "metadata": {
      "needs_background": "light"
     },
     "output_type": "display_data"
    }
   ],
   "source": [
    "class_subclass_df = orig_df[['Location', 'Classification']].copy()\n",
    "market_size = pd.DataFrame()\n",
    "market_size['Number of Jobs'] = class_subclass_df.groupby('Location')['Classification'].count()\n",
    "market_size.head()\n",
    "f, ax = plt.subplots(figsize=(15, 6))\n",
    "market_size['Number of Jobs'].sort_values(ascending=False).head(10).plot(kind='bar')\n",
    "f.autofmt_xdate()\n",
    "plt.title('Figure 5 - Market size in each city')\n",
    "plt.show()"
   ]
  },
  {
   "cell_type": "code",
   "execution_count": 42,
   "metadata": {},
   "outputs": [
    {
     "data": {
      "text/html": [
       "<div>\n",
       "<style scoped>\n",
       "    .dataframe tbody tr th:only-of-type {\n",
       "        vertical-align: middle;\n",
       "    }\n",
       "\n",
       "    .dataframe tbody tr th {\n",
       "        vertical-align: top;\n",
       "    }\n",
       "\n",
       "    .dataframe thead th {\n",
       "        text-align: right;\n",
       "    }\n",
       "</style>\n",
       "<table border=\"1\" class=\"dataframe\">\n",
       "  <thead>\n",
       "    <tr style=\"text-align: right;\">\n",
       "      <th></th>\n",
       "      <th>Location</th>\n",
       "      <th>Classification</th>\n",
       "      <th>Number of Jobs</th>\n",
       "    </tr>\n",
       "  </thead>\n",
       "  <tbody>\n",
       "    <tr>\n",
       "      <th>1373</th>\n",
       "      <td>Sydney</td>\n",
       "      <td>Information &amp; Communication Technology</td>\n",
       "      <td>9548</td>\n",
       "    </tr>\n",
       "    <tr>\n",
       "      <th>915</th>\n",
       "      <td>Melbourne</td>\n",
       "      <td>Information &amp; Communication Technology</td>\n",
       "      <td>5889</td>\n",
       "    </tr>\n",
       "    <tr>\n",
       "      <th>275</th>\n",
       "      <td>Brisbane</td>\n",
       "      <td>Information &amp; Communication Technology</td>\n",
       "      <td>2768</td>\n",
       "    </tr>\n",
       "    <tr>\n",
       "      <th>17</th>\n",
       "      <td>ACT</td>\n",
       "      <td>Information &amp; Communication Technology</td>\n",
       "      <td>2057</td>\n",
       "    </tr>\n",
       "    <tr>\n",
       "      <th>1102</th>\n",
       "      <td>Perth</td>\n",
       "      <td>Trades &amp; Services</td>\n",
       "      <td>1520</td>\n",
       "    </tr>\n",
       "    <tr>\n",
       "      <th>1123</th>\n",
       "      <td>Port Hedland, Karratha &amp; Pilbara</td>\n",
       "      <td>Mining, Resources &amp; Energy</td>\n",
       "      <td>830</td>\n",
       "    </tr>\n",
       "    <tr>\n",
       "      <th>59</th>\n",
       "      <td>Adelaide</td>\n",
       "      <td>Trades &amp; Services</td>\n",
       "      <td>819</td>\n",
       "    </tr>\n",
       "    <tr>\n",
       "      <th>869</th>\n",
       "      <td>Mackay &amp; Coalfields</td>\n",
       "      <td>Mining, Resources &amp; Energy</td>\n",
       "      <td>611</td>\n",
       "    </tr>\n",
       "    <tr>\n",
       "      <th>621</th>\n",
       "      <td>Gold Coast</td>\n",
       "      <td>Hospitality &amp; Tourism</td>\n",
       "      <td>609</td>\n",
       "    </tr>\n",
       "    <tr>\n",
       "      <th>1026</th>\n",
       "      <td>Newcastle, Maitland &amp; Hunter</td>\n",
       "      <td>Trades &amp; Services</td>\n",
       "      <td>549</td>\n",
       "    </tr>\n",
       "  </tbody>\n",
       "</table>\n",
       "</div>"
      ],
      "text/plain": [
       "                              Location  \\\n",
       "1373                            Sydney   \n",
       "915                          Melbourne   \n",
       "275                           Brisbane   \n",
       "17                                 ACT   \n",
       "1102                             Perth   \n",
       "1123  Port Hedland, Karratha & Pilbara   \n",
       "59                            Adelaide   \n",
       "869                Mackay & Coalfields   \n",
       "621                         Gold Coast   \n",
       "1026      Newcastle, Maitland & Hunter   \n",
       "\n",
       "                              Classification  Number of Jobs  \n",
       "1373  Information & Communication Technology            9548  \n",
       "915   Information & Communication Technology            5889  \n",
       "275   Information & Communication Technology            2768  \n",
       "17    Information & Communication Technology            2057  \n",
       "1102                       Trades & Services            1520  \n",
       "1123              Mining, Resources & Energy             830  \n",
       "59                         Trades & Services             819  \n",
       "869               Mining, Resources & Energy             611  \n",
       "621                    Hospitality & Tourism             609  \n",
       "1026                       Trades & Services             549  "
      ]
     },
     "execution_count": 42,
     "metadata": {},
     "output_type": "execute_result"
    }
   ],
   "source": [
    "hottest_job_sec = orig_df[['Location', 'Classification']].copy()\n",
    "hottest_job_sec = hottest_job_sec.groupby(['Location', 'Classification'])['Classification'].count() \\\n",
    "                .reset_index(name='Number of Jobs')\n",
    "\n",
    "hottest_job_sec.sort_values(by=['Location','Number of Jobs'], ascending=[True, False], inplace=True)\n",
    "hottest_job_sec = hottest_job_sec.drop_duplicates(subset='Location')\n",
    "hottest_job_sec.sort_values(by='Number of Jobs', ascending=False).head(10)"
   ]
  },
  {
   "cell_type": "markdown",
   "metadata": {},
   "source": [
    "#### 2.1 Discussion\n",
    "Sydney, Melbourne, Brisbane, Perth and Adelaide are the leading cities within the job market, being the cities with the most associated job postings. Within these leading cities, the most sought out jobs are within the Information and Communication Technology sector apart from Perth which heavily advertises Trades and Services."
   ]
  },
  {
   "cell_type": "markdown",
   "metadata": {},
   "source": [
    "#### 2.2 Which range of salary is common on each city? Where are the employees more well-paid?"
   ]
  },
  {
   "cell_type": "code",
   "execution_count": 43,
   "metadata": {},
   "outputs": [
    {
     "data": {
      "text/html": [
       "<div>\n",
       "<style scoped>\n",
       "    .dataframe tbody tr th:only-of-type {\n",
       "        vertical-align: middle;\n",
       "    }\n",
       "\n",
       "    .dataframe tbody tr th {\n",
       "        vertical-align: top;\n",
       "    }\n",
       "\n",
       "    .dataframe thead th {\n",
       "        text-align: right;\n",
       "    }\n",
       "</style>\n",
       "<table border=\"1\" class=\"dataframe\">\n",
       "  <thead>\n",
       "    <tr style=\"text-align: right;\">\n",
       "      <th></th>\n",
       "      <th>Location</th>\n",
       "      <th>SalaryRange</th>\n",
       "      <th>Number of Jobs</th>\n",
       "    </tr>\n",
       "  </thead>\n",
       "  <tbody>\n",
       "    <tr>\n",
       "      <th>587</th>\n",
       "      <td>Sydney</td>\n",
       "      <td>0 - 30</td>\n",
       "      <td>11753</td>\n",
       "    </tr>\n",
       "    <tr>\n",
       "      <th>391</th>\n",
       "      <td>Melbourne</td>\n",
       "      <td>0 - 30</td>\n",
       "      <td>9510</td>\n",
       "    </tr>\n",
       "    <tr>\n",
       "      <th>109</th>\n",
       "      <td>Brisbane</td>\n",
       "      <td>0 - 30</td>\n",
       "      <td>4082</td>\n",
       "    </tr>\n",
       "    <tr>\n",
       "      <th>468</th>\n",
       "      <td>Perth</td>\n",
       "      <td>0 - 30</td>\n",
       "      <td>2707</td>\n",
       "    </tr>\n",
       "    <tr>\n",
       "      <th>11</th>\n",
       "      <td>Adelaide</td>\n",
       "      <td>0 - 30</td>\n",
       "      <td>1256</td>\n",
       "    </tr>\n",
       "    <tr>\n",
       "      <th>0</th>\n",
       "      <td>ACT</td>\n",
       "      <td>0 - 30</td>\n",
       "      <td>1071</td>\n",
       "    </tr>\n",
       "    <tr>\n",
       "      <th>276</th>\n",
       "      <td>Gold Coast</td>\n",
       "      <td>40 - 50</td>\n",
       "      <td>755</td>\n",
       "    </tr>\n",
       "    <tr>\n",
       "      <th>435</th>\n",
       "      <td>Newcastle, Maitland &amp; Hunter</td>\n",
       "      <td>0 - 30</td>\n",
       "      <td>753</td>\n",
       "    </tr>\n",
       "    <tr>\n",
       "      <th>554</th>\n",
       "      <td>South West Coast VIC</td>\n",
       "      <td>0 - 30</td>\n",
       "      <td>399</td>\n",
       "    </tr>\n",
       "    <tr>\n",
       "      <th>479</th>\n",
       "      <td>Port Hedland, Karratha &amp; Pilbara</td>\n",
       "      <td>0 - 30</td>\n",
       "      <td>385</td>\n",
       "    </tr>\n",
       "    <tr>\n",
       "      <th>369</th>\n",
       "      <td>Mackay &amp; Coalfields</td>\n",
       "      <td>0 - 30</td>\n",
       "      <td>341</td>\n",
       "    </tr>\n",
       "    <tr>\n",
       "      <th>153</th>\n",
       "      <td>Cairns &amp; Far North</td>\n",
       "      <td>0 - 30</td>\n",
       "      <td>330</td>\n",
       "    </tr>\n",
       "    <tr>\n",
       "      <th>675</th>\n",
       "      <td>Wollongong, Illawarra &amp; South Coast</td>\n",
       "      <td>0 - 30</td>\n",
       "      <td>316</td>\n",
       "    </tr>\n",
       "    <tr>\n",
       "      <th>582</th>\n",
       "      <td>Sunshine Coast</td>\n",
       "      <td>40 - 50</td>\n",
       "      <td>298</td>\n",
       "    </tr>\n",
       "    <tr>\n",
       "      <th>457</th>\n",
       "      <td>Northern QLD</td>\n",
       "      <td>0 - 30</td>\n",
       "      <td>288</td>\n",
       "    </tr>\n",
       "  </tbody>\n",
       "</table>\n",
       "</div>"
      ],
      "text/plain": [
       "                                Location SalaryRange  Number of Jobs\n",
       "587                               Sydney      0 - 30           11753\n",
       "391                            Melbourne      0 - 30            9510\n",
       "109                             Brisbane      0 - 30            4082\n",
       "468                                Perth      0 - 30            2707\n",
       "11                              Adelaide      0 - 30            1256\n",
       "0                                    ACT      0 - 30            1071\n",
       "276                           Gold Coast     40 - 50             755\n",
       "435         Newcastle, Maitland & Hunter      0 - 30             753\n",
       "554                 South West Coast VIC      0 - 30             399\n",
       "479     Port Hedland, Karratha & Pilbara      0 - 30             385\n",
       "369                  Mackay & Coalfields      0 - 30             341\n",
       "153                   Cairns & Far North      0 - 30             330\n",
       "675  Wollongong, Illawarra & South Coast      0 - 30             316\n",
       "582                       Sunshine Coast     40 - 50             298\n",
       "457                         Northern QLD      0 - 30             288"
      ]
     },
     "execution_count": 43,
     "metadata": {},
     "output_type": "execute_result"
    }
   ],
   "source": [
    "salary_range_count = pd.DataFrame()\n",
    "salary_range_count = salary_location_df.groupby(['Location', 'SalaryRange'])['SalaryRange'].count() \\\n",
    "                    .reset_index(name='Number of Jobs')\n",
    "\n",
    "salary_range_count.sort_values(by=['Location','Number of Jobs'], ascending=[True, False], inplace=True)\n",
    "salary_range_count = salary_range_count.drop_duplicates(subset='Location')\n",
    "salary_range_count.sort_values(by=['Number of Jobs'], ascending=False).head(15)"
   ]
  },
  {
   "cell_type": "code",
   "execution_count": 44,
   "metadata": {},
   "outputs": [
    {
     "data": {
      "text/html": [
       "<div>\n",
       "<style scoped>\n",
       "    .dataframe tbody tr th:only-of-type {\n",
       "        vertical-align: middle;\n",
       "    }\n",
       "\n",
       "    .dataframe tbody tr th {\n",
       "        vertical-align: top;\n",
       "    }\n",
       "\n",
       "    .dataframe thead th {\n",
       "        text-align: right;\n",
       "    }\n",
       "</style>\n",
       "<table border=\"1\" class=\"dataframe\">\n",
       "  <thead>\n",
       "    <tr style=\"text-align: right;\">\n",
       "      <th></th>\n",
       "      <th>Location</th>\n",
       "      <th>Highest Average</th>\n",
       "    </tr>\n",
       "  </thead>\n",
       "  <tbody>\n",
       "    <tr>\n",
       "      <th>0</th>\n",
       "      <td>ACT</td>\n",
       "      <td>198.718240</td>\n",
       "    </tr>\n",
       "    <tr>\n",
       "      <th>45</th>\n",
       "      <td>Port Macquarie &amp; Mid North Coast</td>\n",
       "      <td>149.605544</td>\n",
       "    </tr>\n",
       "    <tr>\n",
       "      <th>54</th>\n",
       "      <td>Sydney</td>\n",
       "      <td>134.751041</td>\n",
       "    </tr>\n",
       "    <tr>\n",
       "      <th>60</th>\n",
       "      <td>Western QLD</td>\n",
       "      <td>134.128405</td>\n",
       "    </tr>\n",
       "    <tr>\n",
       "      <th>57</th>\n",
       "      <td>Tumut, Snowy &amp; Monaro</td>\n",
       "      <td>133.081395</td>\n",
       "    </tr>\n",
       "  </tbody>\n",
       "</table>\n",
       "</div>"
      ],
      "text/plain": [
       "                            Location  Highest Average\n",
       "0                                ACT       198.718240\n",
       "45  Port Macquarie & Mid North Coast       149.605544\n",
       "54                            Sydney       134.751041\n",
       "60                       Western QLD       134.128405\n",
       "57             Tumut, Snowy & Monaro       133.081395"
      ]
     },
     "execution_count": 44,
     "metadata": {},
     "output_type": "execute_result"
    }
   ],
   "source": [
    "range_df = orig_df[['Location', 'HighestSalary']] \n",
    "salary_average = pd.DataFrame()\n",
    "salary_average = range_df.groupby(['Location'])['HighestSalary'].mean() \\\n",
    "                    .reset_index(name='Highest Average')\n",
    "\n",
    "salary_average.sort_values(by=['Location','Highest Average'], ascending=[True, False], inplace=True)\n",
    "#salary_range_count = salary_range_count.drop_duplicates(subset='Location')\n",
    "salary_average.sort_values(by=['Highest Average'], ascending=False).head(5)"
   ]
  },
  {
   "cell_type": "markdown",
   "metadata": {},
   "source": [
    "#### 2.2 Discussion \n",
    "When analysing the salary among Australian cities, it was prevelant that the most common salary range was 0 - 30K with 30 - 40K coming second and 40 - 50K appearing third. This could be due to the fact that a lot of employers are looking for casual or junior salary-based workers within their industries on the basis of importance for employment costs over experience. \n",
    "\n",
    "Answering the question of which city the employees are most well-paid, we took into account the average highest salary for each city and put them in descending order. It is evident that ACT, the capital city of Australia has the highest average salary advertised with Port Macquarie & Mid North Coast and Sydney following."
   ]
  },
  {
   "cell_type": "markdown",
   "metadata": {},
   "source": [
    "#### 2.3 Can you detect the pattern of posting"
   ]
  },
  {
   "cell_type": "code",
   "execution_count": 45,
   "metadata": {},
   "outputs": [
    {
     "data": {
      "text/html": [
       "<div>\n",
       "<style scoped>\n",
       "    .dataframe tbody tr th:only-of-type {\n",
       "        vertical-align: middle;\n",
       "    }\n",
       "\n",
       "    .dataframe tbody tr th {\n",
       "        vertical-align: top;\n",
       "    }\n",
       "\n",
       "    .dataframe thead th {\n",
       "        text-align: right;\n",
       "    }\n",
       "</style>\n",
       "<table border=\"1\" class=\"dataframe\">\n",
       "  <thead>\n",
       "    <tr style=\"text-align: right;\">\n",
       "      <th></th>\n",
       "      <th>Day</th>\n",
       "      <th>Postings</th>\n",
       "    </tr>\n",
       "  </thead>\n",
       "  <tbody>\n",
       "    <tr>\n",
       "      <th>0</th>\n",
       "      <td>1</td>\n",
       "      <td>24512</td>\n",
       "    </tr>\n",
       "    <tr>\n",
       "      <th>2</th>\n",
       "      <td>3</td>\n",
       "      <td>21804</td>\n",
       "    </tr>\n",
       "    <tr>\n",
       "      <th>1</th>\n",
       "      <td>2</td>\n",
       "      <td>18585</td>\n",
       "    </tr>\n",
       "    <tr>\n",
       "      <th>10</th>\n",
       "      <td>12</td>\n",
       "      <td>17503</td>\n",
       "    </tr>\n",
       "    <tr>\n",
       "      <th>3</th>\n",
       "      <td>4</td>\n",
       "      <td>16728</td>\n",
       "    </tr>\n",
       "  </tbody>\n",
       "</table>\n",
       "</div>"
      ],
      "text/plain": [
       "    Day  Postings\n",
       "0     1     24512\n",
       "2     3     21804\n",
       "1     2     18585\n",
       "10   12     17503\n",
       "3     4     16728"
      ]
     },
     "execution_count": 45,
     "metadata": {},
     "output_type": "execute_result"
    }
   ],
   "source": [
    "postings_df = orig_df[['Date']].copy()\n",
    "postings_df['Day'] = pd.DatetimeIndex(postings_df['Date']).day\n",
    "postings_df = postings_df.drop(columns=['Date'])\n",
    "postings_df = postings_df.groupby(['Day'])['Day'].count().reset_index(name='Postings').sort_values(['Postings'], ascending=False)\n",
    "postings_df.head()"
   ]
  },
  {
   "cell_type": "code",
   "execution_count": 46,
   "metadata": {},
   "outputs": [
    {
     "data": {
      "image/png": "[encoded data removed]",
      "text/plain": [
       "<Figure size 720x360 with 1 Axes>"
      ]
     },
     "metadata": {
      "needs_background": "light"
     },
     "output_type": "display_data"
    }
   ],
   "source": [
    "f, ax = plt.subplots(figsize=(10, 5))\n",
    "sns.pointplot(x='Day', y='Postings', data=postings_df, color='r').set_title('Figure 6 - Pattern of Postings over 6 Months')\n",
    "plt.show()"
   ]
  },
  {
   "cell_type": "code",
   "execution_count": 47,
   "metadata": {},
   "outputs": [
    {
     "data": {
      "text/html": [
       "<div>\n",
       "<style scoped>\n",
       "    .dataframe tbody tr th:only-of-type {\n",
       "        vertical-align: middle;\n",
       "    }\n",
       "\n",
       "    .dataframe tbody tr th {\n",
       "        vertical-align: top;\n",
       "    }\n",
       "\n",
       "    .dataframe thead th {\n",
       "        text-align: right;\n",
       "    }\n",
       "</style>\n",
       "<table border=\"1\" class=\"dataframe\">\n",
       "  <thead>\n",
       "    <tr style=\"text-align: right;\">\n",
       "      <th></th>\n",
       "      <th>Day</th>\n",
       "      <th>Average Postings</th>\n",
       "    </tr>\n",
       "  </thead>\n",
       "  <tbody>\n",
       "    <tr>\n",
       "      <th>0</th>\n",
       "      <td>1</td>\n",
       "      <td>4085.333333</td>\n",
       "    </tr>\n",
       "    <tr>\n",
       "      <th>1</th>\n",
       "      <td>2</td>\n",
       "      <td>3717.000000</td>\n",
       "    </tr>\n",
       "    <tr>\n",
       "      <th>2</th>\n",
       "      <td>3</td>\n",
       "      <td>3634.000000</td>\n",
       "    </tr>\n",
       "    <tr>\n",
       "      <th>27</th>\n",
       "      <td>31</td>\n",
       "      <td>3550.666667</td>\n",
       "    </tr>\n",
       "    <tr>\n",
       "      <th>16</th>\n",
       "      <td>18</td>\n",
       "      <td>3230.200000</td>\n",
       "    </tr>\n",
       "  </tbody>\n",
       "</table>\n",
       "</div>"
      ],
      "text/plain": [
       "    Day  Average Postings\n",
       "0     1       4085.333333\n",
       "1     2       3717.000000\n",
       "2     3       3634.000000\n",
       "27   31       3550.666667\n",
       "16   18       3230.200000"
      ]
     },
     "execution_count": 47,
     "metadata": {},
     "output_type": "execute_result"
    }
   ],
   "source": [
    "date_df = orig_df[['Date']].copy()\n",
    "avg_postings_df = pd.DataFrame()\n",
    "avg_postings_df['Month'] = pd.DatetimeIndex(date_df['Date']).month\n",
    "avg_postings_df['Day'] = pd.DatetimeIndex(date_df['Date']).day\n",
    "avg_postings_df = avg_postings_df.groupby(['Month', 'Day'])['Month'].count().groupby(['Day']).mean().reset_index(name='Average Postings').sort_values(['Average Postings'], ascending=False)\n",
    "avg_postings_df.head()"
   ]
  },
  {
   "cell_type": "code",
   "execution_count": 48,
   "metadata": {},
   "outputs": [
    {
     "data": {
      "text/plain": [
       "[<matplotlib.lines.Line2D at 0x25899fb7ba8>]"
      ]
     },
     "execution_count": 48,
     "metadata": {},
     "output_type": "execute_result"
    },
    {
     "data": {
      "image/png": "[encoded data removed]",
      "text/plain": [
       "<Figure size 432x288 with 1 Axes>"
      ]
     },
     "metadata": {
      "needs_background": "light"
     },
     "output_type": "display_data"
    }
   ],
   "source": [
    "from sklearn.linear_model import LinearRegression\n",
    "from sklearn.model_selection import cross_val_score \n",
    "# Apply linear regression with the 'postings' feature to predict posting trend\n",
    "model = LinearRegression()\n",
    "y = avg_postings_df['Average Postings'].values\n",
    "X = avg_postings_df[['Day']]\n",
    "\n",
    "model.fit(X, y)\n",
    "y_pred = model.predict(X)\n",
    "posting_score = model.score(X, y)\n",
    "plt.xlabel('Day of Month')\n",
    "plt.ylabel('Average Postings')\n",
    "plt.scatter(X, y, color='b')\n",
    "plt.title('Figure 7 - Average Postings Per Day')\n",
    "plt.plot(X, y_pred, color='black')"
   ]
  },
  {
   "cell_type": "markdown",
   "metadata": {},
   "source": [
    "#### 2.3 Discussion\n",
    "According to the analysis of job postings, the first three days of the month are the most popular days to post (refer to Figure 6), with the first day being the most advertised. There are a number of reasons why this could've ocurred but due to the fact that by posting on the first day of the month, employers can expect to have maximised their employee applications by the end of the month. \n",
    "\n",
    "The summation of postings over the 6 months (Figure 6) is proposed to be not as accurate as taking the number of postings per day and averaging them across the months. This is due to the fact that it does not take in outliers or influnctuation of postings of a particular day for a particular month. Therefore, in the \"avg_postings_df\" dataframe it can be seen that apart from the first three days of the month, the last day of the month is also frequently posted. There may be posting traffic at the beginning of the month mainly but it is evident that the last day can also contribute to the pattern. \n",
    "\n",
    "It is further evidenced in Figure 7 where the prediction of future postings per day also occur highest around days 1-3 and 31 of the month."
   ]
  },
  {
   "cell_type": "markdown",
   "metadata": {},
   "source": [
    "### 3) Study the market by sectors "
   ]
  },
  {
   "cell_type": "markdown",
   "metadata": {},
   "source": [
    "#### 3.1 In each sector, which sub-sectors are the main spotlights?"
   ]
  },
  {
   "cell_type": "code",
   "execution_count": 49,
   "metadata": {},
   "outputs": [
    {
     "data": {
      "text/html": [
       "<div>\n",
       "<style scoped>\n",
       "    .dataframe tbody tr th:only-of-type {\n",
       "        vertical-align: middle;\n",
       "    }\n",
       "\n",
       "    .dataframe tbody tr th {\n",
       "        vertical-align: top;\n",
       "    }\n",
       "\n",
       "    .dataframe thead th {\n",
       "        text-align: right;\n",
       "    }\n",
       "</style>\n",
       "<table border=\"1\" class=\"dataframe\">\n",
       "  <thead>\n",
       "    <tr style=\"text-align: right;\">\n",
       "      <th></th>\n",
       "      <th></th>\n",
       "      <th>Count</th>\n",
       "    </tr>\n",
       "    <tr>\n",
       "      <th>Classification</th>\n",
       "      <th>SubClassification</th>\n",
       "      <th></th>\n",
       "    </tr>\n",
       "  </thead>\n",
       "  <tbody>\n",
       "    <tr>\n",
       "      <th>Hospitality &amp; Tourism</th>\n",
       "      <th>Chefs/Cooks</th>\n",
       "      <td>4600</td>\n",
       "    </tr>\n",
       "    <tr>\n",
       "      <th>Administration &amp; Office Support</th>\n",
       "      <th>Administrative Assistants</th>\n",
       "      <td>4572</td>\n",
       "    </tr>\n",
       "    <tr>\n",
       "      <th>Information &amp; Communication Technology</th>\n",
       "      <th>Developers/Programmers</th>\n",
       "      <td>4211</td>\n",
       "    </tr>\n",
       "    <tr>\n",
       "      <th>Retail &amp; Consumer Products</th>\n",
       "      <th>Retail Assistants</th>\n",
       "      <td>3902</td>\n",
       "    </tr>\n",
       "    <tr>\n",
       "      <th>Government &amp; Defence</th>\n",
       "      <th>Government - State</th>\n",
       "      <td>3701</td>\n",
       "    </tr>\n",
       "    <tr>\n",
       "      <th>Manufacturing, Transport &amp; Logistics</th>\n",
       "      <th>Warehousing, Storage &amp; Distribution</th>\n",
       "      <td>3636</td>\n",
       "    </tr>\n",
       "    <tr>\n",
       "      <th>Sales</th>\n",
       "      <th>Sales Representatives/Consultants</th>\n",
       "      <td>3370</td>\n",
       "    </tr>\n",
       "    <tr>\n",
       "      <th>Trades &amp; Services</th>\n",
       "      <th>Automotive Trades</th>\n",
       "      <td>3262</td>\n",
       "    </tr>\n",
       "    <tr>\n",
       "      <th>Information &amp; Communication Technology</th>\n",
       "      <th>Business/Systems Analysts</th>\n",
       "      <td>2986</td>\n",
       "    </tr>\n",
       "    <tr>\n",
       "      <th>Hospitality &amp; Tourism</th>\n",
       "      <th>Waiting Staff</th>\n",
       "      <td>2864</td>\n",
       "    </tr>\n",
       "  </tbody>\n",
       "</table>\n",
       "</div>"
      ],
      "text/plain": [
       "                                                                            Count\n",
       "Classification                         SubClassification                         \n",
       "Hospitality & Tourism                  Chefs/Cooks                           4600\n",
       "Administration & Office Support        Administrative Assistants             4572\n",
       "Information & Communication Technology Developers/Programmers                4211\n",
       "Retail & Consumer Products             Retail Assistants                     3902\n",
       "Government & Defence                   Government - State                    3701\n",
       "Manufacturing, Transport & Logistics   Warehousing, Storage & Distribution   3636\n",
       "Sales                                  Sales Representatives/Consultants     3370\n",
       "Trades & Services                      Automotive Trades                     3262\n",
       "Information & Communication Technology Business/Systems Analysts             2986\n",
       "Hospitality & Tourism                  Waiting Staff                         2864"
      ]
     },
     "execution_count": 49,
     "metadata": {},
     "output_type": "execute_result"
    }
   ],
   "source": [
    "salary_class_df = salary_df.groupby(['Classification', 'SubClassification']).count(\n",
    "                    ).rename(columns = {'SalaryRange' : 'Count'}).sort_values(['Count'], ascending=False)\n",
    "salary_class_df.head(10)"
   ]
  },
  {
   "cell_type": "code",
   "execution_count": 50,
   "metadata": {},
   "outputs": [
    {
     "data": {
      "text/html": [
       "<div>\n",
       "<style scoped>\n",
       "    .dataframe tbody tr th:only-of-type {\n",
       "        vertical-align: middle;\n",
       "    }\n",
       "\n",
       "    .dataframe tbody tr th {\n",
       "        vertical-align: top;\n",
       "    }\n",
       "\n",
       "    .dataframe thead th {\n",
       "        text-align: right;\n",
       "    }\n",
       "</style>\n",
       "<table border=\"1\" class=\"dataframe\">\n",
       "  <thead>\n",
       "    <tr style=\"text-align: right;\">\n",
       "      <th></th>\n",
       "      <th>Classification</th>\n",
       "      <th>Spotlight</th>\n",
       "    </tr>\n",
       "  </thead>\n",
       "  <tbody>\n",
       "    <tr>\n",
       "      <th>15</th>\n",
       "      <td>Accounting</td>\n",
       "      <td>Financial Accounting &amp; Reporting</td>\n",
       "    </tr>\n",
       "    <tr>\n",
       "      <th>1</th>\n",
       "      <td>Administration &amp; Office Support</td>\n",
       "      <td>Administrative Assistants</td>\n",
       "    </tr>\n",
       "    <tr>\n",
       "      <th>28</th>\n",
       "      <td>Advertising, Arts &amp; Media</td>\n",
       "      <td>Agency Account Management</td>\n",
       "    </tr>\n",
       "    <tr>\n",
       "      <th>20</th>\n",
       "      <td>Banking &amp; Financial Services</td>\n",
       "      <td>Compliance &amp; Risk</td>\n",
       "    </tr>\n",
       "    <tr>\n",
       "      <th>22</th>\n",
       "      <td>CEO &amp; General Management</td>\n",
       "      <td>General/Business Unit Manager</td>\n",
       "    </tr>\n",
       "    <tr>\n",
       "      <th>11</th>\n",
       "      <td>Call Centre &amp; Customer Service</td>\n",
       "      <td>Customer Service - Call Centre</td>\n",
       "    </tr>\n",
       "    <tr>\n",
       "      <th>12</th>\n",
       "      <td>Community Services &amp; Development</td>\n",
       "      <td>Aged &amp; Disability Support</td>\n",
       "    </tr>\n",
       "    <tr>\n",
       "      <th>13</th>\n",
       "      <td>Construction</td>\n",
       "      <td>Project Management</td>\n",
       "    </tr>\n",
       "    <tr>\n",
       "      <th>25</th>\n",
       "      <td>Consulting &amp; Strategy</td>\n",
       "      <td>Management &amp; Change Consulting</td>\n",
       "    </tr>\n",
       "    <tr>\n",
       "      <th>23</th>\n",
       "      <td>Design &amp; Architecture</td>\n",
       "      <td>Architecture</td>\n",
       "    </tr>\n",
       "    <tr>\n",
       "      <th>8</th>\n",
       "      <td>Education &amp; Training</td>\n",
       "      <td>Childcare &amp; Outside School Hours Care</td>\n",
       "    </tr>\n",
       "    <tr>\n",
       "      <th>14</th>\n",
       "      <td>Engineering</td>\n",
       "      <td>Civil/Structural Engineering</td>\n",
       "    </tr>\n",
       "    <tr>\n",
       "      <th>27</th>\n",
       "      <td>Farming, Animals &amp; Conservation</td>\n",
       "      <td>Horticulture</td>\n",
       "    </tr>\n",
       "    <tr>\n",
       "      <th>4</th>\n",
       "      <td>Government &amp; Defence</td>\n",
       "      <td>Government - State</td>\n",
       "    </tr>\n",
       "    <tr>\n",
       "      <th>10</th>\n",
       "      <td>Healthcare &amp; Medical</td>\n",
       "      <td>Nursing - Aged Care</td>\n",
       "    </tr>\n",
       "    <tr>\n",
       "      <th>0</th>\n",
       "      <td>Hospitality &amp; Tourism</td>\n",
       "      <td>Chefs/Cooks</td>\n",
       "    </tr>\n",
       "    <tr>\n",
       "      <th>17</th>\n",
       "      <td>Human Resources &amp; Recruitment</td>\n",
       "      <td>Consulting &amp; Generalist HR</td>\n",
       "    </tr>\n",
       "    <tr>\n",
       "      <th>2</th>\n",
       "      <td>Information &amp; Communication Technology</td>\n",
       "      <td>Developers/Programmers</td>\n",
       "    </tr>\n",
       "    <tr>\n",
       "      <th>21</th>\n",
       "      <td>Insurance &amp; Superannuation</td>\n",
       "      <td>Claims</td>\n",
       "    </tr>\n",
       "    <tr>\n",
       "      <th>19</th>\n",
       "      <td>Legal</td>\n",
       "      <td>Legal Secretaries</td>\n",
       "    </tr>\n",
       "    <tr>\n",
       "      <th>5</th>\n",
       "      <td>Manufacturing, Transport &amp; Logistics</td>\n",
       "      <td>Warehousing, Storage &amp; Distribution</td>\n",
       "    </tr>\n",
       "    <tr>\n",
       "      <th>18</th>\n",
       "      <td>Marketing &amp; Communications</td>\n",
       "      <td>Marketing Communications</td>\n",
       "    </tr>\n",
       "    <tr>\n",
       "      <th>9</th>\n",
       "      <td>Mining, Resources &amp; Energy</td>\n",
       "      <td>Mining - Engineering &amp; Maintenance</td>\n",
       "    </tr>\n",
       "    <tr>\n",
       "      <th>16</th>\n",
       "      <td>Real Estate &amp; Property</td>\n",
       "      <td>Residential Leasing &amp; Property Management</td>\n",
       "    </tr>\n",
       "    <tr>\n",
       "      <th>3</th>\n",
       "      <td>Retail &amp; Consumer Products</td>\n",
       "      <td>Retail Assistants</td>\n",
       "    </tr>\n",
       "    <tr>\n",
       "      <th>6</th>\n",
       "      <td>Sales</td>\n",
       "      <td>Sales Representatives/Consultants</td>\n",
       "    </tr>\n",
       "    <tr>\n",
       "      <th>26</th>\n",
       "      <td>Science &amp; Technology</td>\n",
       "      <td>Environmental, Earth &amp; Geosciences</td>\n",
       "    </tr>\n",
       "    <tr>\n",
       "      <th>29</th>\n",
       "      <td>Self Employment</td>\n",
       "      <td>Self Employment</td>\n",
       "    </tr>\n",
       "    <tr>\n",
       "      <th>24</th>\n",
       "      <td>Sport &amp; Recreation</td>\n",
       "      <td>Fitness &amp; Personal Training</td>\n",
       "    </tr>\n",
       "    <tr>\n",
       "      <th>7</th>\n",
       "      <td>Trades &amp; Services</td>\n",
       "      <td>Automotive Trades</td>\n",
       "    </tr>\n",
       "  </tbody>\n",
       "</table>\n",
       "</div>"
      ],
      "text/plain": [
       "                            Classification  \\\n",
       "15                              Accounting   \n",
       "1          Administration & Office Support   \n",
       "28               Advertising, Arts & Media   \n",
       "20            Banking & Financial Services   \n",
       "22                CEO & General Management   \n",
       "11          Call Centre & Customer Service   \n",
       "12        Community Services & Development   \n",
       "13                            Construction   \n",
       "25                   Consulting & Strategy   \n",
       "23                   Design & Architecture   \n",
       "8                     Education & Training   \n",
       "14                             Engineering   \n",
       "27         Farming, Animals & Conservation   \n",
       "4                     Government & Defence   \n",
       "10                    Healthcare & Medical   \n",
       "0                    Hospitality & Tourism   \n",
       "17           Human Resources & Recruitment   \n",
       "2   Information & Communication Technology   \n",
       "21              Insurance & Superannuation   \n",
       "19                                   Legal   \n",
       "5     Manufacturing, Transport & Logistics   \n",
       "18              Marketing & Communications   \n",
       "9               Mining, Resources & Energy   \n",
       "16                  Real Estate & Property   \n",
       "3               Retail & Consumer Products   \n",
       "6                                    Sales   \n",
       "26                    Science & Technology   \n",
       "29                         Self Employment   \n",
       "24                      Sport & Recreation   \n",
       "7                        Trades & Services   \n",
       "\n",
       "                                    Spotlight  \n",
       "15           Financial Accounting & Reporting  \n",
       "1                   Administrative Assistants  \n",
       "28                  Agency Account Management  \n",
       "20                          Compliance & Risk  \n",
       "22              General/Business Unit Manager  \n",
       "11             Customer Service - Call Centre  \n",
       "12                  Aged & Disability Support  \n",
       "13                         Project Management  \n",
       "25             Management & Change Consulting  \n",
       "23                               Architecture  \n",
       "8       Childcare & Outside School Hours Care  \n",
       "14               Civil/Structural Engineering  \n",
       "27                               Horticulture  \n",
       "4                          Government - State  \n",
       "10                        Nursing - Aged Care  \n",
       "0                                 Chefs/Cooks  \n",
       "17                 Consulting & Generalist HR  \n",
       "2                      Developers/Programmers  \n",
       "21                                     Claims  \n",
       "19                          Legal Secretaries  \n",
       "5         Warehousing, Storage & Distribution  \n",
       "18                   Marketing Communications  \n",
       "9          Mining - Engineering & Maintenance  \n",
       "16  Residential Leasing & Property Management  \n",
       "3                           Retail Assistants  \n",
       "6           Sales Representatives/Consultants  \n",
       "26         Environmental, Earth & Geosciences  \n",
       "29                            Self Employment  \n",
       "24                Fitness & Personal Training  \n",
       "7                           Automotive Trades  "
      ]
     },
     "execution_count": 50,
     "metadata": {},
     "output_type": "execute_result"
    }
   ],
   "source": [
    "seen_class = set()\n",
    "spotlight_df = pd.DataFrame(columns=['Classification', 'Spotlight'])\n",
    "\n",
    "# Loop through the salary_class_df and find the highest sub class for each class\n",
    "for row in salary_class_df.iterrows():\n",
    "    classification = row[0][0]\n",
    "    subclass = row[0][1]\n",
    "    count = row[1]['Count']\n",
    "    \n",
    "    if classification not in seen_class:\n",
    "        seen_class.add(classification)\n",
    "        spotlight_df = spotlight_df.append({'Classification': classification, \n",
    "                            'Spotlight' : subclass}, ignore_index=True)\n",
    "\n",
    "spotlight_df.sort_values('Classification')    "
   ]
  },
  {
   "cell_type": "markdown",
   "metadata": {},
   "source": [
    "#### 3.1 Discussion\n",
    "The data frame ‘salary_class_df’ was created to show the number of job postings for every sub classification along with their respective classification. This makes it easier to find the spotlights for every classification (the sub classifications that have the most job postings). ‘spotlight_df’ contains all the spotlights mentioned in a data frame, it can be used to easily search for the most popular sub classifications. "
   ]
  },
  {
   "cell_type": "markdown",
   "metadata": {},
   "source": [
    "#### 3.2 What is the salary range for each sector/sub-sector? Can you compare salary range between sectors/subsectors?"
   ]
  },
  {
   "cell_type": "code",
   "execution_count": 51,
   "metadata": {},
   "outputs": [
    {
     "name": "stdout",
     "output_type": "stream",
     "text": [
      "Figure 8 - Account & Relationship Management\n",
      "                                               Number of Jobs\n",
      "SubClassification                 SalaryRange                \n",
      "Account & Relationship Management 0 - 30                  409\n",
      "                                  100 - 120               241\n",
      "                                  70 - 80                 230\n",
      "                                  80 - 100                227\n",
      "                                  60 - 70                 215\n"
     ]
    }
   ],
   "source": [
    "print(\"Figure 8 - Account & Relationship Management\")\n",
    "print(salary_count_df.head())"
   ]
  },
  {
   "cell_type": "code",
   "execution_count": 52,
   "metadata": {},
   "outputs": [
    {
     "data": {
      "text/html": [
       "<div>\n",
       "<style scoped>\n",
       "    .dataframe tbody tr th:only-of-type {\n",
       "        vertical-align: middle;\n",
       "    }\n",
       "\n",
       "    .dataframe tbody tr th {\n",
       "        vertical-align: top;\n",
       "    }\n",
       "\n",
       "    .dataframe thead th {\n",
       "        text-align: right;\n",
       "    }\n",
       "</style>\n",
       "<table border=\"1\" class=\"dataframe\">\n",
       "  <thead>\n",
       "    <tr style=\"text-align: right;\">\n",
       "      <th></th>\n",
       "      <th>Classification</th>\n",
       "      <th>SubClassification</th>\n",
       "      <th>Avg Salary</th>\n",
       "    </tr>\n",
       "  </thead>\n",
       "  <tbody>\n",
       "    <tr>\n",
       "      <th>132</th>\n",
       "      <td>Healthcare &amp; Medical</td>\n",
       "      <td>General Practitioners</td>\n",
       "      <td>412.234759</td>\n",
       "    </tr>\n",
       "    <tr>\n",
       "      <th>197</th>\n",
       "      <td>Healthcare &amp; Medical</td>\n",
       "      <td>Medical Specialists</td>\n",
       "      <td>367.311497</td>\n",
       "    </tr>\n",
       "    <tr>\n",
       "      <th>50</th>\n",
       "      <td>CEO &amp; General Management</td>\n",
       "      <td>COO &amp; MD</td>\n",
       "      <td>343.392157</td>\n",
       "    </tr>\n",
       "    <tr>\n",
       "      <th>49</th>\n",
       "      <td>CEO &amp; General Management</td>\n",
       "      <td>CEO</td>\n",
       "      <td>311.245399</td>\n",
       "    </tr>\n",
       "    <tr>\n",
       "      <th>17</th>\n",
       "      <td>Information &amp; Communication Technology</td>\n",
       "      <td>Architects</td>\n",
       "      <td>282.348191</td>\n",
       "    </tr>\n",
       "    <tr>\n",
       "      <th>257</th>\n",
       "      <td>Information &amp; Communication Technology</td>\n",
       "      <td>Programme &amp; Project Management</td>\n",
       "      <td>252.101741</td>\n",
       "    </tr>\n",
       "    <tr>\n",
       "      <th>133</th>\n",
       "      <td>CEO &amp; General Management</td>\n",
       "      <td>General/Business Unit Manager</td>\n",
       "      <td>248.575000</td>\n",
       "    </tr>\n",
       "    <tr>\n",
       "      <th>249</th>\n",
       "      <td>Government &amp; Defence</td>\n",
       "      <td>Police &amp; Corrections</td>\n",
       "      <td>243.220339</td>\n",
       "    </tr>\n",
       "    <tr>\n",
       "      <th>68</th>\n",
       "      <td>Accounting</td>\n",
       "      <td>Company Secretaries</td>\n",
       "      <td>225.684211</td>\n",
       "    </tr>\n",
       "    <tr>\n",
       "      <th>79</th>\n",
       "      <td>Banking &amp; Financial Services</td>\n",
       "      <td>Corporate Finance &amp; Investment Banking</td>\n",
       "      <td>210.496894</td>\n",
       "    </tr>\n",
       "  </tbody>\n",
       "</table>\n",
       "</div>"
      ],
      "text/plain": [
       "                             Classification  \\\n",
       "132                    Healthcare & Medical   \n",
       "197                    Healthcare & Medical   \n",
       "50                 CEO & General Management   \n",
       "49                 CEO & General Management   \n",
       "17   Information & Communication Technology   \n",
       "257  Information & Communication Technology   \n",
       "133                CEO & General Management   \n",
       "249                    Government & Defence   \n",
       "68                               Accounting   \n",
       "79             Banking & Financial Services   \n",
       "\n",
       "                          SubClassification  Avg Salary  \n",
       "132                   General Practitioners  412.234759  \n",
       "197                     Medical Specialists  367.311497  \n",
       "50                                 COO & MD  343.392157  \n",
       "49                                      CEO  311.245399  \n",
       "17                               Architects  282.348191  \n",
       "257          Programme & Project Management  252.101741  \n",
       "133           General/Business Unit Manager  248.575000  \n",
       "249                    Police & Corrections  243.220339  \n",
       "68                      Company Secretaries  225.684211  \n",
       "79   Corporate Finance & Investment Banking  210.496894  "
      ]
     },
     "execution_count": 52,
     "metadata": {},
     "output_type": "execute_result"
    }
   ],
   "source": [
    "avg_salary_df = pd.DataFrame(columns=['Classification', 'SubClassification', 'Avg Salary'])\n",
    "\n",
    "# Function that returns the classification for a particular sub classification\n",
    "def GetClass(df, subclass):\n",
    "    return df[df['SubClassification'] == subclass].Classification.values[0]\n",
    "\n",
    "range_avg = { '0 - 30' : 15, '30 - 40' : 35, '40 - 50' : 45, '50 - 60' : 55,  '60 - 70' : 65,\n",
    "    '70 - 80' : 75, '80 - 100' : 90, '100 - 120' : 110, '120 - 150' : 135, '150 - 200' : 175,\n",
    "    '200 - 999' : 599.5}\n",
    "\n",
    "\n",
    "current = salary_count_df.index[0][0]\n",
    "sums = 0\n",
    "total_jobs = 0\n",
    "\n",
    "# Loop to create a average salary data frame  \n",
    "for row in salary_count_df.iterrows():\n",
    "    subclass = row[0][0]\n",
    "    # If we have reached a new subclass to sum up calculate the average and append to the data frame\n",
    "    if subclass != current:\n",
    "        sums = sums / total_jobs\n",
    "        avg_salary_df = avg_salary_df.append({'Classification': GetClass(salary_df, current),\n",
    "                                              'SubClassification': current,\n",
    "                                             'Avg Salary': sums}, ignore_index=True)\n",
    "        current = subclass\n",
    "        sums = 0\n",
    "        total_jobs = 0\n",
    "        \n",
    "    \n",
    "    rng = row[0][1]\n",
    "    count = row[1]['Number of Jobs']\n",
    "    sums += range_avg[rng] * count\n",
    "    total_jobs += count\n",
    "    \n",
    "avg_salary_df.sort_values(by='Avg Salary', ascending=False).head(10)"
   ]
  },
  {
   "cell_type": "code",
   "execution_count": 53,
   "metadata": {},
   "outputs": [
    {
     "data": {
      "text/plain": [
       "<matplotlib.axes._subplots.AxesSubplot at 0x25899fc5940>"
      ]
     },
     "execution_count": 53,
     "metadata": {},
     "output_type": "execute_result"
    },
    {
     "data": {
      "image/png": "[encoded data removed]",
      "text/plain": [
       "<Figure size 864x720 with 1 Axes>"
      ]
     },
     "metadata": {
      "needs_background": "light"
     },
     "output_type": "display_data"
    }
   ],
   "source": [
    "plt.figure(figsize=(12, 10))\n",
    "ax = sns.swarmplot(x=\"Avg Salary\", y=\"Classification\", data=avg_salary_df)\n",
    "ax.set_title(\"Figure 9 - Sub Class Average Salaries grouped by Classification\")\n",
    "ax"
   ]
  },
  {
   "cell_type": "markdown",
   "metadata": {},
   "source": [
    "#### 3.2 Discussion\n",
    "The method of calculating the average salary for each sub classification involves first averaging the salary ranges themselves and then multiplying them by the number of jobs within that particular range. From Figure 8 the 0 – 30k range would be averaged to 15k and multiplied by 409 for the ‘Accounting & Relationship Management’ sub class. A dictionary all ‘range_avg’ was created to make access to the average of ranges easier. All the range averages are summed up and then divided by the total number of jobs to give the sub class average salary.\n",
    "\n",
    "Using the average salary data Figure 9 was created to represent the distribution of salaries for each of the classifications as a swarm plot. The graph allows us to see where the mode salaries lie for every classification. For example, ‘Information and Communication Technology’ jobs hover between the 150k and 200k salary range, there are also some outliers past 250k. It should be noted that the salary range of 200k – 999k skews the data at the high end of the salary averages. Because it has such a big distance between the salary low and high (799k) the average salaries above 200k are not very accurate. For example, the GP average salary isn’t going to be 412k a year (closer to 200k – 300k) but because the average of the range is 599.5k it brings it up.\n"
   ]
  },
  {
   "cell_type": "markdown",
   "metadata": {},
   "source": [
    "#### 3.3 What is the trending of market i.e. if a high school student asked you which subject should he/she learn in university (to guarantee a job in the future), what is your advice?"
   ]
  },
  {
   "cell_type": "code",
   "execution_count": 54,
   "metadata": {},
   "outputs": [
    {
     "name": "stdout",
     "output_type": "stream",
     "text": [
      "SubClassification\n",
      "Other                        11349\n",
      "Management                    6236\n",
      "Chefs/Cooks                   4600\n",
      "Administrative Assistants     4572\n",
      "Developers/Programmers        4211\n",
      "Retail Assistants             3902\n",
      "Name: SubClassification, dtype: int64\n"
     ]
    }
   ],
   "source": [
    "subclass_df = orig_df[['Date','SubClassification']].copy()\n",
    "top5 = subclass_df.groupby(['SubClassification'])['SubClassification'].count().sort_values(ascending=False).head(6)\n",
    "subclass_df['Month'] = pd.DatetimeIndex(subclass_df['Date']).month\n",
    "#subclass_df = subclass_df.drop(columns=['Date'])\n",
    "subclass_df = subclass_df.groupby(['SubClassification', 'Month'])['SubClassification'].count().reset_index(name='Postings').sort_values(['Postings'], ascending=False)\n",
    "print(top5)"
   ]
  },
  {
   "cell_type": "code",
   "execution_count": 55,
   "metadata": {},
   "outputs": [
    {
     "data": {
      "text/html": [
       "<div>\n",
       "<style scoped>\n",
       "    .dataframe tbody tr th:only-of-type {\n",
       "        vertical-align: middle;\n",
       "    }\n",
       "\n",
       "    .dataframe tbody tr th {\n",
       "        vertical-align: top;\n",
       "    }\n",
       "\n",
       "    .dataframe thead th {\n",
       "        text-align: right;\n",
       "    }\n",
       "</style>\n",
       "<table border=\"1\" class=\"dataframe\">\n",
       "  <thead>\n",
       "    <tr style=\"text-align: right;\">\n",
       "      <th></th>\n",
       "      <th>SubClassification</th>\n",
       "      <th>Month</th>\n",
       "      <th>Postings</th>\n",
       "    </tr>\n",
       "  </thead>\n",
       "  <tbody>\n",
       "    <tr>\n",
       "      <th>263</th>\n",
       "      <td>Developers/Programmers</td>\n",
       "      <td>10</td>\n",
       "      <td>2408</td>\n",
       "    </tr>\n",
       "    <tr>\n",
       "      <th>264</th>\n",
       "      <td>Developers/Programmers</td>\n",
       "      <td>11</td>\n",
       "      <td>789</td>\n",
       "    </tr>\n",
       "    <tr>\n",
       "      <th>265</th>\n",
       "      <td>Developers/Programmers</td>\n",
       "      <td>12</td>\n",
       "      <td>1014</td>\n",
       "    </tr>\n",
       "  </tbody>\n",
       "</table>\n",
       "</div>"
      ],
      "text/plain": [
       "          SubClassification  Month  Postings\n",
       "263  Developers/Programmers     10      2408\n",
       "264  Developers/Programmers     11       789\n",
       "265  Developers/Programmers     12      1014"
      ]
     },
     "execution_count": 55,
     "metadata": {},
     "output_type": "execute_result"
    }
   ],
   "source": [
    "#subclass_df = subclass_df[subclass_df.Month != 3]\n",
    "ls = ['Management', 'Chefs/Cooks', 'Administrative Assistants',\n",
    "                                                     'Developers/Programmers', 'Retail Assistants']\n",
    "subclass_df[subclass_df['SubClassification'].isin(ls)]\n",
    "chosen_subclass_df = subclass_df[subclass_df['SubClassification'] == 'Developers/Programmers']\n",
    "\n",
    "chosen_subclass_df = chosen_subclass_df.sort_values(by='Month')\n",
    "chosen_subclass_df.head()"
   ]
  },
  {
   "cell_type": "code",
   "execution_count": 56,
   "metadata": {},
   "outputs": [
    {
     "data": {
      "image/png": "[encoded data removed]",
      "text/plain": [
       "<Figure size 432x288 with 1 Axes>"
      ]
     },
     "metadata": {
      "needs_background": "light"
     },
     "output_type": "display_data"
    }
   ],
   "source": [
    "# Using weighted moving average\n",
    "def movingAvg(data, n):\n",
    "    pred = data[:]\n",
    "    for i in range(0, n):\n",
    "        x_1 = pred[-1] * 0.6\n",
    "        x_2 = pred[-2] * 0.3\n",
    "        x_3 = pred[-3] * 0.1\n",
    "        avg = (x_1 + x_2 + x_3)\n",
    "        pred.append(avg)\n",
    "    return pred\n",
    "\n",
    "f, ax = plt.subplots(1, 1)\n",
    "mv_avg = movingAvg(list(chosen_subclass_df['Postings'].values), 3)\n",
    "chosen_subclass_df['Month'] = [1,2,3]\n",
    "mv_avg_df = pd.DataFrame()\n",
    "mv_avg_df['Postings'] = mv_avg\n",
    "mv_avg_df['Month'] = [1,2,3,4,5,6]\n",
    "\n",
    "sns.pointplot(x='Month', y='Postings', data=mv_avg_df, color='g')\n",
    "sns.pointplot(x='Month', y='Postings', data=chosen_subclass_df, color='b')\n",
    "ax.legend(handles=ax.lines[::len(mv_avg_df)+1], labels=[\"3-WMA\", \"Actual\"])\n",
    "plt.xticks(range(len(mv_avg_df['Month'])+1) , mv_avg_df['Month'])\n",
    "plt.title('Figure 10 - 3-Month Weighted Moving Average vs. Actual')\n",
    "plt.show()"
   ]
  },
  {
   "cell_type": "markdown",
   "metadata": {},
   "source": [
    "#### 3.3 Discussion\n",
    "To identify what subjects would help a student deciding on her career path, it was necessary to first identify the leading job subclassifications (classifications were too general). The leading subclassifications were Management, Chefs/Cooks, Administrative Assistants, Developers/Programmers and Retail Assistants. We would need more information about the student to really come to a more precise conclusion. However, looking at the previous information we revealed about the most prominent job classifications among cities, Information & Communication Technology rated the highest among major cities within Australia. Due to this factor, the postings for Developers/Programmers were predicted for the next three months using a Forecasting technique - Weighted Moving Average. It would be smart to study programming if they wanted to guarantee a job in the future. "
   ]
  },
  {
   "cell_type": "markdown",
   "metadata": {},
   "source": [
    "# Part 3 - Evaluation"
   ]
  },
  {
   "cell_type": "markdown",
   "metadata": {},
   "source": [
    "### Part 1) What are the findings of your data analytics?\n",
    "\n",
    "The hypothesis regarding the salary of software developers was accurate, as can be seen from figure 2 the salaries are right skewed. With most jobs being between 80 – 999 ranges, there is a peek on left for the range 0 - 30 this likely includes both part-time / casual positions as well as posting which have not updated their range correctly.  \n",
    "\n",
    "Using K Means clustering and the attributes classification, subclassification, lowest salary and highest salary the classifier was not able to perform to the expected accuracy (predicted 60% accuracy, actual 38%), as mentioned before the main reasons for this being inaccurate data (salary ranges) and non-equal representations of job types.\n",
    "\n",
    "The assumption for the Information & Communication Technology sector was correct, the data set had 4211 jobs in the Developers/Programmers sub classification. However, the actual highlights for Trades & Services was ‘Automotive Trades’ at 3262 postings (not plumbing), 4600 Chefs/Cooks were sought after (the most of any sector) in Hospitality & Tourism.\n",
    "Due to the formatting of the salary ranges for jobs the prediction that CEO & General Management would be have the highest average salary isn’t verified by the data. This is likely caused by the fact that jobs earning over \\$200 000 are also lumped in with jobs earning over $1 million thus the sector with more postings in the 200 – 999 range would have a higher average salary even if the jobs in actuality on the lower end of the spectrum.\n",
    "\n",
    "The initial insight about market size within each city was that Melbourne, Sydney, Brisbane and ACT would have the highest market share size within Australia. Sydney, Melbourne, Brisbane, Perth and Adelaide were found to be the leading cities in the job market where they had the most advertised jobs within SEEK. \n",
    "\n",
    "When analysing job sectors by location, we wanted to find out the most advertised job sector within each city. We hypothesized that for Melbourne it would be Information and Communication Technology, for the Gold Coast it would be Hospitality or Trades & Services, for Brisbane it would be Information and Communication Technology and Transport Services, and for Sydney it would be Information Communication Technology or Real Estate. The analysis found that our hypothesis was correct for Melbourne, Gold Coast (only for Hospitality), Brisbane (only for Information Communication Technology) and Sydney (only for Information Communication Technology)\n",
    " \n",
    "An important question when looking at job markets within Australia is where is the income the highest for the job I want? We figued that Sydney would have the highest average salary since their living costs are high. The results show that ACT had an average highest salary of 198K and Sydney actually had an average of 134K. \n",
    "\n",
    "The pattern of posting was analysed to give insight into when employers would preferably posting their lastest job offering. We predicted that these postings would occur at the beginning of the month due to the fact that it would give the employers the 'rest of the month' for applications. The analysis resulted in a trend of mainly the 1st, 2nd and 3rd day with the most postings, and the last day of the month too. In considering this, the last day of the month is right before the start of the month and therefore, the hypothesis would still apply as those four days are only one day after another. \n",
    "\n",
    "We predicted that the most popular jobs in the future would be marketing or advertising, programming, architecture of business/system analyst. The findings shows us that the most popular job sub-sector being advertised was actually management, chefs/cook"
   ]
  },
  {
   "cell_type": "markdown",
   "metadata": {},
   "source": [
    "### Part 2) What actions for balancing the markets do you suggest based on your findings?\n",
    "Education departments should expose students to different job sectors, especially emerging fields such as Information and Communication Technology. This will enable our population to fill in the tens of thousands of jobs in the IT sector. Hundreds of IT jobs that do not get filled endup being exported overseas costing the Australian economy. Currently the education system focuses on the traditional subjects like English, Mathematics and Science, however the job market calls for skills within IT especially programming and development.\n",
    "\n",
    "In figure 9 it shows that Advertisements, Arts & Media are in the same pay range (50 - 100) as Trades & Services. Unless a persons focus is Performing Arts (which is in the 100 - 150 average salary range) it would be more benefical to take up a trade. For one, most trades offer an apprenticeship which allows the person to earn money from the get go unlike a university degree which actually costs money. Secondly, at a standard university a minimum of 3 years is  require for an Arts & Media degree if the student is full time (in the case of someone who has to financially suport themselves this can extend to 6 years). The government promoting Trades & Services as a viable career path with help fill in the gaps in the sector."
   ]
  },
  {
   "cell_type": "markdown",
   "metadata": {},
   "source": [
    "### Part 3) How could you refine your data analytics? "
   ]
  },
  {
   "cell_type": "markdown",
   "metadata": {},
   "source": [
    "#### 3.1 Could you use different data sources?\n",
    "The data set provided was gathered from seek.com using a web scraper, the same technique could also be applied to multiple other job posting sites such as jora, indeed, job seeker. The data analysis could be made more specialised for example looking at government job postings only using jobsearch.gov or provide specific analysis for graduates seeking jobs in their respective fields i.e. gradconnection. \n",
    "\n",
    "#### 3.2 Could you choose different parameters?\n",
    "For analysising the job market by locations, subclassification could have been used instead of classification to create a more specific highlight into what relevant skills and knowledge is needed for different cities when diving into the job market.\n",
    "\n",
    "#### 3.3 Could you choose other techniques?\n",
    "There are many other clustering algorithms that could have been chosen instead of K Means such as Support Vector Machine and Naïve Bayes classifiers.\n",
    "\n",
    "Seasonality is one of the more precise techniques in forecasting and if we had enough data (at least one year's worth), it would've been more accurate to apply the seasonality method against the time series data when making a prediction.\n",
    "\t\n",
    "#### 3.4 Can you think of ways to obtain more relevant data?\n",
    "As mentioned before a word parser to determine the actual salary range of jobs which left it at the default value would provide more relevant data likely improving the job type classifier. To get a better representation of the average salaries of jobs the addition of more salary ranges in the 200 – 999 range would also be beneficial.\n",
    "\n",
    "Due to the nature of a job posting website, as soon as a job has been closed it is removed from the visbility of users. The timeline of data obtained in one web scraping (based on this data) is around 6 months. To obtain enough data to do a year's analysis we would need to grab data from SEEK two times per year. It would also be beneficial to do an analysis straight after obtaining data to immediately predict future trends. "
   ]
  },
  {
   "cell_type": "markdown",
   "metadata": {},
   "source": [
    "### Part 4) Are there any implications for employers and employees based on the findings you obtained? Justify answer.\n",
    "#### Employers\n",
    "If you're posting a job within a competitive sector, it is important to list the correct salary range as employees will sometimes filter by the salary and your posting will not be present. Also it is important to have competitive pricing and an interesting description when posting within a high market share sector as the highest priced advertised job and employee benefits would have the most applicants when applying for the same sub-sector. \n",
    "\n",
    "#### Employees\n",
    "It is beneficial to look at different cities when applying within a particular job sector as some cities offer more salary for the same job sub-sector and experience. The most prominent sector within major cities falls under Information and Communication Technology, if an employee wanted to be able to have a vast variety of options within a particular sector they would study IT. If you are needing to earn money straight away, the second most advertised job is management (which can be acquired through experience in the industry) or chefs/cooks which may require a paid apprenticeship or in some cases just some form of experience.  "
   ]
  }
 ],
 "metadata": {
  "kernelspec": {
   "display_name": "Python 3",
   "language": "python",
   "name": "python3"
  },
  "language_info": {
   "codemirror_mode": {
    "name": "ipython",
    "version": 3
   },
   "file_extension": ".py",
   "mimetype": "text/x-python",
   "name": "python",
   "nbconvert_exporter": "python",
   "pygments_lexer": "ipython3",
   "version": "3.6.5"
  }
 },
 "nbformat": 4,
 "nbformat_minor": 2
}
